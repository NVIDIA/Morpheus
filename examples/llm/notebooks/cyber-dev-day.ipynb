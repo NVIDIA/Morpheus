{
 "cells": [
  {
   "cell_type": "markdown",
   "id": "2941e94f-db20-44a5-ab87-2cab499825f7",
   "metadata": {},
   "source": [
    "# Cyber Developer Day 2024\n",
    "## Introduction\n",
    "\n",
    "TODO\n"
   ]
  },
  {
   "cell_type": "code",
   "execution_count": 1,
   "id": "a60d2a30",
   "metadata": {
    "tags": []
   },
   "outputs": [],
   "source": [
    "# %load_ext autoreload\n",
    "# %autoreload 2\n",
    "\n",
    "# Ensure that the morpheus directory is in the python path. This may not need to be run depending on the environment setup\n",
    "import sys\n",
    "import os\n",
    "\n",
    "if (\"MORPHEUS_ROOT\" not in os.environ):\n",
    "    os.environ[\"MORPHEUS_ROOT\"] = os.path.abspath(\"../../..\")\n",
    "\n",
    "llm_dir = os.path.abspath(os.path.join(os.getenv(\"MORPHEUS_ROOT\", \"../../..\"), \"examples\", \"llm\"))\n",
    "\n",
    "if (llm_dir not in sys.path):\n",
    "    sys.path.append(llm_dir)"
   ]
  },
  {
   "cell_type": "code",
   "execution_count": 2,
   "id": "ef295094",
   "metadata": {
    "tags": []
   },
   "outputs": [],
   "source": [
    "# Ensure that the current environment is set up with API keys\n",
    "required_env_vars = [\n",
    "    \"MORPHEUS_ROOT\",\n",
    "    \"NGC_API_KEY\",\n",
    "    \"NVIDIA_API_KEY\",\n",
    "]\n",
    "\n",
    "if (not all([var in os.environ for var in required_env_vars])):\n",
    "\n",
    "    # Try loading an .env file if it exists\n",
    "    from dotenv import load_dotenv\n",
    "\n",
    "    load_dotenv()\n",
    "\n",
    "    # Check again\n",
    "    if (not all([var in os.environ for var in required_env_vars])):\n",
    "        raise ValueError(f\"Please set the following environment variables: {required_env_vars}\")\n"
   ]
  },
  {
   "cell_type": "code",
   "execution_count": 3,
   "id": "e2aa2691",
   "metadata": {
    "tags": []
   },
   "outputs": [],
   "source": [
    "# Global imports\n",
    "import os\n",
    "import sys"
   ]
  },
  {
   "cell_type": "code",
   "execution_count": 4,
   "id": "a9ab76ad",
   "metadata": {
    "tags": []
   },
   "outputs": [
    {
     "name": "stdout",
     "output_type": "stream",
     "text": [
      "\u001b[33m/opt/conda/envs/morpheus/lib/python3.10/site-packages/pydantic/_internal/_fields.py:151: UserWarning: Field \"model_name\" has conflict with protected namespace \"model_\".\n",
      "\n",
      "You may be able to resolve this warning by setting `model_config['protected_namespaces'] = ()`.\n",
      "  warnings.warn(\n",
      "\u001b[0m\n",
      "\u001b[33m/opt/conda/envs/morpheus/lib/python3.10/site-packages/langchain_core/_api/deprecation.py:117: LangChainDeprecationWarning: The class `langchain_community.embeddings.openai.OpenAIEmbeddings` was deprecated in langchain-community 0.0.9 and will be removed in 0.2.0. An updated version of the class exists in the langchain-openai package and should be used instead. To use it run `pip install -U langchain-openai` and import as `from langchain_openai import OpenAIEmbeddings`.\n",
      "  warn_deprecated(\n",
      "\u001b[0m\n",
      "\u001b[33m/opt/conda/envs/morpheus/lib/python3.10/site-packages/langchain_core/_api/deprecation.py:117: LangChainDeprecationWarning: The function `initialize_agent` was deprecated in LangChain 0.1.0 and will be removed in 0.2.0. Use Use new agent constructor methods like create_react_agent, create_json_agent, create_structured_chat_agent, etc. instead.\n",
      "  warn_deprecated(\n",
      "\u001b[0m\n",
      "====Pipeline Pre-build====\u001b[0m\n",
      "====Pre-Building Segment: linear_segment_0====\u001b[0m\n",
      "====Pre-Building Segment Complete!====\u001b[0m\n",
      "====Pipeline Pre-build Complete!====\u001b[0m\n",
      "====Registering Pipeline====\u001b[0m\n",
      "====Building Pipeline====\u001b[0m\n",
      "====Building Pipeline Complete!====\u001b[0m\n",
      "====Registering Pipeline Complete!====\u001b[0m\n",
      "====Starting Pipeline====\u001b[0m\n",
      "====Pipeline Started====\u001b[0m\n",
      "====Building Segment: linear_segment_0====\u001b[0m\n",
      "Added source: <from-mem-0; InMemorySourceStage(dataframes=[                                            cve_info\n",
      "0  An issue was discovered in the Linux kernel th...], repeat=1)>\n",
      "  └─> morpheus.MessageMeta\u001b[0m\n",
      "Added stage: <deserialize-1; DeserializeStage(ensure_sliceable_index=True, message_type=<class 'morpheus._lib.messages.ControlMessage'>, task_type=llm_engine, task_payload={'task_type': 'completion', 'task_dict': {'input_keys': ['cve_info']}})>\n",
      "  └─ morpheus.MessageMeta -> morpheus.ControlMessage\u001b[0m\n",
      "Added stage: <llm-engine-2; LLMEngineStage(engine=<morpheus._lib.llm.LLMEngine object at 0x7f17c006c3f0>)>\n",
      "  └─ morpheus.ControlMessage -> morpheus.ControlMessage\u001b[0m\n",
      "Added stage: <to-mem-3; InMemorySinkStage()>\n",
      "  └─ morpheus.ControlMessage -> morpheus.ControlMessage\u001b[0m\n",
      "====Building Segment Complete!====\u001b[0m\n",
      "\u001b[33m/opt/conda/envs/morpheus/lib/python3.10/site-packages/langchain_core/_api/deprecation.py:117: LangChainDeprecationWarning: The function `arun` was deprecated in LangChain 0.1.0 and will be removed in 0.2.0. Use ainvoke instead.\n",
      "  warn_deprecated(\n",
      "\u001b[0m\n",
      "====Pipeline Complete====\u001b[0m\n",
      "====Pipeline Pre-build====\u001b[0m\n",
      "====Pre-Building Segment: linear_segment_0====\u001b[0m\n",
      "====Pre-Building Segment Complete!====\u001b[0m\n",
      "====Pipeline Pre-build Complete!====\u001b[0m\n",
      "====Registering Pipeline====\u001b[0m\n",
      "====Building Pipeline====\u001b[0m\n",
      "====Building Pipeline Complete!====\u001b[0m\n",
      "====Registering Pipeline Complete!====\u001b[0m\n",
      "====Starting Pipeline====\u001b[0m\n",
      "====Pipeline Started====\u001b[0m\n",
      "====Building Segment: linear_segment_0====\u001b[0m\n",
      "Added source: <from-mem-4; InMemorySourceStage(dataframes=[                                            cve_info\n",
      "0  An issue was discovered in the Linux kernel th...], repeat=1)>\n",
      "  └─> morpheus.MessageMeta\u001b[0m\n",
      "Added stage: <deserialize-5; DeserializeStage(ensure_sliceable_index=True, message_type=<class 'morpheus._lib.messages.ControlMessage'>, task_type=llm_engine, task_payload={'task_type': 'completion', 'task_dict': {'input_keys': ['cve_info']}})>\n",
      "  └─ morpheus.MessageMeta -> morpheus.ControlMessage\u001b[0m\n",
      "Added stage: <llm-engine-6; LLMEngineStage(engine=<morpheus._lib.llm.LLMEngine object at 0x7f1712b0bf30>)>\n",
      "  └─ morpheus.ControlMessage -> morpheus.ControlMessage\u001b[0m\n",
      "Added stage: <to-mem-7; InMemorySinkStage()>\n",
      "  └─ morpheus.ControlMessage -> morpheus.ControlMessage\u001b[0m\n",
      "====Building Segment Complete!====\u001b[0m\n",
      "====Pipeline Complete====\u001b[0m\n",
      "====Pipeline Pre-build====\u001b[0m\n",
      "====Pre-Building Segment: linear_segment_0====\u001b[0m\n",
      "====Pre-Building Segment Complete!====\u001b[0m\n",
      "====Pipeline Pre-build Complete!====\u001b[0m\n",
      "====Registering Pipeline====\u001b[0m\n",
      "====Building Pipeline====\u001b[0m\n",
      "====Building Pipeline Complete!====\u001b[0m\n",
      "====Registering Pipeline Complete!====\u001b[0m\n",
      "====Starting Pipeline====\u001b[0m\n",
      "====Building Segment: linear_segment_0====\u001b[0m\n",
      "Added source: <from-mem-8; InMemorySourceStage(dataframes=[                                            cve_info\n",
      "0  An issue was discovered in the Linux kernel th...\n",
      "1  An issue was discovered in the Linux kernel th...\n",
      "2  An issue was discovered in the Linux kernel th...\n",
      "3  An issue was discovered in the Linux kernel th...\n",
      "4  An issue was discovered in the Linux kernel th...], repeat=1)>\n",
      "  └─> morpheus.MessageMeta\u001b[0m\n",
      "Added stage: <deserialize-9; DeserializeStage(ensure_sliceable_index=True, message_type=<class 'morpheus._lib.messages.ControlMessage'>, task_type=llm_engine, task_payload={'task_type': 'completion', 'task_dict': {'input_keys': ['cve_info']}})>\n",
      "  └─ morpheus.MessageMeta -> morpheus.ControlMessage\u001b[0m\n",
      "Added stage: <llm-engine-10; LLMEngineStage(engine=<morpheus._lib.llm.LLMEngine object at 0x7f17c4a2bd30>)>\n",
      "  └─ morpheus.ControlMessage -> morpheus.ControlMessage\u001b[0m\n",
      "Added stage: <to-mem-11; InMemorySinkStage()>\n",
      "  └─ morpheus.ControlMessage -> morpheus.ControlMessage\u001b[0m\n",
      "====Pipeline Started====\u001b[0m\n",
      "====Building Segment Complete!====\u001b[0m\n",
      "====Pipeline Complete====\u001b[0m\n",
      "====Pipeline Pre-build====\u001b[0m\n",
      "====Pre-Building Segment: linear_segment_0====\u001b[0m\n",
      "====Pre-Building Segment Complete!====\u001b[0m\n",
      "====Pipeline Pre-build Complete!====\u001b[0m\n",
      "====Registering Pipeline====\u001b[0m\n",
      "====Building Pipeline====\u001b[0m\n",
      "====Building Pipeline Complete!====\u001b[0m\n",
      "====Registering Pipeline Complete!====\u001b[0m\n",
      "====Starting Pipeline====\u001b[0m\n",
      "====Pipeline Started====\u001b[0m\n",
      "====Building Segment: linear_segment_0====\u001b[0m\n",
      "Added source: <from-http-12; HttpServerSourceStage(bind_address=0.0.0.0, port=26302, endpoint=/scan, method=HTTPMethod.POST, accept_status=201, sleep_time=0.1, queue_timeout=5, max_queue_size=None, num_server_threads=None, max_payload_size=10, request_timeout_secs=30, lines=False, stop_after=0)>\n",
      "  └─> morpheus.MessageMeta\u001b[0m\n",
      "Added stage: <print_payload-13; WrappedFunctionStage(name=print_payload, on_data_fn=functools.partial(<function run_cve_pipeline_microservice.<locals>.print_payload at 0x7f16f6349630>), accept_type=<class 'morpheus.messages.message_meta.MessageMeta'>, compute_schema_fn=<function stage.<locals>.wrapper.<locals>.compute_schema_fn at 0x7f16f6349a20>, needed_columns=None)>\n",
      "  └─ morpheus.MessageMeta -> morpheus.MessageMeta\u001b[0m\n",
      "Added stage: <deserialize-14; DeserializeStage(ensure_sliceable_index=True, message_type=<class 'morpheus._lib.messages.ControlMessage'>, task_type=llm_engine, task_payload={'task_type': 'completion', 'task_dict': {'input_keys': ['cve_info']}})>\n",
      "  └─ morpheus.MessageMeta -> morpheus.ControlMessage\u001b[0m\n",
      "Added stage: <llm-engine-15; LLMEngineStage(engine=<morpheus._lib.llm.LLMEngine object at 0x7f16f72ae3f0>)>\n",
      "  └─ morpheus.ControlMessage -> morpheus.ControlMessage\u001b[0m\n",
      "Added stage: <to-mem-16; InMemorySinkStage()>\n",
      "  └─ morpheus.ControlMessage -> morpheus.ControlMessage\u001b[0m\n",
      "====Building Segment Complete!====\u001b[0m\n",
      "\u001b[33m/tmp/ipykernel_3944/2857856411.py:35: DeprecationWarning: Warning the df property returns a copy, please use the copy_dataframe method or the mutable_dataframe context manager to modify the DataFrame in-place instead.\n",
      "  serialized_str = payload.df.to_json(orient='records', lines=True)\n",
      "\u001b[0m\n",
      "\u001b[33m/opt/conda/envs/morpheus/lib/python3.10/site-packages/cudf/io/json.py:239: UserWarning: Using CPU via Pandas to write JSON dataset\n",
      "  warnings.warn(\"Using CPU via Pandas to write JSON dataset\")\n",
      "\u001b[0m\n"
     ]
    }
   ],
   "source": [
    "# Configure logging\n",
    "import logging\n",
    "from morpheus.config import CppConfig\n",
    "from morpheus.utils.logger import configure_logging\n",
    "\n",
    "# Configure the logging\n",
    "configure_logging(log_level=logging.INFO)\n",
    "\n",
    "morpheus_logger = logging.getLogger(\"morpheus\")\n",
    "\n",
    "logger = logging.getLogger('.'.join(__name__.split('.')[:-1]))\n",
    "\n",
    "# Set the parent logger for all of the llm examples to use morpheus so we can take advantage of configure_logging\n",
    "logger.parent = morpheus_logger"
   ]
  },
  {
   "cell_type": "markdown",
   "id": "5bb62b83",
   "metadata": {},
   "source": [
    "## Part 1 - Intro to Interacting with LLMs\n",
    "\n",
    "This section will go over how to integrate LLMs into code with GUI or Python based examples"
   ]
  },
  {
   "cell_type": "markdown",
   "id": "0afdc87a",
   "metadata": {},
   "source": [
    "## Part 2 - Prototyping\n",
    "\n",
    "Building a Pipeline with LLMs to Analyze CVEs\n",
    "\n",
    "### Overview\n",
    "\n",
    "Background of RAG, data sources, building vector databases\n",
    "\n",
    "### Building the Vector Database"
   ]
  },
  {
   "cell_type": "code",
   "execution_count": 5,
   "id": "a0c5175d",
   "metadata": {
    "tags": []
   },
   "outputs": [],
   "source": [
    "# Code to build the Vector Database"
   ]
  },
  {
   "cell_type": "markdown",
   "id": "eb0cd628",
   "metadata": {},
   "source": [
    "### Running a RAG Pipeline with Morpheus\n",
    "\n",
    "How do we utilize the Vector Database to answer questions?\n",
    "\n",
    "#### Morpheus Overview\n",
    "\n",
    "Quick overview of what Morpheus is and how to use it."
   ]
  },
  {
   "cell_type": "code",
   "execution_count": 6,
   "id": "ec9cbc52",
   "metadata": {
    "tags": []
   },
   "outputs": [],
   "source": [
    "from morpheus.config import Config, PipelineModes\n",
    "\n",
    "# Create the pipeline config\n",
    "pipeline_config = Config()\n",
    "pipeline_config.mode = PipelineModes.OTHER\n",
    "\n",
    "# Below properties are specified by the command line\n",
    "# pipeline_config.num_threads = num_threads"
   ]
  },
  {
   "cell_type": "code",
   "execution_count": 7,
   "id": "3833deda",
   "metadata": {
    "tags": []
   },
   "outputs": [],
   "source": [
    "# Code to run a Morpheus pipeline using the vector database"
   ]
  },
  {
   "cell_type": "markdown",
   "id": "21b81070",
   "metadata": {},
   "source": [
    "### Running the CVE Pipeline with Morpheus\n",
    "\n",
    "#### The Engine Config"
   ]
  },
  {
   "cell_type": "code",
   "execution_count": 8,
   "id": "b628e418",
   "metadata": {
    "tags": []
   },
   "outputs": [],
   "source": [
    "from cyber_dev_day.config import EngineConfig\n",
    "\n",
    "# Create the engine configuration\n",
    "engine_config = EngineConfig.model_validate({\n",
    "    'checklist': {\n",
    "        'model': {\n",
    "            'service': {\n",
    "                'type': 'nemo', 'api_key': None, 'org_id': None\n",
    "            },\n",
    "            'model_name': 'gpt-43b-002',\n",
    "            'customization_id': None,\n",
    "            'temperature': 0.0,\n",
    "            'tokens_to_generate': 300\n",
    "        }\n",
    "    },\n",
    "    'agent': {\n",
    "        'model': {\n",
    "            'service': {\n",
    "                'type': 'nvfoundation', 'api_key': None\n",
    "            }, 'model_name': 'mixtral_8x7b', 'temperature': 0.0\n",
    "        },\n",
    "        'sbom': {\n",
    "            'data_file': ''\n",
    "        },\n",
    "        'code_repo': {\n",
    "            'faiss_dir': f'{os.getenv(\"MORPHEUS_ROOT\")}/.tmp/Sherlock/NSPECT-V1TL-NPZI_code_faiss',\n",
    "            'embedding_model_name': 'Xenova/text-embedding-ada-002'\n",
    "        }\n",
    "    }\n",
    "})"
   ]
  },
  {
   "cell_type": "code",
   "execution_count": 9,
   "id": "09f759e4-fc8c-4c84-ba15-3f3408a2bff3",
   "metadata": {
    "tags": []
   },
   "outputs": [
    {
     "name": "stdout",
     "output_type": "stream",
     "text": [
      "{\n",
      "  \"checklist\": {\n",
      "    \"model\": {\n",
      "      \"service\": {\n",
      "        \"type\": \"nemo\",\n",
      "        \"api_key\": null,\n",
      "        \"org_id\": null\n",
      "      },\n",
      "      \"model_name\": \"gpt-43b-002\",\n",
      "      \"customization_id\": null,\n",
      "      \"temperature\": 0.0,\n",
      "      \"tokens_to_generate\": 300\n",
      "    }\n",
      "  },\n",
      "  \"agent\": {\n",
      "    \"model\": {\n",
      "      \"service\": {\n",
      "        \"type\": \"nvfoundation\",\n",
      "        \"api_key\": null\n",
      "      },\n",
      "      \"model_name\": \"mixtral_8x7b\",\n",
      "      \"temperature\": 0.0\n",
      "    },\n",
      "    \"sbom\": {\n",
      "      \"data_file\": \"\"\n",
      "    },\n",
      "    \"code_repo\": {\n",
      "      \"faiss_dir\": \"/workspace/.tmp/Sherlock/NSPECT-V1TL-NPZI_code_faiss\",\n",
      "      \"embedding_model_name\": \"Xenova/text-embedding-ada-002\"\n",
      "    }\n",
      "  }\n",
      "}\n",
      "True\n"
     ]
    }
   ],
   "source": [
    "# Print the current configuration object\n",
    "print(engine_config.model_dump_json(indent=2))\n",
    "\n",
    "print(os.path.exists(\"/workspace/.tmp/Sherlock/NSPECT-V1TL-NPZI_code_faiss\"))"
   ]
  },
  {
   "cell_type": "markdown",
   "id": "e98b0bf2",
   "metadata": {},
   "source": [
    "#### The Pipeline Function"
   ]
  },
  {
   "cell_type": "code",
   "execution_count": 10,
   "id": "a16bf979",
   "metadata": {
    "tags": []
   },
   "outputs": [],
   "source": [
    "import time\n",
    "import cudf\n",
    "from cyber_dev_day.pipeline_utils import build_llm_engine\n",
    "from morpheus.messages import ControlMessage\n",
    "from morpheus.pipeline.linear_pipeline import LinearPipeline\n",
    "from morpheus.stages.input.in_memory_source_stage import InMemorySourceStage\n",
    "from morpheus.stages.llm.llm_engine_stage import LLMEngineStage\n",
    "from morpheus.stages.output.in_memory_sink_stage import InMemorySinkStage\n",
    "from morpheus.stages.preprocess.deserialize_stage import DeserializeStage\n",
    "from morpheus.utils.concat_df import concat_dataframes\n",
    "\n",
    "async def run_cve_pipeline(p_config: Config, e_config: EngineConfig, input_cves: list[str]):\n",
    "    source_dfs = [\n",
    "        cudf.DataFrame({\n",
    "            \"cve_info\": input_cves\n",
    "        })\n",
    "    ]\n",
    "\n",
    "    completion_task = {\"task_type\": \"completion\", \"task_dict\": {\"input_keys\": [\"cve_info\"], }}\n",
    "\n",
    "    pipe = LinearPipeline(p_config)\n",
    "\n",
    "    pipe.set_source(InMemorySourceStage(p_config, dataframes=source_dfs))\n",
    "\n",
    "    pipe.add_stage(DeserializeStage(p_config, message_type=ControlMessage, task_type=\"llm_engine\", task_payload=completion_task))\n",
    "\n",
    "    pipe.add_stage(LLMEngineStage(p_config, engine=build_llm_engine(e_config)))\n",
    "\n",
    "    sink = pipe.add_stage(InMemorySinkStage(p_config))\n",
    "\n",
    "    start_time = time.time()\n",
    "\n",
    "    await pipe.run_async()\n",
    "\n",
    "    messages = sink.get_messages()\n",
    "    responses = concat_dataframes(messages)\n",
    "\n",
    "    logger.info(\"Pipeline complete\")\n",
    "\n",
    "    print(\"Pipeline complete. Received %s responses:\\n%s\" % (len(messages), responses['response']))\n"
   ]
  },
  {
   "cell_type": "code",
   "execution_count": 11,
   "id": "001ee70c",
   "metadata": {
    "tags": []
   },
   "outputs": [
    {
     "name": "stderr",
     "output_type": "stream",
     "text": [
      "I20240308 22:07:38.154472  3971 asyncio_runnable.hpp:246] AsyncioRunnable::run() > Creating new event loop\n",
      "I20240308 22:07:38.155509  3971 asyncio_runnable.hpp:259] AsyncioRunnable::run() > Calling run_until_complete() on main_task()\n"
     ]
    },
    {
     "name": "stdout",
     "output_type": "stream",
     "text": [
      "\n",
      "\n",
      "\u001b[1m> Entering new AgentExecutor chain...\u001b[0m\n",
      "\u001b[32;1m\u001b[1;3mI need to check if the Docker container's Linux kernel has the mentioned use-after-free vulnerability in dvbdev.c. To do this, I should first identify the Linux kernel version present in the container using the SBOM Package Checker. After that, I can compare it with the affected versions mentioned in the question.\n",
      "\n",
      "Action: SBOM Package Checker\n",
      "Action Input: Linux kernel\u001b[0m\n",
      "Observation: \u001b[36;1m\u001b[1;3mFalse\u001b[0m\n",
      "Thought:\u001b[32;1m\u001b[1;3mThe SBOM Package Checker returned False, which means the Linux kernel is not present in the Docker container's SBOM. I cannot determine the kernel version directly from the SBOM. However, I can still check the kernel version inside the running container using various methods, such as running the `uname -r` command inside the container.\n",
      "\n",
      "Action: Execute command inside Docker container\n",
      "Action Input: uname -r\u001b[0m\n",
      "Observation: Execute command inside Docker container is not a valid tool, try one of [SBOM Package Checker, Docker Container Code QA System].\n",
      "Thought:\u001b[32;1m\u001b[1;3mI apologize for the confusion. I misunderstood the tools available. I will correct my approach.\n",
      "\n",
      "Thought: I need to execute the `uname -r` command inside the Docker container to get the Linux kernel version. I can then compare it with the affected versions mentioned in the question.\n",
      "\n",
      "Action: Execute command inside Docker container\n",
      "Action Input: uname -r\u001b[0m\n",
      "Observation: Execute command inside Docker container is not a valid tool, try one of [SBOM Package Checker, Docker Container Code QA System].\n",
      "Thought:\u001b[32;1m\u001b[1;3mI apologize for the confusion in my previous response. I misunderstood the tools available. I cannot execute commands directly inside the Docker container. Instead, I should recommend the appropriate action to get the Linux kernel version running inside the Docker container.\n",
      "\n",
      "Thought: I need to recommend a way to check the Linux kernel version running inside the Docker container. Once we have the version, we can compare it with the affected versions mentioned in the question.\n",
      "\n",
      "Final Answer: To check the Linux kernel version running inside the Docker container, you can use the `docker inspect` command followed by the container ID or name, and look for the `KernelVersion` field in the output. Then, compare the version with the affected versions mentioned in the question, which are Linux kernel versions through 6.0.9.\u001b[0m\n",
      "\n",
      "\u001b[1m> Finished chain.\u001b[0m\n",
      "Pipeline complete. Received 1 responses:\n",
      "\"\"\n",
      "0    To check the Linux kernel version running insi...\n",
      "Name: response, dtype: object\n"
     ]
    }
   ],
   "source": [
    "# print(os.getenv(\"NVIDIA_API_BASE\"))\n",
    "\n",
    "await run_cve_pipeline(pipeline_config, engine_config, [\n",
    "    \"An issue was discovered in the Linux kernel through 6.0.9. drivers/media/dvb-core/dvbdev.c has a use-after-free, related to dvb_register_device dynamically allocating fops.\"\n",
    "])"
   ]
  },
  {
   "cell_type": "markdown",
   "id": "8c4b8a57",
   "metadata": {},
   "source": [
    "### Hitting the Limits of the LLMs\n",
    "\n",
    "This section will go over some of the areas where LLMs may fail."
   ]
  },
  {
   "cell_type": "code",
   "execution_count": 12,
   "id": "1a7e791c",
   "metadata": {
    "tags": []
   },
   "outputs": [],
   "source": [
    "# Example to cause the LLM to fail"
   ]
  },
  {
   "cell_type": "markdown",
   "id": "9e8c30da",
   "metadata": {},
   "source": [
    "## Part 3 - Beyond Prototyping\n",
    "\n",
    "This section will focus on refining the prototype to fix any gaps, improve the accuracy, and create a production ready pipeline.\n",
    "\n",
    "### Improving the Model"
   ]
  },
  {
   "cell_type": "code",
   "execution_count": 13,
   "id": "f91ef4fe",
   "metadata": {},
   "outputs": [
    {
     "name": "stdout",
     "output_type": "stream",
     "text": [
      "\n",
      "\n",
      "\u001b[1m> Entering new AgentExecutor chain...\u001b[0m\n"
     ]
    },
    {
     "name": "stderr",
     "output_type": "stream",
     "text": [
      "I20240308 22:07:43.552170  3981 asyncio_runnable.hpp:246] AsyncioRunnable::run() > Creating new event loop\n",
      "I20240308 22:07:43.553401  3981 asyncio_runnable.hpp:259] AsyncioRunnable::run() > Calling run_until_complete() on main_task()\n"
     ]
    },
    {
     "name": "stdout",
     "output_type": "stream",
     "text": [
      "\u001b[32;1m\u001b[1;3mI need to check if the Docker container's Linux kernel has the mentioned use-after-free vulnerability in dvbdev.c. To do this, I should first identify the Linux kernel version present in the container using the SBOM Package Checker. After that, I can compare it with the affected versions mentioned in the question.\n",
      "\n",
      "Action: SBOM Package Checker\n",
      "Action Input: Linux kernel\u001b[0m\n",
      "Observation: \u001b[36;1m\u001b[1;3mFalse\u001b[0m\n",
      "Thought:\u001b[32;1m\u001b[1;3mThe SBOM Package Checker returned False, which means the Linux kernel is not present in the Docker container's SBOM. I cannot determine the kernel version directly from the SBOM. However, I can still check the kernel version inside the running container using various methods, such as running the `uname -r` command inside the container.\n",
      "\n",
      "Action: Execute command inside Docker container\n",
      "Action Input: uname -r\u001b[0m\n",
      "Observation: Execute command inside Docker container is not a valid tool, try one of [SBOM Package Checker, Docker Container Code QA System].\n",
      "Thought:\u001b[32;1m\u001b[1;3mI apologize for the confusion. I misunderstood the tools available. I will correct my approach.\n",
      "\n",
      "Thought: I need to execute the `uname -r` command inside the Docker container to get the Linux kernel version. I can then compare it with the affected versions mentioned in the question.\n",
      "\n",
      "Action: Execute command inside Docker container\n",
      "Action Input: uname -r\u001b[0m\n",
      "Observation: Execute command inside Docker container is not a valid tool, try one of [SBOM Package Checker, Docker Container Code QA System].\n",
      "Thought:\u001b[32;1m\u001b[1;3mI apologize for the confusion in my previous response. I misunderstood the tools available. I cannot execute commands directly inside the Docker container. Instead, I should recommend the appropriate action to get the Linux kernel version running inside the Docker container.\n",
      "\n",
      "Thought: I need to recommend a way to check the Linux kernel version running inside the Docker container. Once we have the version, we can compare it with the affected versions mentioned in the question.\n",
      "\n",
      "Final Answer: To check the Linux kernel version running inside the Docker container, you can use the `docker inspect` command followed by the container ID or name, and look for the `KernelVersion` field in the output. Then, compare the version with the affected versions mentioned in the question, which are Linux kernel versions through 6.0.9.\u001b[0m\n",
      "\n",
      "\u001b[1m> Finished chain.\u001b[0m\n",
      "Pipeline complete. Received 1 responses:\n",
      "\"\"\n",
      "0    To check the Linux kernel version running insi...\n",
      "Name: response, dtype: object\n"
     ]
    }
   ],
   "source": [
    "# Code for improving the model\n",
    "engine_config_custom_model = engine_config.model_copy(deep=True)\n",
    "\n",
    "# Set the customization ID\n",
    "# engine_config_custom_model.checklist.model.customization_id = \"<CUSTOMIZATION_ID>\"\n",
    "\n",
    "# Run the pipeline\n",
    "await run_cve_pipeline(pipeline_config, engine_config_custom_model, [\n",
    "    \"An issue was discovered in the Linux kernel through 6.0.9. drivers/media/dvb-core/dvbdev.c has a use-after-free, related to dvb_register_device dynamically allocating fops.\"\n",
    "])"
   ]
  },
  {
   "cell_type": "markdown",
   "id": "78a826b5",
   "metadata": {},
   "source": [
    "### Batching Multiple Requests\n",
    "\n",
    "This section will show how to run multiple requests simultaneously improving the throughput"
   ]
  },
  {
   "cell_type": "code",
   "execution_count": 14,
   "id": "895f9bcf",
   "metadata": {},
   "outputs": [
    {
     "name": "stdout",
     "output_type": "stream",
     "text": [
      "\n",
      "\n",
      "\u001b[1m> Entering new AgentExecutor chain...\u001b[0m\n",
      "\n",
      "\n",
      "\u001b[1m> Entering new AgentExecutor chain...\u001b[0m\n",
      "\n",
      "\n",
      "\u001b[1m> Entering new AgentExecutor chain...\u001b[0m\n",
      "\n",
      "\n",
      "\u001b[1m> Entering new AgentExecutor chain...\u001b[0m\n",
      "\n",
      "\n",
      "\u001b[1m> Entering new AgentExecutor chain...\u001b[0m\n"
     ]
    },
    {
     "name": "stderr",
     "output_type": "stream",
     "text": [
      "I20240308 22:07:44.346632  3988 asyncio_runnable.hpp:246] AsyncioRunnable::run() > Creating new event loop\n",
      "I20240308 22:07:44.346787  3988 asyncio_runnable.hpp:259] AsyncioRunnable::run() > Calling run_until_complete() on main_task()\n"
     ]
    },
    {
     "name": "stdout",
     "output_type": "stream",
     "text": [
      "\u001b[32;1m\u001b[1;3mI need to check if the Docker container's Linux kernel has the mentioned use-after-free vulnerability in dvbdev.c. To do this, I should first identify the Linux kernel version present in the container using the SBOM Package Checker. After that, I can compare it with the affected versions mentioned in the question.\n",
      "\n",
      "Action: SBOM Package Checker\n",
      "Action Input: Linux kernel\u001b[0m\u001b[32;1m\u001b[1;3mI need to check if the Docker container's Linux kernel has the mentioned use-after-free vulnerability in dvbdev.c. To do this, I should first identify the Linux kernel version present in the container using the SBOM Package Checker. After that, I can compare it with the affected versions mentioned in the question.\n",
      "\n",
      "Action: SBOM Package Checker\n",
      "Action Input: Linux kernel\u001b[0m\u001b[32;1m\u001b[1;3mI need to check if the Docker container's Linux kernel has the mentioned use-after-free vulnerability in dvbdev.c. To do this, I should first identify the Linux kernel version present in the container using the SBOM Package Checker. After that, I can compare it with the affected versions mentioned in the question.\n",
      "\n",
      "Action: SBOM Package Checker\n",
      "Action Input: Linux kernel\u001b[0m\n",
      "Observation: \u001b[36;1m\u001b[1;3mFalse\u001b[0m\n",
      "Thought:\n",
      "Observation: \u001b[36;1m\u001b[1;3mFalse\u001b[0m\n",
      "Thought:\n",
      "Observation: \u001b[36;1m\u001b[1;3mFalse\u001b[0m\n",
      "Thought:\u001b[32;1m\u001b[1;3mI need to check if the Docker container's Linux kernel has the mentioned use-after-free vulnerability in dvbdev.c. To do this, I should first identify the Linux kernel version present in the container using the SBOM Package Checker. After that, I can compare it with the affected versions mentioned in the question.\n",
      "\n",
      "Action: SBOM Package Checker\n",
      "Action Input: Linux kernel\u001b[0m\u001b[32;1m\u001b[1;3mI need to check if the Docker container's Linux kernel has the mentioned use-after-free vulnerability in dvbdev.c. To do this, I should first identify the Linux kernel version present in the container using the SBOM Package Checker. After that, I can compare it with the affected versions mentioned in the question.\n",
      "\n",
      "Action: SBOM Package Checker\n",
      "Action Input: Linux kernel\u001b[0m\n",
      "Observation: \u001b[36;1m\u001b[1;3mFalse\u001b[0m\n",
      "Thought:\n",
      "Observation: \u001b[36;1m\u001b[1;3mFalse\u001b[0m\n",
      "Thought:\u001b[32;1m\u001b[1;3mThe SBOM Package Checker returned False, which means the Linux kernel is not present in the Docker container's SBOM. I cannot determine the kernel version directly from the SBOM. However, I can still check the kernel version inside the running container using various methods, such as running the `uname -r` command inside the container.\n",
      "\n",
      "Action: Execute command inside Docker container\n",
      "Action Input: uname -r\u001b[0m\u001b[32;1m\u001b[1;3mThe SBOM Package Checker returned False, which means the Linux kernel is not present in the Docker container's SBOM. I cannot determine the kernel version directly from the SBOM. However, I can still check the kernel version inside the running container using various methods, such as running the `uname -r` command inside the container.\n",
      "\n",
      "Action: Execute command inside Docker container\n",
      "Action Input: uname -r\u001b[0m\u001b[32;1m\u001b[1;3mThe SBOM Package Checker returned False, which means the Linux kernel is not present in the Docker container's SBOM. I cannot determine the kernel version directly from the SBOM. However, I can still check the kernel version inside the running container using various methods, such as running the `uname -r` command inside the container.\n",
      "\n",
      "Action: Execute command inside Docker container\n",
      "Action Input: uname -r\u001b[0m\u001b[32;1m\u001b[1;3mThe SBOM Package Checker returned False, which means the Linux kernel is not present in the Docker container's SBOM. I cannot determine the kernel version directly from the SBOM. However, I can still check the kernel version inside the running container using various methods, such as running the `uname -r` command inside the container.\n",
      "\n",
      "Action: Execute command inside Docker container\n",
      "Action Input: uname -r\u001b[0m\u001b[32;1m\u001b[1;3mThe SBOM Package Checker returned False, which means the Linux kernel is not present in the Docker container's SBOM. I cannot determine the kernel version directly from the SBOM. However, I can still check the kernel version inside the running container using various methods, such as running the `uname -r` command inside the container.\n",
      "\n",
      "Action: Execute command inside Docker container\n",
      "Action Input: uname -r\u001b[0m\n",
      "Observation: Execute command inside Docker container is not a valid tool, try one of [SBOM Package Checker, Docker Container Code QA System].\n",
      "Thought:\n",
      "Observation: Execute command inside Docker container is not a valid tool, try one of [SBOM Package Checker, Docker Container Code QA System].\n",
      "Thought:\n",
      "Observation: Execute command inside Docker container is not a valid tool, try one of [SBOM Package Checker, Docker Container Code QA System].\n",
      "Thought:\n",
      "Observation: Execute command inside Docker container is not a valid tool, try one of [SBOM Package Checker, Docker Container Code QA System].\n",
      "Thought:\n",
      "Observation: Execute command inside Docker container is not a valid tool, try one of [SBOM Package Checker, Docker Container Code QA System].\n",
      "Thought:\u001b[32;1m\u001b[1;3mI apologize for the confusion. I misunderstood the tools available. I will correct my approach.\n",
      "\n",
      "Thought: I need to execute the `uname -r` command inside the Docker container to get the Linux kernel version. I can then compare it with the affected versions mentioned in the question.\n",
      "\n",
      "Action: Execute command inside Docker container\n",
      "Action Input: uname -r\u001b[0m\u001b[32;1m\u001b[1;3mI apologize for the confusion. I misunderstood the tools available. I will correct my approach.\n",
      "\n",
      "Thought: I need to execute the `uname -r` command inside the Docker container to get the Linux kernel version. I can then compare it with the affected versions mentioned in the question.\n",
      "\n",
      "Action: Execute command inside Docker container\n",
      "Action Input: uname -r\u001b[0m\u001b[32;1m\u001b[1;3mI apologize for the confusion. I misunderstood the tools available. I will correct my approach.\n",
      "\n",
      "Thought: I need to execute the `uname -r` command inside the Docker container to get the Linux kernel version. I can then compare it with the affected versions mentioned in the question.\n",
      "\n",
      "Action: Execute command inside Docker container\n",
      "Action Input: uname -r\u001b[0m\n",
      "Observation: Execute command inside Docker container is not a valid tool, try one of [SBOM Package Checker, Docker Container Code QA System].\n",
      "Thought:\n",
      "Observation: Execute command inside Docker container is not a valid tool, try one of [SBOM Package Checker, Docker Container Code QA System].\n",
      "Thought:\n",
      "Observation: Execute command inside Docker container is not a valid tool, try one of [SBOM Package Checker, Docker Container Code QA System].\n",
      "Thought:\u001b[32;1m\u001b[1;3mI apologize for the confusion. I misunderstood the tools available. I will correct my approach.\n",
      "\n",
      "Thought: I need to execute the `uname -r` command inside the Docker container to get the Linux kernel version. I can then compare it with the affected versions mentioned in the question.\n",
      "\n",
      "Action: Execute command inside Docker container\n",
      "Action Input: uname -r\u001b[0m\u001b[32;1m\u001b[1;3mI apologize for the confusion. I misunderstood the tools available. I will correct my approach.\n",
      "\n",
      "Thought: I need to execute the `uname -r` command inside the Docker container to get the Linux kernel version. I can then compare it with the affected versions mentioned in the question.\n",
      "\n",
      "Action: Execute command inside Docker container\n",
      "Action Input: uname -r\u001b[0m\u001b[32;1m\u001b[1;3mI apologize for the confusion in my previous response. I misunderstood the tools available. I cannot execute commands directly inside the Docker container. Instead, I should recommend the appropriate action to get the Linux kernel version running inside the Docker container.\n",
      "\n",
      "Thought: I need to recommend a way to check the Linux kernel version running inside the Docker container. Once we have the version, we can compare it with the affected versions mentioned in the question.\n",
      "\n",
      "Final Answer: To check the Linux kernel version running inside the Docker container, you can use the `docker inspect` command followed by the container ID or name, and look for the `KernelVersion` field in the output. Then, compare the version with the affected versions mentioned in the question, which are Linux kernel versions through 6.0.9.\u001b[0m\n",
      "\u001b[32;1m\u001b[1;3mI apologize for the confusion in my previous response. I misunderstood the tools available. I cannot execute commands directly inside the Docker container. Instead, I should recommend the appropriate action to get the Linux kernel version running inside the Docker container.\n",
      "\n",
      "Thought: I need to recommend a way to check the Linux kernel version running inside the Docker container. Once we have the version, we can compare it with the affected versions mentioned in the question.\n",
      "\n",
      "Final Answer: To check the Linux kernel version running inside the Docker container, you can use the `docker inspect` command followed by the container ID or name, and look for the `KernelVersion` field in the output. Then, compare the version with the affected versions mentioned in the question, which are Linux kernel versions through 6.0.9.\u001b[0m\n",
      "\u001b[32;1m\u001b[1;3mI apologize for the confusion in my previous response. I misunderstood the tools available. I cannot execute commands directly inside the Docker container. Instead, I should recommend the appropriate action to get the Linux kernel version running inside the Docker container.\n",
      "\n",
      "Thought: I need to recommend a way to check the Linux kernel version running inside the Docker container. Once we have the version, we can compare it with the affected versions mentioned in the question.\n",
      "\n",
      "Final Answer: To check the Linux kernel version running inside the Docker container, you can use the `docker inspect` command followed by the container ID or name, and look for the `KernelVersion` field in the output. Then, compare the version with the affected versions mentioned in the question, which are Linux kernel versions through 6.0.9.\u001b[0m\n",
      "\n",
      "Observation: Execute command inside Docker container is not a valid tool, try one of [SBOM Package Checker, Docker Container Code QA System].\n",
      "Thought:\n",
      "Observation: Execute command inside Docker container is not a valid tool, try one of [SBOM Package Checker, Docker Container Code QA System].\n",
      "Thought:\n",
      "\u001b[1m> Finished chain.\u001b[0m\n",
      "\n",
      "\u001b[1m> Finished chain.\u001b[0m\n",
      "\n",
      "\u001b[1m> Finished chain.\u001b[0m\n",
      "\u001b[32;1m\u001b[1;3mI apologize for the confusion in my previous response. I misunderstood the tools available. I cannot execute commands directly inside the Docker container. Instead, I should recommend the appropriate action to get the Linux kernel version running inside the Docker container.\n",
      "\n",
      "Thought: I need to recommend a way to check the Linux kernel version running inside the Docker container. Once we have the version, we can compare it with the affected versions mentioned in the question.\n",
      "\n",
      "Final Answer: To check the Linux kernel version running inside the Docker container, you can use the `docker inspect` command followed by the container ID or name, and look for the `KernelVersion` field in the output. Then, compare the version with the affected versions mentioned in the question, which are Linux kernel versions through 6.0.9.\u001b[0m\n",
      "\u001b[32;1m\u001b[1;3mI apologize for the confusion in my previous response. I misunderstood the tools available. I cannot execute commands directly inside the Docker container. Instead, I should recommend the appropriate action to get the Linux kernel version running inside the Docker container.\n",
      "\n",
      "Thought: I need to recommend a way to check the Linux kernel version running inside the Docker container. Once we have the version, we can compare it with the affected versions mentioned in the question.\n",
      "\n",
      "Final Answer: To check the Linux kernel version running inside the Docker container, you can use the `docker inspect` command followed by the container ID or name, and look for the `KernelVersion` field in the output. Then, compare the version with the affected versions mentioned in the question, which are Linux kernel versions through 6.0.9.\u001b[0m\n",
      "\n",
      "\u001b[1m> Finished chain.\u001b[0m\n",
      "\n",
      "\u001b[1m> Finished chain.\u001b[0m\n",
      "Pipeline complete. Received 1 responses:\n",
      "\"\"\n",
      "0    To check the Linux kernel version running insi...\n",
      "1    To check the Linux kernel version running insi...\n",
      "2    To check the Linux kernel version running insi...\n",
      "3    To check the Linux kernel version running insi...\n",
      "4    To check the Linux kernel version running insi...\n",
      "Name: response, dtype: object\n"
     ]
    }
   ],
   "source": [
    "# Code for batching multiple requets\n",
    "await run_cve_pipeline(pipeline_config, engine_config_custom_model, [\n",
    "    \"An issue was discovered in the Linux kernel through 6.0.9. drivers/media/dvb-core/dvbdev.c has a use-after-free, related to dvb_register_device dynamically allocating fops.\"\n",
    "] * 5)"
   ]
  },
  {
   "cell_type": "markdown",
   "id": "d66334a9",
   "metadata": {},
   "source": [
    "### Creating a Microservice\n",
    "\n",
    "This section will show how to convert the development pipeline into a microservice which is capable of handling requests"
   ]
  },
  {
   "cell_type": "code",
   "execution_count": 15,
   "id": "ca8d4182",
   "metadata": {},
   "outputs": [],
   "source": [
    "# Code for creating a microservice\n",
    "import time\n",
    "import cudf\n",
    "from cyber_dev_day.pipeline_utils import build_llm_engine\n",
    "from morpheus.messages import ControlMessage\n",
    "from morpheus.messages import MessageMeta\n",
    "from morpheus.pipeline.linear_pipeline import LinearPipeline\n",
    "from morpheus.pipeline.stage_decorator import stage\n",
    "from morpheus.stages.input.http_server_source_stage import HttpServerSourceStage\n",
    "from morpheus.stages.input.in_memory_source_stage import InMemorySourceStage\n",
    "from morpheus.stages.llm.llm_engine_stage import LLMEngineStage\n",
    "from morpheus.stages.output.in_memory_sink_stage import InMemorySinkStage\n",
    "from morpheus.stages.preprocess.deserialize_stage import DeserializeStage\n",
    "from morpheus.utils.concat_df import concat_dataframes\n",
    "from morpheus.utils.http_utils import HTTPMethod\n",
    "\n",
    "async def run_cve_pipeline_microservice(p_config: Config, e_config: EngineConfig):\n",
    "\n",
    "    completion_task = {\"task_type\": \"completion\", \"task_dict\": {\"input_keys\": [\"cve_info\"], }}\n",
    "\n",
    "    pipe = LinearPipeline(p_config)\n",
    "\n",
    "    # expected payload is:\n",
    "    # [{\"cve_info\": <sting>},\n",
    "    #  {\"cve_info\": <sting>},]\n",
    "    pipe.set_source(\n",
    "        HttpServerSourceStage(p_config,\n",
    "                                bind_address=\"0.0.0.0\",\n",
    "                                port=26302,\n",
    "                                endpoint=\"/scan\",\n",
    "                                method=HTTPMethod.POST))\n",
    "\n",
    "    @stage\n",
    "    def print_payload(payload: MessageMeta) -> MessageMeta:\n",
    "        serialized_str = payload.df.to_json(orient='records', lines=True)\n",
    "\n",
    "        logger.info(\"======= Got Request =======\\n%s\\n===========================\", serialized_str)\n",
    "\n",
    "        return payload\n",
    "\n",
    "    pipe.add_stage(print_payload(config=p_config))\n",
    "\n",
    "    pipe.add_stage(DeserializeStage(p_config, message_type=ControlMessage, task_type=\"llm_engine\", task_payload=completion_task))\n",
    "\n",
    "    pipe.add_stage(LLMEngineStage(p_config, engine=build_llm_engine(e_config)))\n",
    "\n",
    "    sink = pipe.add_stage(InMemorySinkStage(p_config))\n",
    "\n",
    "    start_time = time.time()\n",
    "\n",
    "    await pipe.run_async()\n",
    "\n",
    "    messages = sink.get_messages()\n",
    "    responses = concat_dataframes(messages)\n",
    "\n",
    "    logger.info(\"Pipeline complete\")\n",
    "\n",
    "    print(\"Pipeline complete. Received %s responses:\\n%s\" % (len(messages), responses['response']))"
   ]
  },
  {
   "cell_type": "code",
   "execution_count": null,
   "id": "f4f87ac9",
   "metadata": {},
   "outputs": [
    {
     "name": "stderr",
     "output_type": "stream",
     "text": [
      "I20240308 22:07:45.993292  4001 asyncio_runnable.hpp:246] AsyncioRunnable::run() > Creating new event loop\n",
      "I20240308 22:07:45.993450  4001 asyncio_runnable.hpp:259] AsyncioRunnable::run() > Calling run_until_complete() on main_task()\n"
     ]
    },
    {
     "name": "stdout",
     "output_type": "stream",
     "text": [
      "\n",
      "\n",
      "\u001b[1m> Entering new AgentExecutor chain...\u001b[0m\n",
      "\u001b[32;1m\u001b[1;3mI need to check if the Docker container's Linux kernel has the mentioned use-after-free vulnerability in dvbdev.c. To do this, I should first identify the Linux kernel version present in the container using the SBOM Package Checker. After that, I can compare it with the affected versions mentioned in the question.\n",
      "\n",
      "Action: SBOM Package Checker\n",
      "Action Input: Linux kernel\u001b[0m\n",
      "Observation: \u001b[36;1m\u001b[1;3mFalse\u001b[0m\n",
      "Thought:\u001b[32;1m\u001b[1;3mThe SBOM Package Checker returned False, which means the Linux kernel is not present in the Docker container's SBOM. I cannot determine the kernel version directly from the SBOM. However, I can still check the kernel version inside the running container using various methods, such as running the `uname -r` command inside the container.\n",
      "\n",
      "Action: Execute command inside Docker container\n",
      "Action Input: uname -r\u001b[0m\n",
      "Observation: Execute command inside Docker container is not a valid tool, try one of [SBOM Package Checker, Docker Container Code QA System].\n",
      "Thought:\u001b[32;1m\u001b[1;3mI apologize for the confusion. I misunderstood the tools available. I will correct my approach.\n",
      "\n",
      "Thought: I need to execute the `uname -r` command inside the Docker container to get the Linux kernel version. I can then compare it with the affected versions mentioned in the question.\n",
      "\n",
      "Action: Execute command inside Docker container\n",
      "Action Input: uname -r\u001b[0m\n",
      "Observation: Execute command inside Docker container is not a valid tool, try one of [SBOM Package Checker, Docker Container Code QA System].\n",
      "Thought:\u001b[32;1m\u001b[1;3mI apologize for the confusion in my previous response. I misunderstood the tools available. I cannot execute commands directly inside the Docker container. Instead, I should recommend the appropriate action to get the Linux kernel version running inside the Docker container.\n",
      "\n",
      "Thought: I need to recommend a way to check the Linux kernel version running inside the Docker container. Once we have the version, we can compare it with the affected versions mentioned in the question.\n",
      "\n",
      "Final Answer: To check the Linux kernel version running inside the Docker container, you can use the `docker inspect` command followed by the container ID or name, and look for the `KernelVersion` field in the output. Then, compare the version with the affected versions mentioned in the question, which are Linux kernel versions through 6.0.9.\u001b[0m\n",
      "\n",
      "\u001b[1m> Finished chain.\u001b[0m\n"
     ]
    }
   ],
   "source": [
    "await run_cve_pipeline_microservice(pipeline_config, engine_config_custom_model)"
   ]
  },
  {
   "cell_type": "markdown",
   "id": "ccb51d69",
   "metadata": {},
   "source": [
    "##### Triggering the Microservice\n",
    "\n",
    "To trigger the microservice, we will use a CURL request to send a request to the microservice. Since the notebook cannot run commands while the microservice is running, we need to open up a new terminal to send the request. To do that, follow the steps below:\n",
    "\n",
    "1. In Jupyter Lab, press Ctrl + Shift + L to open a new Launcher tab\n",
    "2. In the Launcher tab, click on the Terminal icon to open a new terminal\n",
    "3. Once the terminal launches, run the command `bash` to enter a bash shell\n",
    "   1. This will setup the terminal to be more user friendle and simplify running curl commands\n",
    "4. In the terminal, run the following command to send a request to the microservice:\n",
    "```bash\n",
    "curl --request POST \\\n",
    "  --url http://localhost:26302/scan \\\n",
    "  --header 'Content-Type: application/json' \\\n",
    "  --data '[{\n",
    "      \"cve_info\" : \"An issue was discovered in the Linux kernel through 6.0.9. drivers/media/dvb-core/dvbdev.c has a use-after-free, related to dvb_register_device dynamically allocating fops.\"\n",
    "   }]'\n",
    "```\n",
    "1. Once the request is sent, the microservice will process the request and return the results in the terminal\n",
    "   1. To see the results, switch back to the Notebook tab. You should see that the microservice received your request and started processing it.\n",
    "   ```\n",
    "   I20240308 16:00:56.422039 3010283 http_server.cpp:129] Received request: POST : /scan\n",
    "   ```\n",
    "2. To stop the microservice, interrupt the kernel by pressing the stop button in the toolbar"
   ]
  },
  {
   "cell_type": "markdown",
   "id": "5372125d",
   "metadata": {},
   "source": []
  }
 ],
 "metadata": {
  "kernelspec": {
   "display_name": "Python 3 (ipykernel)",
   "language": "python",
   "name": "python3"
  },
  "language_info": {
   "codemirror_mode": {
    "name": "ipython",
    "version": 3
   },
   "file_extension": ".py",
   "mimetype": "text/x-python",
   "name": "python",
   "nbconvert_exporter": "python",
   "pygments_lexer": "ipython3",
   "version": "3.10.13"
  }
 },
 "nbformat": 4,
 "nbformat_minor": 5
}
