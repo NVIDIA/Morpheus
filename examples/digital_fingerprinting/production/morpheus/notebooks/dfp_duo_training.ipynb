{
 "cells": [
  {
   "cell_type": "markdown",
   "id": "2941e94f-db20-44a5-ab87-2cab499825f7",
   "metadata": {},
   "source": [
    "# Digital Finger Printing (DFP) with Morpheus - DUO Training\n",
    "## Introduction\n",
    "\n",
    "In this notebook, we will be building and running a DFP pipeline that performs training on Duo authentication logs. The goal is to train an autoencoder PyTorch model to recogize the patterns of users in the sample data. The model will then be used by a second Morpheus pipeline to generate anomaly scores for each individual log. These anomaly scores can be used by security teams to detect abnormal behavior when it happens so the proper action can be taken.\n",
    "\n",
    "<div class=\"alert alert-block alert-info\">\n",
    "<b>Note:</b> For more information on DFP, the Morpheus pipeline, and setup steps to run this notebook, please refer to the coresponding DFP training materials.\n",
    "</div>"
   ]
  },
  {
   "cell_type": "code",
   "execution_count": 1,
   "id": "b6c1cb50-74f2-445d-b865-8c22c3b3798b",
   "metadata": {},
   "outputs": [],
   "source": [
    "%load_ext autoreload\n",
    "%autoreload 2\n",
    "\n",
    "# Ensure that the morpheus directory is in the python path. This may not need to be run depending on the environment setup\n",
    "import sys\n",
    "import os\n",
    "sys.path.insert(0, os.path.abspath(\"../../morpheus\"))"
   ]
  },
  {
   "cell_type": "code",
   "execution_count": 2,
   "id": "102ce011-3ca3-4f96-a72d-de28fad32003",
   "metadata": {},
   "outputs": [
    {
     "name": "stderr",
     "output_type": "stream",
     "text": [
      "/opt/conda/envs/morpheus/lib/python3.10/site-packages/merlin/dtypes/mappings/tf.py:52: UserWarning: Tensorflow dtype mappings did not load successfully due to an error: No module named 'tensorflow'\n",
      "  warn(f\"Tensorflow dtype mappings did not load successfully due to an error: {exc.msg}\")\n"
     ]
    },
    {
     "data": {
      "text/html": [
       "<style>table {align:left;display:block}</style>"
      ],
      "text/plain": [
       "<IPython.core.display.HTML object>"
      ]
     },
     "execution_count": 2,
     "metadata": {},
     "output_type": "execute_result"
    }
   ],
   "source": [
    "import functools\n",
    "import logging\n",
    "import os\n",
    "import mlflow\n",
    "import typing\n",
    "from datetime import datetime\n",
    "\n",
    "from dfp.stages.dfp_file_batcher_stage import DFPFileBatcherStage\n",
    "from dfp.stages.dfp_file_to_df import DFPFileToDataFrameStage\n",
    "from dfp.stages.dfp_mlflow_model_writer import DFPMLFlowModelWriterStage\n",
    "from dfp.stages.dfp_preprocessing_stage import DFPPreprocessingStage\n",
    "from dfp.stages.dfp_rolling_window_stage import DFPRollingWindowStage\n",
    "from dfp.stages.dfp_split_users_stage import DFPSplitUsersStage\n",
    "from dfp.stages.dfp_training import DFPTraining\n",
    "from dfp.stages.multi_file_source import MultiFileSource\n",
    "from dfp.utils.regex_utils import iso_date_regex\n",
    "\n",
    "from morpheus.common import FileTypes\n",
    "from morpheus.cli.utils import get_log_levels\n",
    "from morpheus.cli.utils import get_package_relative_file\n",
    "from morpheus.cli.utils import load_labels_file\n",
    "from morpheus.cli.utils import parse_log_level\n",
    "from morpheus.config import Config\n",
    "from morpheus.config import ConfigAutoEncoder\n",
    "from morpheus.config import CppConfig\n",
    "from morpheus.pipeline import LinearPipeline\n",
    "from morpheus.utils.column_info import BoolColumn\n",
    "from morpheus.utils.column_info import ColumnInfo\n",
    "from morpheus.utils.column_info import DataFrameInputSchema\n",
    "from morpheus.utils.column_info import DateTimeColumn\n",
    "from morpheus.utils.column_info import DistinctIncrementColumn\n",
    "from morpheus.utils.column_info import IncrementColumn\n",
    "from morpheus.utils.column_info import RenameColumn\n",
    "from morpheus.utils.column_info import StringCatColumn\n",
    "from morpheus.utils.file_utils import date_extractor\n",
    "from morpheus.utils.logger import configure_logging\n",
    "\n",
    "# Left align all tables\n",
    "from IPython.core.display import HTML\n",
    "table_css = 'table {align:left;display:block}'\n",
    "HTML('<style>{}</style>'.format(table_css))"
   ]
  },
  {
   "cell_type": "markdown",
   "id": "ca38c1b7-ce84-43e0-ac53-280562dc1642",
   "metadata": {},
   "source": [
    "## High Level Configuration\n",
    "\n",
    "The following options significantly alter the functionality of the pipeline. These options are separated from the individual stage options since they may effect more than one stage. Additionally, the matching python script to this notebook, `dfp_pipeline_duo.py`, configures these options via command line arguments.\n",
    "\n",
    "### Options\n",
    "\n",
    "| Name | Type | Description |\n",
    "| --- | --- | :-- |\n",
    "| `train_users` | One of `[\"all\", \"generic\", \"individual\"]` | This indicates which users to train for this pipeline:<ul><li>`\"generic\"`: Combine all users into a single model with the username 'generic_user'. Skips individual users.</li><li>`\"individual\"`: Trains a separate model for each individual user. Skips 'generic_user'.</li><li>`\"all\"`: Combination of `\"generic\"` and `\"individual\"`. Both the 'generic_user' and individual users are trained in the same pipeline.</li></ul>|\n",
    "| `skip_users` | List of strings | Any user in this list will be dropped from the pipeline. Useful for debugging to remove automated accounts with many logs. |\n",
    "| `cache_dir` | string | The location to store cached files. To aid with development and reduce bandwidth, the Morpheus pipeline will cache data from several stages of the pipeline. This option configures the location for those caches. |\n",
    "| `input_files` | List of strings | List of files to process. Can specify multiple arguments for multiple files. Also accepts glob (\\*) wildcards and schema prefixes such as `s3://`. For example, to make a local cache of an s3 bucket, use `filecache::s3://mybucket/*`. Refer to `fsspec` documentation for list of possible options. |\n",
    "| `model_name_formatter` | string | A format string to use when building the model name. The model name is constructed by calling `model_name_formatter.format(user_id=user_id)`. For example, with `model_name_formatter=\"my_model-{user_id}\"` and a user ID of `\"first:last\"` would result in the model name of `\"my_model-first:last\"`. This should match the value used in `DFPMLFlowModelWriterStage`. Available keyword arguments: `user_id`, `user_md5`. |\n",
    "| `experiment_name_formatter` | string | A format string (without the `f`) that will be used when creating an experiment in ML Flow. Available keyword arguments: `user_id`, `user_md5`, `reg_model_name`. |\n"
   ]
  },
  {
   "cell_type": "code",
   "execution_count": 3,
   "id": "9ee00703-75c5-46fc-890c-86733da906c4",
   "metadata": {},
   "outputs": [],
   "source": [
    "# Global options\n",
    "train_users = \"all\"\n",
    "\n",
    "# Enter any users to skip here\n",
    "skip_users: typing.List[str] = []\n",
    "\n",
    "# Location where cache objects will be saved\n",
    "cache_dir = \"/workspace/.cache/dfp\"\n",
    "\n",
    "# Input files to read from\n",
    "input_files = [\n",
    "    \"../../../../data/dfp/duo-training-data/DUO_2022-08-*.json\"\n",
    "]\n",
    "\n",
    "# The format to use for models\n",
    "model_name_formatter = \"DFP-duo-{user_id}\"\n",
    "\n",
    "# The format to use for experiment names\n",
    "experiment_name_formatter = \"dfp/duo/training/{reg_model_name}\"\n",
    "\n",
    "# === Derived Options ===\n",
    "# To include the generic, we must be training all or generic\n",
    "include_generic = train_users == \"all\" or train_users == \"generic\"\n",
    "\n",
    "# To include individual, we must be either training or inferring\n",
    "include_individual = train_users != \"generic\"\n",
    "\n",
    "# None indicates we arent training anything\n",
    "is_training = train_users != \"none\"\n",
    "\n",
    "# Tracking URI\n",
    "tracking_uri = \"http://mlflow:5000\""
   ]
  },
  {
   "cell_type": "markdown",
   "id": "31b16a47",
   "metadata": {},
   "source": [
    "### Set MLFlow Tracking URI\n",
    "Set MLFlow tracking URI to make inference calls."
   ]
  },
  {
   "cell_type": "code",
   "execution_count": 4,
   "id": "586e6b5e",
   "metadata": {},
   "outputs": [],
   "source": [
    "mlflow.set_tracking_uri(tracking_uri)"
   ]
  },
  {
   "cell_type": "markdown",
   "id": "1cfc24c9-c85e-4977-a348-692c8f0aceaa",
   "metadata": {},
   "source": [
    "### Global Config Object\n",
    "Before creating the pipeline, we need to setup logging and set the parameters for the Morpheus config object. This config object is responsible for the following:\n",
    " - Indicating whether to use C++ or Python stages\n",
    "    - C++ stages are not supported for the DFP pipeline. This should always be `False`\n",
    " - Setting the number of threads to use in the pipeline. Defaults to the thread count of the OS.\n",
    " - Sets the feature column names that will be used in model training\n",
    "    - This option allows extra columns to be used in the pipeline that will not be part of the training algorithm.\n",
    "    - The final features that the model will be trained on will be an intersection of this list with the log columns.\n",
    " - The column name that indicates the user's unique identifier\n",
    "    - It is required for DFP to have a user ID column\n",
    " - The column name that indicates the timestamp for the log\n",
    "    - It is required for DFP to know when each log occurred"
   ]
  },
  {
   "cell_type": "code",
   "execution_count": 5,
   "id": "01abd537-9162-49dc-8e83-d9465592f1d5",
   "metadata": {},
   "outputs": [],
   "source": [
    "# Enable the Morpheus logger\n",
    "configure_logging(log_level=logging.DEBUG)\n",
    "\n",
    "config = Config()\n",
    "\n",
    "CppConfig.set_should_use_cpp(False)\n",
    "\n",
    "config.num_threads = os.cpu_count()\n",
    "\n",
    "config.ae = ConfigAutoEncoder()\n",
    "\n",
    "config.ae.feature_columns = [\n",
    "    'accessdevicebrowser', 'accessdeviceos', 'authdevicename', 'result', 'reason', 'logcount', \"locincrement\"\n",
    "]\n",
    "config.ae.userid_column_name = \"username\"\n",
    "config.ae.timestamp_column_name = \"timestamp\""
   ]
  },
  {
   "cell_type": "code",
   "execution_count": 6,
   "id": "a73a4d53-32b6-4ab8-a5d7-c0104b31c69b",
   "metadata": {},
   "outputs": [],
   "source": [
    "# Specify the column names to ensure all data is uniform\n",
    "source_column_info = [\n",
    "    DateTimeColumn(name=config.ae.timestamp_column_name, dtype=datetime, input_name=\"timestamp\"),\n",
    "    RenameColumn(name=config.ae.userid_column_name, dtype=str, input_name=\"user.name\"),\n",
    "    RenameColumn(name=\"accessdevicebrowser\", dtype=str, input_name=\"access_device.browser\"),\n",
    "    RenameColumn(name=\"accessdeviceos\", dtype=str, input_name=\"access_device.os\"),\n",
    "    StringCatColumn(name=\"location\",\n",
    "                    dtype=str,\n",
    "                    input_columns=[\n",
    "                        \"access_device.location.city\",\n",
    "                        \"access_device.location.state\",\n",
    "                        \"access_device.location.country\"\n",
    "                    ],\n",
    "                    sep=\", \"),\n",
    "    RenameColumn(name=\"authdevicename\", dtype=str, input_name=\"auth_device.name\"),\n",
    "    BoolColumn(name=\"result\",\n",
    "                dtype=bool,\n",
    "                input_name=\"result\",\n",
    "                true_values=[\"success\", \"SUCCESS\"],\n",
    "                false_values=[\"denied\", \"DENIED\", \"FRAUD\"]),\n",
    "    ColumnInfo(name=\"reason\", dtype=str),\n",
    "    # CustomColumn(name=\"user.groups\", dtype=str, process_column_fn=partial(column_listjoin, col_name=\"user.groups\"))\n",
    "]\n",
    "\n",
    "source_schema = DataFrameInputSchema(json_columns=[\"access_device\", \"application\", \"auth_device\", \"user\"],\n",
    "                                        column_info=source_column_info)\n"
   ]
  },
  {
   "cell_type": "code",
   "execution_count": 7,
   "id": "f7a0cb0a-e65a-444a-a06c-a4525d543790",
   "metadata": {},
   "outputs": [],
   "source": [
    "# Preprocessing schema\n",
    "preprocess_column_info = [\n",
    "    ColumnInfo(name=config.ae.timestamp_column_name, dtype=datetime),\n",
    "    ColumnInfo(name=config.ae.userid_column_name, dtype=str),\n",
    "    ColumnInfo(name=\"accessdevicebrowser\", dtype=str),\n",
    "    ColumnInfo(name=\"accessdeviceos\", dtype=str),\n",
    "    ColumnInfo(name=\"authdevicename\", dtype=str),\n",
    "    ColumnInfo(name=\"result\", dtype=bool),\n",
    "    ColumnInfo(name=\"reason\", dtype=str),\n",
    "    # Derived columns\n",
    "    IncrementColumn(name=\"logcount\",\n",
    "                    dtype=int,\n",
    "                    input_name=config.ae.timestamp_column_name,\n",
    "                    groupby_column=config.ae.userid_column_name),\n",
    "    DistinctIncrementColumn(name=\"locincrement\",\n",
    "                            dtype=int,\n",
    "                            input_name=\"location\",\n",
    "                            groupby_column=config.ae.userid_column_name,\n",
    "                            timestamp_column=config.ae.timestamp_column_name)\n",
    "]\n",
    "\n",
    "preprocess_schema = DataFrameInputSchema(column_info=preprocess_column_info, preserve_columns=[\"_batch_id\"])\n"
   ]
  },
  {
   "cell_type": "markdown",
   "id": "bdfc59de-dea8-4e5f-98e3-98eba1e4621d",
   "metadata": {},
   "source": [
    "## Pipeline Construction\n",
    "From this point on we begin constructing the stages that will make up the pipeline. To make testing easier, constructing the pipeline object, adding the stages, and running the pipeline, is provided as a single cell. The below cell can be rerun multiple times as needed for debugging.\n",
    "\n",
    "### Source Stage (`MultiFileSource`)\n",
    "\n",
    "This pipeline read input logs from one or more input files. This source stage will construct a list of files to be processed and pass to downstream stages. It is capable of reading files from many different source types, both local and remote. This is possible by utilizing the `fsspec` library (similar to `pandas`). Refer to the [`fsspec`](https://filesystem-spec.readthedocs.io/) documentation for more information on the supported file types. Once all of the logs have been read, the source completes. \n",
    "\n",
    "| Name | Type | Default | Description |\n",
    "| --- | --- | --- | :-- |\n",
    "| `filenames` | List of strings | | Any files to read into the pipeline. All files will be combined into a single `DataFrame` |\n",
    "\n",
    "### File Batcher Stage (`DFPFileBatcherStage`)\n",
    "\n",
    "To improve performance, multiple small input files can be batched together into a single DataFrame for processing. This stage is responsible for determining the timestamp of input files, grouping input files into batches by time, and sending the batches to be processed into a single DataFrame. Repeated batches of files will be loaded from cache resulting in increased performance.  For example, when performaing a 60 day training run, 59 days can be cached with a period of `\"D\"` and retraining once per day.\n",
    "\n",
    "| Name | Type | Default | Description |\n",
    "| --- | --- | --- | :-- |\n",
    "| `period` | `str` | `\"D\"` | The period to create batches. Refer to `pandas` windowing frequency documentation for available options.  |\n",
    "| `date_conversion_func` | Function of `typing.Callable[[fsspec.core.OpenFile], datetime]` | | A callback which is responsible for determining the date for a specified file. |\n",
    "\n",
    "### File to DataFrame Stage (`DFPFileToDataFrameStage`)\n",
    "\n",
    "After files have been batched into groups, this stage is responsible for reading the files and converting into a DataFrame. The specified input schema converts the raw DataFrame into one suitable for caching and processing. Any columns that are not needed should be excluded from the schema.\n",
    "\n",
    "| Name | Type | Default | Description |\n",
    "| --- | --- | --- | :-- |\n",
    "| `schema` | `DataFrameInputSchema` | | After the raw `DataFrame` is read from each file, this schema will be applied to ensure a consisten output from the source. |\n",
    "| `file_type` | `FileTypes` | `FileTypes.Auto` | Allows overriding the file type. When set to `Auto`, the file extension will be used. Options are `CSV`, `JSON`, `PARQUET`, `Auto`. |\n",
    "| `parser_kwargs` | `dict` | `{}` | This dictionary will be passed to the `DataFrame` parser class. Allows for customization of log parsing. |\n",
    "| `cache_dir` | `str` | `./.cache/dfp` | The location to write cached input files to. |\n",
    "\n",
    "### Split Users Stage (`DFPSplitUsersStage`)\n",
    "\n",
    "Once the input logs have been read into a `DataFrame`, this stage is responsible for breaking that single `DataFrame` with many users into multiple `DataFrame`s for each user. This is also where the pipeline chooses whether to train individual users or the generic user (or both).\n",
    "\n",
    "| Name | Type | Default | Description |\n",
    "| --- | --- | --- | :-- |\n",
    "| `include_generic` | `bool` | | Whether or not to combine all user logs into a single `DataFrame` with the username 'generic_user' |\n",
    "| `include_individual` | `bool` | | Whether or not to output individual `DataFrame` objects for each user |\n",
    "| `skip_users` | List of `str` | `[]` | Any users to remove from the `DataFrame`. Useful for debugging to remove automated accounts with many logs. Mutually exclusive with `only_users`. |\n",
    "| `only_users` | List of `str` | `[]` | Only allow these users in the final `DataFrame`. Useful for debugging to focus on specific users. Mutually exclusive with `skip_users`. |\n",
    "\n",
    "### Rolling Window Stage (`DFPRollingWindowStage`)\n",
    "\n",
    "The Rolling Window Stage performs several key pieces of functionality for DFP.\n",
    "1. This stage keeps a moving window of logs on a per user basis\n",
    "   1. These logs are saved to disk to reduce memory requirements between logs from the same user\n",
    "1. It only emits logs when the window history requirements are met\n",
    "   1. Until all of the window history requirements are met, no messages will be sent to the rest of the pipeline.\n",
    "   1. Configuration options for defining the window history requirements are detailed below.\n",
    "1. It repeats the necessary logs to properly calculate log dependent features.\n",
    "   1. To support all column feature types, incoming log messages can be combined with existing history and sent to downstream stages.\n",
    "   1. For example, to calculate a feature that increments a counter for the number of logs a particular user has generated in a single day, we must have the user's log history for the past 24 hours. To support this, this stage will combine new logs with existing history into a single `DataFrame`.\n",
    "   1. It is the responsibility of downstream stages to distinguish between new logs and existing history.\n",
    "\n",
    "| Name | Type | Default | Description |\n",
    "| --- | --- | --- | :-- |\n",
    "| `min_history` | `int` | `300` | The minimum number of logs a user must have before emitting any messages. Logs below this threshold will be saved to disk. |\n",
    "| `min_increment` | `int` or `str` | `300` | Once the min history requirement is met, this stage must receive `min_increment` *new* logs before emmitting another message. Logs received before this threshold is met will be saved to disk. Can be specified as an integer count or a string duration. |\n",
    "| `max_history` | `int` or `str` | `\"60d\"` | Once `min_history` and `min_increment` requirements have been met, this puts an upper bound on the maximum number of messages to forward into the pipeline and also the maximum amount of messages to retain in the history. Can be specified as an integer count or a string duration. |\n",
    "| `cache_dir` | `str` | `./.cache/dfp` | The location to write log history to disk. |\n",
    "\n",
    "### Preprocessing Stage (`DFPPreprocessingStage`)\n",
    "\n",
    "This stage performs the final, row dependent, feature calculations as specified by the input schema object. Once calculated, this stage can forward on all received logs, or optionally can only forward on new logs, removing any history information.\n",
    "\n",
    "| Name | Type | Default | Description |\n",
    "| --- | --- | --- | :-- |\n",
    "| `input_schema` | `DataFrameInputSchema` | | The final, row dependent, schema to apply to the incoming columns |\n",
    "\n",
    "### Training Stage (`DFPTraining`)\n",
    "\n",
    "This stage is responsible for performing the actual training calculations. Training will be performed on all received data. Resulting message will contain the input data paired with the trained model.\n",
    "\n",
    "| Name | Type | Default | Description |\n",
    "| --- | --- | --- | :-- |\n",
    "| `model_kwargs` | `dict` | `{}` | The options to use when creating a new model instance. Refer to `DFPAutoEncoder` for information on the available options. |\n",
    "\n",
    "### MLFlow Model Writer Stage (`DFPMLFlowModelWriterStage`)\n",
    "\n",
    "This stage is the last step in training. It will upload the trained model from the previous stage to MLFlow. The tracking URI for which MLFlow instance to use is configured using the static method `mlflow.set_tracking_uri()`.\n",
    "\n",
    "| Name | Type | Default | Description |\n",
    "| --- | --- | --- | :-- |\n",
    "| `model_name_formatter` | `str` | `\"\"` | A format string to use when building the model name. The model name is constructed by calling `model_name_formatter.format(user_id=user_id)`. For example, with `model_name_formatter=\"my_model-{user_id}\"` and a user ID of `\"first:last\"` would result in the model name of `\"my_model-first:last\"` |\n",
    "| `experiment_name` | `str` |  | All models are created inside of an experiment to allow metrics to be saved with each model. This option specifies the experiment name. The final experiment name for each model will be in the form of `{experiment_name}/{model_name}` |"
   ]
  },
  {
   "cell_type": "code",
   "execution_count": 8,
   "id": "825390ad-ce64-4949-b324-33039ffdf264",
   "metadata": {},
   "outputs": [
    {
     "name": "stdout",
     "output_type": "stream",
     "text": [
      "====Registering Pipeline====\u001b[0m\n",
      "====Building Pipeline====\u001b[0m\n",
      "====Building Pipeline Complete!====\u001b[0m\n",
      "\u001b[2mStarting! Time: 1689788486.0775218\u001b[0m\n",
      "====Registering Pipeline Complete!====\u001b[0m\n",
      "====Starting Pipeline====\u001b[0m\n",
      "====Pipeline Started====\u001b[0m\n",
      "====Building Segment: linear_segment_0====\u001b[0m\n",
      "Added source: <from-multi-file-0; MultiFileSource(filenames=['../../../../data/dfp/duo-training-data/DUO_2022-08-*.json'], watch=False, watch_interval=1.0)>\n",
      "  └─> fsspec.OpenFiles\u001b[0m\n",
      "Added stage: <dfp-file-batcher-1; DFPFileBatcherStage(date_conversion_func=functools.partial(<function date_extractor at 0x7fa005d6dc60>, filename_regex=re.compile('(?P<year>\\\\d{4})-(?P<month>\\\\d{1,2})-(?P<day>\\\\d{1,2})T(?P<hour>\\\\d{1,2})(:|_)(?P<minute>\\\\d{1,2})(:|_)(?P<second>\\\\d{1,2})(?P<microsecond>\\\\.\\\\d{1,6})?Z')), period=D, sampling_rate_s=None, start_time=None, end_time=None, sampling=None)>\n",
      "  └─ fsspec.OpenFiles -> Tuple[fsspec.core.OpenFiles, int]\u001b[0m\n",
      "Added stage: <dfp-s3-to-df-2; DFPFileToDataFrameStage(schema=DataFrameInputSchema(json_columns=['access_device', 'application', 'auth_device', 'user'], column_info=[DateTimeColumn(name='timestamp', dtype='datetime64[ns]', input_name='timestamp'), RenameColumn(name='username', dtype='str', input_name='user.name'), RenameColumn(name='accessdevicebrowser', dtype='str', input_name='access_device.browser'), RenameColumn(name='accessdeviceos', dtype='str', input_name='access_device.os'), StringCatColumn(name='location', dtype='str', input_columns=['access_device.location.city', 'access_device.location.state', 'access_device.location.country'], sep=', '), RenameColumn(name='authdevicename', dtype='str', input_name='auth_device.name'), BoolColumn(name='result', dtype='bool', input_name='result', value_map={'success': True, 'SUCCESS': True, 'denied': False, 'DENIED': False, 'FRAUD': False}), ColumnInfo(name='reason', dtype='str')], preserve_columns=None, row_filter=None, json_output_columns=[('user.name', 'str'), ('access_device.browser', 'str'), ('access_device.os', 'str'), ('access_device.location.city', 'str'), ('access_device.location.state', 'str'), ('access_device.location.country', 'str'), ('auth_device.name', 'str')], input_columns={'timestamp': 'str', 'user.name': 'str', 'access_device.browser': 'str', 'access_device.os': 'str', 'access_device.location.city': 'str', 'access_device.location.state': 'str', 'access_device.location.country': 'str', 'auth_device.name': 'str', 'result': 'str', 'reason': 'str'}, output_columns=[('timestamp', 'datetime64[ns]'), ('username', 'str'), ('accessdevicebrowser', 'str'), ('accessdeviceos', 'str'), ('location', 'str'), ('authdevicename', 'str'), ('result', 'bool'), ('reason', 'str')], nvt_workflow=None, prep_dataframe=functools.partial(<function _json_flatten at 0x7fa00620b520>, input_columns={'timestamp': 'str', 'user.name': 'str', 'access_device.browser': 'str', 'access_device.os': 'str', 'access_device.location.city': 'str', 'access_device.location.state': 'str', 'access_device.location.country': 'str', 'auth_device.name': 'str', 'result': 'str', 'reason': 'str'}, json_cols=['access_device', 'application', 'auth_device', 'user'], preserve_re=None)), filter_null=True, file_type=FileTypes.JSON, parser_kwargs={'lines': False, 'orient': 'records'}, cache_dir=/workspace/.cache/dfp)>\n",
      "  └─ Tuple[fsspec.core.OpenFiles, int] -> pandas.DataFrame\u001b[0m\n",
      "Added stage: <dfp-split-users-3; DFPSplitUsersStage(include_generic=True, include_individual=True, skip_users=[], only_users=None)>\n",
      "  └─ pandas.DataFrame -> dfp.DFPMessageMeta\u001b[0m\n",
      "Added stage: <dfp-rolling-window-4; DFPRollingWindowStage(min_history=300, min_increment=300, max_history=60d, cache_dir=/workspace/.cache/dfp)>\n",
      "  └─ dfp.DFPMessageMeta -> dfp.MultiDFPMessage\u001b[0m\n",
      "Added stage: <dfp-preproc-5; DFPPreprocessingStage(input_schema=DataFrameInputSchema(json_columns=[], column_info=[ColumnInfo(name='timestamp', dtype='datetime64[ns]'), ColumnInfo(name='username', dtype='str'), ColumnInfo(name='accessdevicebrowser', dtype='str'), ColumnInfo(name='accessdeviceos', dtype='str'), ColumnInfo(name='authdevicename', dtype='str'), ColumnInfo(name='result', dtype='bool'), ColumnInfo(name='reason', dtype='str'), IncrementColumn(name='logcount', dtype='int', input_name='timestamp', groupby_column='username', period='D'), CustomColumn(name='locincrement', dtype='int', process_column_fn=functools.partial(<function create_increment_col at 0x7fa0061be0e0>, column_name='location'))], preserve_columns=re.compile('(_batch_id)'), row_filter=None, json_output_columns=[], input_columns={'timestamp': 'datetime64[ns]', 'username': 'datetime64[ns]', 'accessdevicebrowser': 'str', 'accessdeviceos': 'str', 'authdevicename': 'str', 'result': 'bool', 'reason': 'str', 'locincrement': 'int'}, output_columns=[('timestamp', 'datetime64[ns]'), ('username', 'str'), ('accessdevicebrowser', 'str'), ('accessdeviceos', 'str'), ('authdevicename', 'str'), ('result', 'bool'), ('reason', 'str'), ('logcount', 'int'), ('locincrement', 'int')], nvt_workflow=None, prep_dataframe=functools.partial(<function _json_flatten at 0x7fa00620b520>, input_columns={'timestamp': 'datetime64[ns]', 'username': 'datetime64[ns]', 'accessdevicebrowser': 'str', 'accessdeviceos': 'str', 'authdevicename': 'str', 'result': 'bool', 'reason': 'str', 'locincrement': 'int'}, json_cols=[], preserve_re=re.compile('(_batch_id)'))))>\n",
      "  └─ dfp.MultiDFPMessage -> dfp.MultiDFPMessage\u001b[0m\n",
      "Added stage: <dfp-training-6; DFPTraining(model_kwargs=None, epochs=30, validation_size=0.1)>\n",
      "  └─ dfp.MultiDFPMessage -> morpheus.MultiAEMessage\u001b[0m\n",
      "Added stage: <dfp-mlflow-model-writer-7; DFPMLFlowModelWriterStage(model_name_formatter=DFP-duo-{user_id}, experiment_name_formatter=dfp/duo/training/{reg_model_name}, databricks_permissions=None)>\n",
      "  └─ morpheus.MultiAEMessage -> morpheus.MultiAEMessage\u001b[0m\n",
      "====Building Segment Complete!====\u001b[0m\n",
      "\u001b[2mCreating dask cluster...\u001b[0m\n",
      "\u001b[2mCreating dask cluster... Done. Dashboard: http://127.0.0.1:8787/status\u001b[0m\n"
     ]
    },
    {
     "name": "stderr",
     "output_type": "stream",
     "text": [
      "2023-07-19 17:41:28,044 - distributed.preloading - INFO - Creating preload: dask_cuda.initialize\n",
      "2023-07-19 17:41:28,044 - distributed.preloading - INFO - Import preload module: dask_cuda.initialize\n",
      "/opt/conda/envs/morpheus/lib/python3.10/site-packages/merlin/dtypes/mappings/tf.py:52: UserWarning: Tensorflow dtype mappings did not load successfully due to an error: No module named 'tensorflow'\n",
      "  warn(f\"Tensorflow dtype mappings did not load successfully due to an error: {exc.msg}\")\n"
     ]
    },
    {
     "name": "stdout",
     "output_type": "stream",
     "text": [
      "\u001b[2mS3 objects to DF complete. Rows: 79, Cache: miss, Duration: 11666.966438293457 ms, Rate: 6.771254585999772 rows/s\u001b[0m\n",
      "\u001b[2mBatch split users complete. Input: 79 rows from 2022-08-01 03:02:04 to 2022-08-01 23:46:51. Output: 17 users, rows/user min: 2, max: 79, avg: 9.29. Duration: 3.57 ms\u001b[0m\n",
      "\u001b[2mS3 objects to DF complete. Rows: 102, Cache: miss, Duration: 418.95532608032227 ms, Rate: 243.46271225215196 rows/s\u001b[0m\n",
      "\u001b[2mBatch split users complete. Input: 102 rows from 2022-08-02 00:37:03 to 2022-08-02 23:30:48. Output: 17 users, rows/user min: 1, max: 102, avg: 12.00. Duration: 3.08 ms\u001b[0m\n",
      "\u001b[2mS3 objects to DF complete. Rows: 100, Cache: miss, Duration: 626.4846324920654 ms, Rate: 159.62083475569773 rows/s\u001b[0m\n",
      "\u001b[2mBatch split users complete. Input: 100 rows from 2022-08-03 00:01:48 to 2022-08-03 23:58:52. Output: 16 users, rows/user min: 2, max: 100, avg: 12.50. Duration: 2.78 ms\u001b[0m\n",
      "\u001b[2mS3 objects to DF complete. Rows: 88, Cache: miss, Duration: 429.6708106994629 ms, Rate: 204.8079548544255 rows/s\u001b[0m\n",
      "\u001b[2mBatch split users complete. Input: 88 rows from 2022-08-04 00:16:45 to 2022-08-04 23:50:20. Output: 17 users, rows/user min: 1, max: 88, avg: 10.35. Duration: 3.95 ms\u001b[0m\n",
      "\u001b[2mRolling window complete for generic_user in 16.05 ms. Input: 88 rows from 2022-08-04 00:16:45 to 2022-08-04 23:50:20. Output: 369 rows from 2022-08-01 03:02:04 to 2022-08-04 23:50:20\u001b[0m\n"
     ]
    },
    {
     "name": "stderr",
     "output_type": "stream",
     "text": [
      "/opt/conda/envs/morpheus/lib/python3.10/site-packages/pandas/core/arrays/datetimes.py:1143: UserWarning: Converting to PeriodArray/Index representation will drop timezone information.\n",
      "  warnings.warn(\n",
      "/opt/conda/envs/morpheus/lib/python3.10/site-packages/pandas/core/arrays/datetimes.py:1143: UserWarning: Converting to PeriodArray/Index representation will drop timezone information.\n",
      "  warnings.warn(\n"
     ]
    },
    {
     "name": "stdout",
     "output_type": "stream",
     "text": [
      "\u001b[2mPreprocessed 369 data for logs in 2022-08-01 03:02:04 to 2022-08-04 23:50:20 in 460.75963973999023 ms\u001b[0m\n",
      "\u001b[2mTraining AE model for user: 'generic_user'...\u001b[0m\n",
      "\u001b[2mS3 objects to DF complete. Rows: 79, Cache: miss, Duration: 656.3653945922852 ms, Rate: 120.3597883905389 rows/s\u001b[0m\n",
      "\u001b[2mBatch split users complete. Input: 79 rows from 2022-08-05 00:39:29 to 2022-08-05 23:48:15. Output: 17 users, rows/user min: 1, max: 79, avg: 9.29. Duration: 4.51 ms\u001b[0m\n",
      "\u001b[2mS3 objects to DF complete. Rows: 111, Cache: miss, Duration: 914.5395755767822 ms, Rate: 121.3725496023444 rows/s\u001b[0m\n",
      "\u001b[2mBatch split users complete. Input: 111 rows from 2022-08-06 00:04:07 to 2022-08-06 23:55:21. Output: 20 users, rows/user min: 1, max: 111, avg: 11.10. Duration: 3.46 ms\u001b[0m\n",
      "\u001b[2mS3 objects to DF complete. Rows: 72, Cache: miss, Duration: 508.5406303405762 ms, Rate: 141.58160765203888 rows/s\u001b[0m\n",
      "\u001b[2mBatch split users complete. Input: 72 rows from 2022-08-07 01:30:43 to 2022-08-07 23:13:44. Output: 16 users, rows/user min: 1, max: 72, avg: 9.00. Duration: 3.93 ms\u001b[0m\n",
      "\u001b[2mS3 objects to DF complete. Rows: 87, Cache: miss, Duration: 509.0374946594238 ms, Rate: 170.9107893087682 rows/s\u001b[0m\n",
      "\u001b[2mBatch split users complete. Input: 87 rows from 2022-08-08 00:03:47 to 2022-08-08 23:53:14. Output: 18 users, rows/user min: 1, max: 87, avg: 9.67. Duration: 3.39 ms\u001b[0m\n",
      "\u001b[2mRolling window complete for generic_user in 14.33 ms. Input: 87 rows from 2022-08-08 00:03:47 to 2022-08-08 23:53:14. Output: 718 rows from 2022-08-01 03:02:04 to 2022-08-08 23:53:14\u001b[0m\n"
     ]
    },
    {
     "name": "stderr",
     "output_type": "stream",
     "text": [
      "/opt/conda/envs/morpheus/lib/python3.10/site-packages/pandas/core/arrays/datetimes.py:1143: UserWarning: Converting to PeriodArray/Index representation will drop timezone information.\n",
      "  warnings.warn(\n",
      "/opt/conda/envs/morpheus/lib/python3.10/site-packages/pandas/core/arrays/datetimes.py:1143: UserWarning: Converting to PeriodArray/Index representation will drop timezone information.\n",
      "  warnings.warn(\n"
     ]
    },
    {
     "name": "stdout",
     "output_type": "stream",
     "text": [
      "\u001b[2mPreprocessed 718 data for logs in 2022-08-01 03:02:04 to 2022-08-08 23:53:14 in 595.3989028930664 ms\u001b[0m\n",
      "\u001b[2mS3 objects to DF complete. Rows: 85, Cache: miss, Duration: 714.8773670196533 ms, Rate: 118.90151223330476 rows/s\u001b[0m\n",
      "\u001b[2mBatch split users complete. Input: 85 rows from 2022-08-09 00:02:38 to 2022-08-09 23:36:30. Output: 17 users, rows/user min: 1, max: 85, avg: 10.00. Duration: 14.45 ms\u001b[0m\n",
      "\u001b[2mTraining AE model for user: 'generic_user'... Complete.\u001b[0m\n",
      "\u001b[2mTraining AE model for user: 'generic_user'...\u001b[0m\n",
      "\u001b[2mS3 objects to DF complete. Rows: 105, Cache: miss, Duration: 599.5631217956543 ms, Rate: 175.12751565762005 rows/s\u001b[0m\n",
      "\u001b[2mBatch split users complete. Input: 105 rows from 2022-08-10 00:06:51 to 2022-08-10 23:49:15. Output: 19 users, rows/user min: 1, max: 105, avg: 11.05. Duration: 4.68 ms\u001b[0m\n",
      "\u001b[2mS3 objects to DF complete. Rows: 103, Cache: miss, Duration: 487.03455924987793 ms, Rate: 211.48396565253765 rows/s\u001b[0m\n",
      "\u001b[2mBatch split users complete. Input: 103 rows from 2022-08-11 00:14:46 to 2022-08-11 23:41:19. Output: 17 users, rows/user min: 1, max: 103, avg: 12.12. Duration: 3.87 ms\u001b[0m\n",
      "\u001b[2mS3 objects to DF complete. Rows: 93, Cache: miss, Duration: 559.4520568847656 ms, Rate: 166.2340836100561 rows/s\u001b[0m\n",
      "\u001b[2mBatch split users complete. Input: 93 rows from 2022-08-12 00:00:36 to 2022-08-12 23:48:12. Output: 16 users, rows/user min: 1, max: 93, avg: 11.62. Duration: 3.82 ms\u001b[0m\n"
     ]
    },
    {
     "name": "stderr",
     "output_type": "stream",
     "text": [
      "2023/07/19 17:41:44 INFO mlflow.tracking.fluent: Experiment with name 'dfp/duo/training/DFP-duo-generic_user' does not exist. Creating a new experiment.\n"
     ]
    },
    {
     "name": "stdout",
     "output_type": "stream",
     "text": [
      "\u001b[2mRolling window complete for generic_user in 15.27 ms. Input: 93 rows from 2022-08-12 00:00:36 to 2022-08-12 23:48:12. Output: 1104 rows from 2022-08-01 03:02:04 to 2022-08-12 23:48:12\u001b[0m\n"
     ]
    },
    {
     "name": "stderr",
     "output_type": "stream",
     "text": [
      "/opt/conda/envs/morpheus/lib/python3.10/site-packages/pandas/core/arrays/datetimes.py:1143: UserWarning: Converting to PeriodArray/Index representation will drop timezone information.\n",
      "  warnings.warn(\n"
     ]
    },
    {
     "name": "stdout",
     "output_type": "stream",
     "text": [
      "\u001b[2mPreprocessed 1104 data for logs in 2022-08-01 03:02:04 to 2022-08-12 23:48:12 in 734.6303462982178 ms\u001b[0m\n",
      "\u001b[2mS3 objects to DF complete. Rows: 89, Cache: miss, Duration: 874.0179538726807 ms, Rate: 101.8285718338513 rows/s\u001b[0m\n",
      "\u001b[2mBatch split users complete. Input: 89 rows from 2022-08-13 00:01:19 to 2022-08-13 23:34:01. Output: 18 users, rows/user min: 1, max: 89, avg: 9.89. Duration: 2.93 ms\u001b[0m\n"
     ]
    },
    {
     "name": "stderr",
     "output_type": "stream",
     "text": [
      "/opt/conda/envs/morpheus/lib/python3.10/site-packages/pandas/core/arrays/datetimes.py:1143: UserWarning: Converting to PeriodArray/Index representation will drop timezone information.\n",
      "  warnings.warn(\n"
     ]
    },
    {
     "name": "stdout",
     "output_type": "stream",
     "text": [
      "\u001b[2mTraining AE model for user: 'generic_user'... Complete.\u001b[0m\n",
      "\u001b[2mTraining AE model for user: 'generic_user'...\u001b[0m\n",
      "\u001b[2mS3 objects to DF complete. Rows: 87, Cache: miss, Duration: 487.9343509674072 ms, Rate: 178.30267499615206 rows/s\u001b[0m\n",
      "\u001b[2mBatch split users complete. Input: 87 rows from 2022-08-14 00:28:59 to 2022-08-14 23:42:24. Output: 18 users, rows/user min: 1, max: 87, avg: 9.67. Duration: 5.19 ms\u001b[0m\n",
      "\u001b[2mS3 objects to DF complete. Rows: 68, Cache: miss, Duration: 510.03265380859375 ms, Rate: 133.32479693647065 rows/s\u001b[0m\n",
      "\u001b[2mBatch split users complete. Input: 68 rows from 2022-08-15 00:15:04 to 2022-08-15 23:14:56. Output: 15 users, rows/user min: 1, max: 68, avg: 9.07. Duration: 2.86 ms\u001b[0m\n",
      "\u001b[2mS3 objects to DF complete. Rows: 89, Cache: miss, Duration: 498.5921382904053 ms, Rate: 178.50261399059985 rows/s\u001b[0m\n",
      "\u001b[2mBatch split users complete. Input: 89 rows from 2022-08-16 00:18:15 to 2022-08-16 23:58:07. Output: 17 users, rows/user min: 1, max: 89, avg: 10.47. Duration: 3.25 ms\u001b[0m\n",
      "\u001b[2mRolling window complete for generic_user in 20.21 ms. Input: 89 rows from 2022-08-16 00:18:15 to 2022-08-16 23:58:07. Output: 1437 rows from 2022-08-01 03:02:04 to 2022-08-16 23:58:07\u001b[0m\n"
     ]
    },
    {
     "name": "stderr",
     "output_type": "stream",
     "text": [
      "/opt/conda/envs/morpheus/lib/python3.10/site-packages/pandas/core/arrays/datetimes.py:1143: UserWarning: Converting to PeriodArray/Index representation will drop timezone information.\n",
      "  warnings.warn(\n"
     ]
    },
    {
     "name": "stdout",
     "output_type": "stream",
     "text": [
      "\u001b[2mS3 objects to DF complete. Rows: 90, Cache: miss, Duration: 954.7185897827148 ms, Rate: 94.26861586562714 rows/s\u001b[0m\n",
      "\u001b[2mBatch split users complete. Input: 90 rows from 2022-08-17 00:04:52 to 2022-08-17 23:48:15. Output: 18 users, rows/user min: 1, max: 90, avg: 10.00. Duration: 3.43 ms\u001b[0m\n"
     ]
    },
    {
     "name": "stderr",
     "output_type": "stream",
     "text": [
      "/opt/conda/envs/morpheus/lib/python3.10/site-packages/pandas/core/arrays/datetimes.py:1143: UserWarning: Converting to PeriodArray/Index representation will drop timezone information.\n",
      "  warnings.warn(\n"
     ]
    },
    {
     "name": "stdout",
     "output_type": "stream",
     "text": [
      "\u001b[2mPreprocessed 1437 data for logs in 2022-08-01 03:02:04 to 2022-08-16 23:58:07 in 994.2903518676758 ms\u001b[0m\n",
      "\u001b[2mTraining AE model for user: 'generic_user'... Complete.\u001b[0m\n",
      "\u001b[2mTraining AE model for user: 'generic_user'...\u001b[0m\n",
      "\u001b[2mS3 objects to DF complete. Rows: 101, Cache: miss, Duration: 583.3799839019775 ms, Rate: 173.12901159970298 rows/s\u001b[0m\n",
      "\u001b[2mBatch split users complete. Input: 101 rows from 2022-08-18 00:00:50 to 2022-08-18 23:53:08. Output: 17 users, rows/user min: 1, max: 101, avg: 11.88. Duration: 3.13 ms\u001b[0m\n",
      "\u001b[2mSuccessfully registered model 'DFP-duo-generic_user'.\u001b[0m\n"
     ]
    },
    {
     "name": "stderr",
     "output_type": "stream",
     "text": [
      "2023/07/19 17:41:48 INFO mlflow.tracking._model_registry.client: Waiting up to 300 seconds for model version to finish creation. Model name: DFP-duo-generic_user, version 1\n"
     ]
    },
    {
     "name": "stdout",
     "output_type": "stream",
     "text": [
      "\u001b[2mML Flow model upload complete: generic_user:DFP-duo-generic_user:1\u001b[0m\n",
      "\u001b[2mS3 objects to DF complete. Rows: 90, Cache: miss, Duration: 738.9256954193115 ms, Rate: 121.7984440897383 rows/s\u001b[0m\n",
      "\u001b[2mBatch split users complete. Input: 90 rows from 2022-08-19 00:01:58 to 2022-08-19 23:21:45. Output: 17 users, rows/user min: 1, max: 90, avg: 10.59. Duration: 2.75 ms\u001b[0m\n"
     ]
    },
    {
     "name": "stderr",
     "output_type": "stream",
     "text": [
      "2023/07/19 17:41:49 INFO mlflow.tracking._model_registry.client: Waiting up to 300 seconds for model version to finish creation. Model name: DFP-duo-generic_user, version 2\n"
     ]
    },
    {
     "name": "stdout",
     "output_type": "stream",
     "text": [
      "\u001b[2mML Flow model upload complete: generic_user:DFP-duo-generic_user:2\u001b[0m\n",
      "\u001b[2mS3 objects to DF complete. Rows: 108, Cache: miss, Duration: 549.2737293243408 ms, Rate: 196.6232758534626 rows/s\u001b[0m\n",
      "\u001b[2mBatch split users complete. Input: 108 rows from 2022-08-20 00:03:51 to 2022-08-20 23:54:30. Output: 17 users, rows/user min: 1, max: 108, avg: 12.71. Duration: 3.80 ms\u001b[0m\n",
      "\u001b[2mRolling window complete for generic_user in 22.29 ms. Input: 108 rows from 2022-08-20 00:03:51 to 2022-08-20 23:54:30. Output: 1826 rows from 2022-08-01 03:02:04 to 2022-08-20 23:54:30\u001b[0m\n"
     ]
    },
    {
     "name": "stderr",
     "output_type": "stream",
     "text": [
      "2023/07/19 17:41:49 INFO mlflow.tracking._model_registry.client: Waiting up to 300 seconds for model version to finish creation. Model name: DFP-duo-generic_user, version 3\n"
     ]
    },
    {
     "name": "stdout",
     "output_type": "stream",
     "text": [
      "\u001b[2mML Flow model upload complete: generic_user:DFP-duo-generic_user:3\u001b[0m\n"
     ]
    },
    {
     "name": "stderr",
     "output_type": "stream",
     "text": [
      "/opt/conda/envs/morpheus/lib/python3.10/site-packages/pandas/core/arrays/datetimes.py:1143: UserWarning: Converting to PeriodArray/Index representation will drop timezone information.\n",
      "  warnings.warn(\n",
      "/opt/conda/envs/morpheus/lib/python3.10/site-packages/pandas/core/arrays/datetimes.py:1143: UserWarning: Converting to PeriodArray/Index representation will drop timezone information.\n",
      "  warnings.warn(\n"
     ]
    },
    {
     "name": "stdout",
     "output_type": "stream",
     "text": [
      "\u001b[2mPreprocessed 1826 data for logs in 2022-08-01 03:02:04 to 2022-08-20 23:54:30 in 823.347806930542 ms\u001b[0m\n",
      "\u001b[2mS3 objects to DF complete. Rows: 100, Cache: miss, Duration: 952.2974491119385 ms, Rate: 105.00920704266785 rows/s\u001b[0m\n",
      "\u001b[2mBatch split users complete. Input: 100 rows from 2022-08-21 00:12:40 to 2022-08-21 23:47:09. Output: 19 users, rows/user min: 1, max: 100, avg: 10.53. Duration: 3.04 ms\u001b[0m\n",
      "\u001b[2mS3 objects to DF complete. Rows: 92, Cache: miss, Duration: 530.3006172180176 ms, Rate: 173.48650371677184 rows/s\u001b[0m\n",
      "\u001b[2mBatch split users complete. Input: 92 rows from 2022-08-22 00:00:32 to 2022-08-22 23:46:41. Output: 17 users, rows/user min: 2, max: 92, avg: 10.82. Duration: 3.49 ms\u001b[0m\n",
      "\u001b[2mTraining AE model for user: 'generic_user'... Complete.\u001b[0m\n",
      "\u001b[2mTraining AE model for user: 'generic_user'...\u001b[0m\n",
      "\u001b[2mS3 objects to DF complete. Rows: 65, Cache: miss, Duration: 685.1587295532227 ms, Rate: 94.86852782622373 rows/s\u001b[0m\n",
      "\u001b[2mBatch split users complete. Input: 65 rows from 2022-08-23 00:45:51 to 2022-08-23 23:52:47. Output: 17 users, rows/user min: 1, max: 65, avg: 7.65. Duration: 4.18 ms\u001b[0m\n"
     ]
    },
    {
     "name": "stderr",
     "output_type": "stream",
     "text": [
      "2023/07/19 17:41:51 INFO mlflow.tracking._model_registry.client: Waiting up to 300 seconds for model version to finish creation. Model name: DFP-duo-generic_user, version 4\n"
     ]
    },
    {
     "name": "stdout",
     "output_type": "stream",
     "text": [
      "\u001b[2mML Flow model upload complete: generic_user:DFP-duo-generic_user:4\u001b[0m\n",
      "\u001b[2mS3 objects to DF complete. Rows: 97, Cache: miss, Duration: 529.3879508972168 ms, Rate: 183.23046422874293 rows/s\u001b[0m\n",
      "\u001b[2mBatch split users complete. Input: 97 rows from 2022-08-24 00:35:12 to 2022-08-24 23:44:42. Output: 17 users, rows/user min: 1, max: 97, avg: 11.41. Duration: 4.45 ms\u001b[0m\n",
      "\u001b[2mRolling window complete for generic_user in 21.36 ms. Input: 97 rows from 2022-08-24 00:35:12 to 2022-08-24 23:44:42. Output: 2180 rows from 2022-08-01 03:02:04 to 2022-08-24 23:44:42\u001b[0m\n"
     ]
    },
    {
     "name": "stderr",
     "output_type": "stream",
     "text": [
      "/opt/conda/envs/morpheus/lib/python3.10/site-packages/pandas/core/arrays/datetimes.py:1143: UserWarning: Converting to PeriodArray/Index representation will drop timezone information.\n",
      "  warnings.warn(\n"
     ]
    },
    {
     "name": "stdout",
     "output_type": "stream",
     "text": [
      "\u001b[2mS3 objects to DF complete. Rows: 88, Cache: miss, Duration: 956.1178684234619 ms, Rate: 92.03886142730788 rows/s\u001b[0m\n",
      "\u001b[2mBatch split users complete. Input: 88 rows from 2022-08-25 00:38:52 to 2022-08-25 23:28:42. Output: 18 users, rows/user min: 1, max: 88, avg: 9.78. Duration: 3.11 ms\u001b[0m\n"
     ]
    },
    {
     "name": "stderr",
     "output_type": "stream",
     "text": [
      "/opt/conda/envs/morpheus/lib/python3.10/site-packages/pandas/core/arrays/datetimes.py:1143: UserWarning: Converting to PeriodArray/Index representation will drop timezone information.\n",
      "  warnings.warn(\n"
     ]
    },
    {
     "name": "stdout",
     "output_type": "stream",
     "text": [
      "\u001b[2mRolling window complete for attacktarget in 21.85 ms. Input: 16 rows from 2022-08-25 03:23:50 to 2022-08-25 22:31:15. Output: 302 rows from 2022-08-01 04:38:16 to 2022-08-25 22:31:15\u001b[0m\n",
      "\u001b[2mPreprocessed 2180 data for logs in 2022-08-01 03:02:04 to 2022-08-24 23:44:42 in 1008.3956718444824 ms\u001b[0m\n"
     ]
    },
    {
     "name": "stderr",
     "output_type": "stream",
     "text": [
      "/opt/conda/envs/morpheus/lib/python3.10/site-packages/pandas/core/arrays/datetimes.py:1143: UserWarning: Converting to PeriodArray/Index representation will drop timezone information.\n",
      "  warnings.warn(\n",
      "/opt/conda/envs/morpheus/lib/python3.10/site-packages/pandas/core/arrays/datetimes.py:1143: UserWarning: Converting to PeriodArray/Index representation will drop timezone information.\n",
      "  warnings.warn(\n"
     ]
    },
    {
     "name": "stdout",
     "output_type": "stream",
     "text": [
      "\u001b[2mPreprocessed 302 data for logs in 2022-08-01 04:38:16 to 2022-08-25 22:31:15 in 419.0716743469238 ms\u001b[0m\n",
      "\u001b[2mS3 objects to DF complete. Rows: 90, Cache: miss, Duration: 637.6986503601074 ms, Rate: 141.13249251692338 rows/s\u001b[0m\n",
      "\u001b[2mBatch split users complete. Input: 90 rows from 2022-08-26 00:03:13 to 2022-08-26 23:33:39. Output: 18 users, rows/user min: 1, max: 90, avg: 10.00. Duration: 9.87 ms\u001b[0m\n",
      "\u001b[2mS3 objects to DF complete. Rows: 88, Cache: miss, Duration: 565.8867359161377 ms, Rate: 155.50815103932968 rows/s\u001b[0m\n",
      "\u001b[2mBatch split users complete. Input: 88 rows from 2022-08-27 00:17:07 to 2022-08-27 23:50:48. Output: 16 users, rows/user min: 1, max: 88, avg: 11.00. Duration: 2.94 ms\u001b[0m\n",
      "\u001b[2mS3 objects to DF complete. Rows: 99, Cache: miss, Duration: 480.7703495025635 ms, Rate: 205.91952083241384 rows/s\u001b[0m\n",
      "\u001b[2mBatch split users complete. Input: 99 rows from 2022-08-28 00:26:28 to 2022-08-28 23:45:18. Output: 17 users, rows/user min: 1, max: 99, avg: 11.65. Duration: 2.98 ms\u001b[0m\n",
      "\u001b[2mRolling window complete for generic_user in 23.87 ms. Input: 99 rows from 2022-08-28 00:26:28 to 2022-08-28 23:45:18. Output: 2545 rows from 2022-08-01 03:02:04 to 2022-08-28 23:45:18\u001b[0m\n",
      "\u001b[2mRolling window complete for juan in 22.09 ms. Input: 18 rows from 2022-08-28 00:26:28 to 2022-08-28 22:28:05. Output: 306 rows from 2022-08-01 04:18:06 to 2022-08-28 22:28:05\u001b[0m\n",
      "\u001b[2mTraining AE model for user: 'generic_user'... Complete.\u001b[0m\n"
     ]
    },
    {
     "name": "stderr",
     "output_type": "stream",
     "text": [
      "/opt/conda/envs/morpheus/lib/python3.10/site-packages/pandas/core/arrays/datetimes.py:1143: UserWarning: Converting to PeriodArray/Index representation will drop timezone information.\n",
      "  warnings.warn(\n"
     ]
    },
    {
     "name": "stdout",
     "output_type": "stream",
     "text": [
      "\u001b[2mTraining AE model for user: 'generic_user'...\u001b[0m\n"
     ]
    },
    {
     "name": "stderr",
     "output_type": "stream",
     "text": [
      "/opt/conda/envs/morpheus/lib/python3.10/site-packages/pandas/core/arrays/datetimes.py:1143: UserWarning: Converting to PeriodArray/Index representation will drop timezone information.\n",
      "  warnings.warn(\n",
      "2023/07/19 17:41:55 INFO mlflow.tracking._model_registry.client: Waiting up to 300 seconds for model version to finish creation. Model name: DFP-duo-generic_user, version 5\n"
     ]
    },
    {
     "name": "stdout",
     "output_type": "stream",
     "text": [
      "\u001b[2mML Flow model upload complete: generic_user:DFP-duo-generic_user:5\u001b[0m\n",
      "\u001b[2mS3 objects to DF complete. Rows: 99, Cache: miss, Duration: 1086.2226486206055 ms, Rate: 91.14153541699774 rows/s\u001b[0m\n",
      "\u001b[2mBatch split users complete. Input: 99 rows from 2022-08-29 00:07:32 to 2022-08-29 23:44:47. Output: 17 users, rows/user min: 1, max: 99, avg: 11.65. Duration: 3.85 ms\u001b[0m\n",
      "\u001b[2mRolling window complete for anthony in 13.22 ms. Input: 9 rows from 2022-08-29 04:07:05 to 2022-08-29 23:33:24. Output: 303 rows from 2022-08-01 04:54:59 to 2022-08-29 23:33:24\u001b[0m\n",
      "\u001b[2mRolling window complete for benjamin in 16.98 ms. Input: 11 rows from 2022-08-29 00:07:32 to 2022-08-29 23:17:15. Output: 300 rows from 2022-08-01 04:52:20 to 2022-08-29 23:17:15\u001b[0m\n",
      "\u001b[2mPreprocessed 2545 data for logs in 2022-08-01 03:02:04 to 2022-08-28 23:45:18 in 1105.8740615844727 ms\u001b[0m\n",
      "\u001b[2mPreprocessed 306 data for logs in 2022-08-01 04:18:06 to 2022-08-28 22:28:05 in 305.36842346191406 ms\u001b[0m\n"
     ]
    },
    {
     "name": "stderr",
     "output_type": "stream",
     "text": [
      "/opt/conda/envs/morpheus/lib/python3.10/site-packages/pandas/core/arrays/datetimes.py:1143: UserWarning: Converting to PeriodArray/Index representation will drop timezone information.\n",
      "  warnings.warn(\n",
      "/opt/conda/envs/morpheus/lib/python3.10/site-packages/pandas/core/arrays/datetimes.py:1143: UserWarning: Converting to PeriodArray/Index representation will drop timezone information.\n",
      "  warnings.warn(\n"
     ]
    },
    {
     "name": "stdout",
     "output_type": "stream",
     "text": [
      "\u001b[2mPreprocessed 303 data for logs in 2022-08-01 04:54:59 to 2022-08-29 23:33:24 in 288.36750984191895 ms\u001b[0m\n"
     ]
    },
    {
     "name": "stderr",
     "output_type": "stream",
     "text": [
      "/opt/conda/envs/morpheus/lib/python3.10/site-packages/pandas/core/arrays/datetimes.py:1143: UserWarning: Converting to PeriodArray/Index representation will drop timezone information.\n",
      "  warnings.warn(\n",
      "/opt/conda/envs/morpheus/lib/python3.10/site-packages/pandas/core/arrays/datetimes.py:1143: UserWarning: Converting to PeriodArray/Index representation will drop timezone information.\n",
      "  warnings.warn(\n"
     ]
    },
    {
     "name": "stdout",
     "output_type": "stream",
     "text": [
      "\u001b[2mPreprocessed 300 data for logs in 2022-08-01 04:52:20 to 2022-08-29 23:17:15 in 321.4404582977295 ms\u001b[0m\n"
     ]
    },
    {
     "name": "stderr",
     "output_type": "stream",
     "text": [
      "/opt/conda/envs/morpheus/lib/python3.10/site-packages/pandas/core/arrays/datetimes.py:1143: UserWarning: Converting to PeriodArray/Index representation will drop timezone information.\n",
      "  warnings.warn(\n",
      "/opt/conda/envs/morpheus/lib/python3.10/site-packages/pandas/core/arrays/datetimes.py:1143: UserWarning: Converting to PeriodArray/Index representation will drop timezone information.\n",
      "  warnings.warn(\n"
     ]
    },
    {
     "name": "stdout",
     "output_type": "stream",
     "text": [
      "\u001b[2mTraining AE model for user: 'generic_user'... Complete.\u001b[0m\n",
      "\u001b[2mTraining AE model for user: 'attacktarget'...\u001b[0m\n"
     ]
    },
    {
     "name": "stderr",
     "output_type": "stream",
     "text": [
      "2023/07/19 17:41:58 INFO mlflow.tracking._model_registry.client: Waiting up to 300 seconds for model version to finish creation. Model name: DFP-duo-generic_user, version 6\n"
     ]
    },
    {
     "name": "stdout",
     "output_type": "stream",
     "text": [
      "\u001b[2mML Flow model upload complete: generic_user:DFP-duo-generic_user:6\u001b[0m\n",
      "\u001b[2mTraining AE model for user: 'attacktarget'... Complete.\u001b[0m\n",
      "\u001b[2mTraining AE model for user: 'generic_user'...\u001b[0m\n"
     ]
    },
    {
     "name": "stderr",
     "output_type": "stream",
     "text": [
      "2023/07/19 17:41:59 INFO mlflow.tracking.fluent: Experiment with name 'dfp/duo/training/DFP-duo-attacktarget' does not exist. Creating a new experiment.\n"
     ]
    },
    {
     "name": "stdout",
     "output_type": "stream",
     "text": [
      "\u001b[2mSuccessfully registered model 'DFP-duo-attacktarget'.\u001b[0m\n"
     ]
    },
    {
     "name": "stderr",
     "output_type": "stream",
     "text": [
      "2023/07/19 17:41:59 INFO mlflow.tracking._model_registry.client: Waiting up to 300 seconds for model version to finish creation. Model name: DFP-duo-attacktarget, version 1\n"
     ]
    },
    {
     "name": "stdout",
     "output_type": "stream",
     "text": [
      "\u001b[2mML Flow model upload complete: attacktarget:DFP-duo-attacktarget:1\u001b[0m\n",
      "\u001b[2mTraining AE model for user: 'generic_user'... Complete.\u001b[0m\n",
      "\u001b[2mTraining AE model for user: 'juan'...\u001b[0m\n"
     ]
    },
    {
     "name": "stderr",
     "output_type": "stream",
     "text": [
      "2023/07/19 17:42:01 INFO mlflow.tracking._model_registry.client: Waiting up to 300 seconds for model version to finish creation. Model name: DFP-duo-generic_user, version 7\n"
     ]
    },
    {
     "name": "stdout",
     "output_type": "stream",
     "text": [
      "\u001b[2mML Flow model upload complete: generic_user:DFP-duo-generic_user:7\u001b[0m\n",
      "\u001b[2mTraining AE model for user: 'juan'... Complete.\u001b[0m\n",
      "\u001b[2mTraining AE model for user: 'anthony'...\u001b[0m\n"
     ]
    },
    {
     "name": "stderr",
     "output_type": "stream",
     "text": [
      "2023/07/19 17:42:02 INFO mlflow.tracking.fluent: Experiment with name 'dfp/duo/training/DFP-duo-juan' does not exist. Creating a new experiment.\n"
     ]
    },
    {
     "name": "stdout",
     "output_type": "stream",
     "text": [
      "\u001b[2mSuccessfully registered model 'DFP-duo-juan'.\u001b[0m\n"
     ]
    },
    {
     "name": "stderr",
     "output_type": "stream",
     "text": [
      "2023/07/19 17:42:02 INFO mlflow.tracking._model_registry.client: Waiting up to 300 seconds for model version to finish creation. Model name: DFP-duo-juan, version 1\n"
     ]
    },
    {
     "name": "stdout",
     "output_type": "stream",
     "text": [
      "\u001b[2mML Flow model upload complete: juan:DFP-duo-juan:1\u001b[0m\n",
      "\u001b[2mTraining AE model for user: 'anthony'... Complete.\u001b[0m\n",
      "\u001b[2mTraining AE model for user: 'benjamin'...\u001b[0m\n"
     ]
    },
    {
     "name": "stderr",
     "output_type": "stream",
     "text": [
      "2023/07/19 17:42:03 INFO mlflow.tracking.fluent: Experiment with name 'dfp/duo/training/DFP-duo-anthony' does not exist. Creating a new experiment.\n"
     ]
    },
    {
     "name": "stdout",
     "output_type": "stream",
     "text": [
      "\u001b[2mSuccessfully registered model 'DFP-duo-anthony'.\u001b[0m\n"
     ]
    },
    {
     "name": "stderr",
     "output_type": "stream",
     "text": [
      "2023/07/19 17:42:03 INFO mlflow.tracking._model_registry.client: Waiting up to 300 seconds for model version to finish creation. Model name: DFP-duo-anthony, version 1\n"
     ]
    },
    {
     "name": "stdout",
     "output_type": "stream",
     "text": [
      "\u001b[2mML Flow model upload complete: anthony:DFP-duo-anthony:1\u001b[0m\n",
      "\u001b[2mTraining AE model for user: 'benjamin'... Complete.\u001b[0m\n"
     ]
    },
    {
     "name": "stderr",
     "output_type": "stream",
     "text": [
      "2023/07/19 17:42:04 INFO mlflow.tracking.fluent: Experiment with name 'dfp/duo/training/DFP-duo-benjamin' does not exist. Creating a new experiment.\n"
     ]
    },
    {
     "name": "stdout",
     "output_type": "stream",
     "text": [
      "\u001b[2mSuccessfully registered model 'DFP-duo-benjamin'.\u001b[0m\n"
     ]
    },
    {
     "name": "stderr",
     "output_type": "stream",
     "text": [
      "2023/07/19 17:42:04 INFO mlflow.tracking._model_registry.client: Waiting up to 300 seconds for model version to finish creation. Model name: DFP-duo-benjamin, version 1\n"
     ]
    },
    {
     "name": "stdout",
     "output_type": "stream",
     "text": [
      "\u001b[2mML Flow model upload complete: benjamin:DFP-duo-benjamin:1\u001b[0m\n",
      "====Pipeline Complete====\u001b[0m\n"
     ]
    }
   ],
   "source": [
    "# Create a linear pipeline object\n",
    "pipeline = LinearPipeline(config)\n",
    "\n",
    "# Source stage\n",
    "pipeline.set_source(MultiFileSource(config, filenames=input_files))\n",
    "\n",
    "# Batch files into buckets by time. Use the default ISO date extractor from the filename\n",
    "pipeline.add_stage(\n",
    "    DFPFileBatcherStage(config,\n",
    "                        period=\"D\",\n",
    "                        date_conversion_func=functools.partial(date_extractor, filename_regex=iso_date_regex)))\n",
    "\n",
    "# Output is S3 Buckets. Convert to DataFrames. This caches downloaded S3 data\n",
    "pipeline.add_stage(\n",
    "    DFPFileToDataFrameStage(config,\n",
    "                            schema=source_schema,\n",
    "                            file_type=FileTypes.JSON,\n",
    "                            parser_kwargs={\n",
    "                                \"lines\": False, \"orient\": \"records\"\n",
    "                            },\n",
    "                            cache_dir=cache_dir))\n",
    "\n",
    "\n",
    "# This will split users or just use one single user\n",
    "pipeline.add_stage(\n",
    "    DFPSplitUsersStage(config,\n",
    "                        include_generic=include_generic,\n",
    "                        include_individual=include_individual,\n",
    "                        skip_users=skip_users))\n",
    "\n",
    "# Next, have a stage that will create rolling windows\n",
    "pipeline.add_stage(\n",
    "    DFPRollingWindowStage(\n",
    "        config,\n",
    "        min_history=300 if is_training else 1,\n",
    "        min_increment=300 if is_training else 0,\n",
    "        # For inference, we only ever want 1 day max\n",
    "        max_history=\"60d\" if is_training else \"1d\",\n",
    "        cache_dir=cache_dir))\n",
    "\n",
    "# Output is UserMessageMeta -- Cached frame set\n",
    "pipeline.add_stage(DFPPreprocessingStage(config, input_schema=preprocess_schema))\n",
    "\n",
    "# Finally, perform training which will output a model\n",
    "pipeline.add_stage(DFPTraining(config, validation_size=0.10))\n",
    "\n",
    "# Write that model to MLFlow\n",
    "pipeline.add_stage(\n",
    "    DFPMLFlowModelWriterStage(config,\n",
    "                                model_name_formatter=model_name_formatter,\n",
    "                                experiment_name_formatter=experiment_name_formatter))\n",
    "\n",
    "# Run the pipeline\n",
    "await pipeline.run_async()"
   ]
  },
  {
   "cell_type": "code",
   "execution_count": null,
   "id": "6eed0657-6f4b-4f21-97fa-051eeb7f4fee",
   "metadata": {},
   "outputs": [],
   "source": []
  }
 ],
 "metadata": {
  "kernelspec": {
   "display_name": "Python [conda env:morpheus] *",
   "language": "python",
   "name": "conda-env-morpheus-py"
  },
  "language_info": {
   "codemirror_mode": {
    "name": "ipython",
    "version": 3
   },
   "file_extension": ".py",
   "mimetype": "text/x-python",
   "name": "python",
   "nbconvert_exporter": "python",
   "pygments_lexer": "ipython3",
   "version": "3.10.12"
  },
  "vscode": {
   "interpreter": {
    "hash": "916dbcbb3f70747c44a77c7bcd40155683ae19c65e1c03b4aa3499c5328201f1"
   }
  }
 },
 "nbformat": 4,
 "nbformat_minor": 5
}
