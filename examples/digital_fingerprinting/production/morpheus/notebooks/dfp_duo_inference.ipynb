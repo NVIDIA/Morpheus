{
 "cells": [
  {
   "cell_type": "markdown",
   "id": "2941e94f-db20-44a5-ab87-2cab499825f7",
   "metadata": {},
   "source": [
    "# Digital Finger Printing (DFP) with Morpheus - DUO Inference\n",
    "## Introduction\n",
    "\n",
    "In this notebook, we will be building and running a DFP pipeline that performs inference on Duo authentication logs. The goal is to use the pretrained models generated in the Duo Training notebook to generate anomaly scores for each log. These anomaly scores can be used by security teams to detect abnormal behavior when it happens so the proper action can be taken.\n",
    "\n",
    "<div class=\"alert alert-block alert-info\">\n",
    "<b>Note:</b> For more information on DFP, the Morpheus pipeline, and setup steps to run this notebook, please refer to the coresponding DFP training materials.\n",
    "</div>"
   ]
  },
  {
   "cell_type": "code",
   "execution_count": 1,
   "id": "b6c1cb50-74f2-445d-b865-8c22c3b3798b",
   "metadata": {},
   "outputs": [],
   "source": [
    "%load_ext autoreload\n",
    "%autoreload 2\n",
    "\n",
    "# Ensure that the morpheus directory is in the python path. This may not need to be run depending on the environment setup\n",
    "import sys\n",
    "import os\n",
    "sys.path.insert(0, os.path.abspath(\"../../morpheus\"))"
   ]
  },
  {
   "cell_type": "code",
   "execution_count": 2,
   "id": "102ce011-3ca3-4f96-a72d-de28fad32003",
   "metadata": {},
   "outputs": [
    {
     "data": {
      "text/html": [
       "<style>table {align:left;display:block}</style>"
      ],
      "text/plain": [
       "<IPython.core.display.HTML object>"
      ]
     },
     "execution_count": 2,
     "metadata": {},
     "output_type": "execute_result"
    }
   ],
   "source": [
    "import functools\n",
    "import logging\n",
    "import os\n",
    "import mlflow\n",
    "import typing\n",
    "from datetime import datetime\n",
    "\n",
    "from dfp.stages.dfp_file_batcher_stage import DFPFileBatcherStage\n",
    "from dfp.stages.dfp_file_to_df import DFPFileToDataFrameStage\n",
    "from dfp.stages.dfp_inference_stage import DFPInferenceStage\n",
    "from dfp.stages.dfp_postprocessing_stage import DFPPostprocessingStage\n",
    "from dfp.stages.dfp_preprocessing_stage import DFPPreprocessingStage\n",
    "from dfp.stages.dfp_rolling_window_stage import DFPRollingWindowStage\n",
    "from dfp.stages.dfp_split_users_stage import DFPSplitUsersStage\n",
    "from dfp.stages.multi_file_source import MultiFileSource\n",
    "from dfp.utils.regex_utils import iso_date_regex\n",
    "\n",
    "from morpheus.common import FileTypes\n",
    "from morpheus.common import FilterSource\n",
    "from morpheus.cli.utils import get_log_levels\n",
    "from morpheus.cli.utils import get_package_relative_file\n",
    "from morpheus.cli.utils import load_labels_file\n",
    "from morpheus.cli.utils import parse_log_level\n",
    "from morpheus.config import Config\n",
    "from morpheus.config import ConfigAutoEncoder\n",
    "from morpheus.config import CppConfig\n",
    "from morpheus.pipeline import LinearPipeline\n",
    "from morpheus.stages.output.write_to_file_stage import WriteToFileStage\n",
    "from morpheus.utils.column_info import BoolColumn\n",
    "from morpheus.utils.column_info import ColumnInfo\n",
    "from morpheus.utils.column_info import DataFrameInputSchema\n",
    "from morpheus.utils.column_info import DateTimeColumn\n",
    "from morpheus.utils.column_info import DistinctIncrementColumn\n",
    "from morpheus.utils.column_info import IncrementColumn\n",
    "from morpheus.utils.column_info import RenameColumn\n",
    "from morpheus.utils.column_info import StringCatColumn\n",
    "from morpheus.utils.file_utils import date_extractor\n",
    "from morpheus.stages.postprocess.filter_detections_stage import FilterDetectionsStage\n",
    "from morpheus.stages.postprocess.serialize_stage import SerializeStage\n",
    "from morpheus.utils.logger import configure_logging\n",
    "\n",
    "# Left align all tables\n",
    "from IPython.core.display import HTML\n",
    "table_css = 'table {align:left;display:block}'\n",
    "HTML('<style>{}</style>'.format(table_css))"
   ]
  },
  {
   "cell_type": "markdown",
   "id": "ca38c1b7-ce84-43e0-ac53-280562dc1642",
   "metadata": {},
   "source": [
    "## High Level Configuration\n",
    "\n",
    "The following options significantly alter the functionality of the pipeline. These options are separated from the individual stage options since they may effect more than one stage. Additionally, the matching python script to this notebook, `dfp_duo_pipeline.py`, configures these options via command line arguments.\n",
    "\n",
    "### Options\n",
    "\n",
    "| Name | Type | Description |\n",
    "| --- | --- | :-- |\n",
    "| `train_users` | One of `[\"none\"]` | For inference, this option should always be `\"none\"` |\n",
    "| `skip_users` | List of strings | Any user in this list will be dropped from the pipeline. Useful for debugging to remove automated accounts with many logs. |\n",
    "| `cache_dir` | string | The location to store cached files. To aid with development and reduce bandwidth, the Morpheus pipeline will cache data from several stages of the pipeline. This option configures the location for those caches. |\n",
    "| `input_files` | List of strings | List of files to process. Can specify multiple arguments for multiple files. Also accepts glob (\\*) wildcards and schema prefixes such as `s3://`. For example, to make a local cache of an s3 bucket, use `filecache::s3://mybucket/*`. Refer to `fsspec` documentation for list of possible options. |\n",
    "| `model_name_formatter` | string | A format string to use when building the model name. The model name is constructed by calling `model_name_formatter.format(user_id=user_id)`. For example, with `model_name_formatter=\"my_model-{user_id}\"` and a user ID of `\"first:last\"` would result in the model name of `\"my_model-first:last\"`. This should match the value used in `DFPMLFlowModelWriterStage`. Available keyword arguments: `user_id`, `user_md5`. |\n",
    "| `experiment_name_formatter` | string | A format string (without the `f`) that will be used when creating an experiment in ML Flow. Available keyword arguments: `user_id`, `user_md5`, `reg_model_name`. |\n"
   ]
  },
  {
   "cell_type": "code",
   "execution_count": 3,
   "id": "9ee00703-75c5-46fc-890c-86733da906c4",
   "metadata": {},
   "outputs": [],
   "source": [
    "# Global options\n",
    "train_users = \"none\"\n",
    "\n",
    "# Enter any users to skip here\n",
    "skip_users: typing.List[str] = []\n",
    "\n",
    "# Location where cache objects will be saved\n",
    "cache_dir = \"./.cache/dfp\"\n",
    "\n",
    "# Input files to read from\n",
    "input_files = [\n",
    "    \"../../../../data/dfp/duo-inference-data/DUO_2022-08-*.json\"\n",
    "]\n",
    "\n",
    "# The format to use for models\n",
    "model_name_formatter = \"DFP-duo-{user_id}\"\n",
    "\n",
    "# === Derived Options ===\n",
    "# To include the generic, we must be training all or generic\n",
    "include_generic = train_users == \"all\" or train_users == \"generic\"\n",
    "\n",
    "# To include individual, we must be either training or inferring\n",
    "include_individual = train_users != \"generic\"\n",
    "\n",
    "# None indicates we arent training anything\n",
    "is_training = train_users != \"none\"\n",
    "\n",
    "# Tracking URI\n",
    "tracking_uri = \"http://mlflow:5000\""
   ]
  },
  {
   "cell_type": "markdown",
   "id": "fb6b7d75",
   "metadata": {},
   "source": [
    "### Set MLFlow Tracking URI\n",
    "Set MLFlow tracking URI to make inference calls."
   ]
  },
  {
   "cell_type": "code",
   "execution_count": 4,
   "id": "2a01ceb8",
   "metadata": {},
   "outputs": [],
   "source": [
    "mlflow.set_tracking_uri(tracking_uri)"
   ]
  },
  {
   "cell_type": "markdown",
   "id": "1cfc24c9-c85e-4977-a348-692c8f0aceaa",
   "metadata": {},
   "source": [
    "### Global Config Object\n",
    "Before creating the pipeline, we need to setup logging and set the parameters for the Morpheus config object. This config object is responsible for the following:\n",
    " - Indicating whether to use C++ or Python stages\n",
    "    - C++ stages are not supported for the DFP pipeline. This should always be `False`\n",
    " - Setting the number of threads to use in the pipeline. Defaults to the thread count of the OS.\n",
    " - Sets the feature column names that will be used in model training\n",
    "    - This option allows extra columns to be used in the pipeline that will not be part of the training algorithm.\n",
    "    - The final features that the model will be trained on will be an intersection of this list with the log columns.\n",
    " - The column name that indicates the user's unique identifier\n",
    "    - It is required for DFP to have a user ID column\n",
    " - The column name that indicates the timestamp for the log\n",
    "    - It is required for DFP to know when each log occurred"
   ]
  },
  {
   "cell_type": "code",
   "execution_count": 5,
   "id": "01abd537-9162-49dc-8e83-d9465592f1d5",
   "metadata": {},
   "outputs": [],
   "source": [
    "# Enable the Morpheus logger\n",
    "configure_logging(log_level=logging.DEBUG)\n",
    "\n",
    "config = Config()\n",
    "\n",
    "CppConfig.set_should_use_cpp(False)\n",
    "\n",
    "config.num_threads = len(os.sched_getaffinity(0))\n",
    "\n",
    "config.ae = ConfigAutoEncoder()\n",
    "\n",
    "config.ae.feature_columns = [\n",
    "    'accessdevicebrowser', 'accessdeviceos', 'authdevicename', 'result', 'reason', 'logcount', \"locincrement\"\n",
    "]\n",
    "config.ae.userid_column_name = \"username\"\n",
    "config.ae.timestamp_column_name = \"timestamp\""
   ]
  },
  {
   "cell_type": "code",
   "execution_count": 6,
   "id": "a73a4d53-32b6-4ab8-a5d7-c0104b31c69b",
   "metadata": {},
   "outputs": [],
   "source": [
    "# Specify the column names to ensure all data is uniform\n",
    "source_column_info = [\n",
    "    DateTimeColumn(name=config.ae.timestamp_column_name, dtype=datetime, input_name=\"timestamp\"),\n",
    "    RenameColumn(name=config.ae.userid_column_name, dtype=str, input_name=\"user.name\"),\n",
    "    RenameColumn(name=\"accessdevicebrowser\", dtype=str, input_name=\"access_device.browser\"),\n",
    "    RenameColumn(name=\"accessdeviceos\", dtype=str, input_name=\"access_device.os\"),\n",
    "    StringCatColumn(name=\"location\",\n",
    "                    dtype=str,\n",
    "                    input_columns=[\n",
    "                        \"access_device.location.city\",\n",
    "                        \"access_device.location.state\",\n",
    "                        \"access_device.location.country\"\n",
    "                    ],\n",
    "                    sep=\", \"),\n",
    "    RenameColumn(name=\"authdevicename\", dtype=str, input_name=\"auth_device.name\"),\n",
    "    BoolColumn(name=\"result\",\n",
    "                dtype=bool,\n",
    "                input_name=\"result\",\n",
    "                true_values=[\"success\", \"SUCCESS\"],\n",
    "                false_values=[\"denied\", \"DENIED\", \"FRAUD\"]),\n",
    "    ColumnInfo(name=\"reason\", dtype=str),\n",
    "    # CustomColumn(name=\"user.groups\", dtype=str, process_column_fn=partial(column_listjoin, col_name=\"user.groups\"))\n",
    "]\n",
    "\n",
    "source_schema = DataFrameInputSchema(json_columns=[\"access_device\", \"application\", \"auth_device\", \"user\"],\n",
    "                                        column_info=source_column_info)\n"
   ]
  },
  {
   "cell_type": "code",
   "execution_count": 7,
   "id": "f7a0cb0a-e65a-444a-a06c-a4525d543790",
   "metadata": {},
   "outputs": [],
   "source": [
    "# Preprocessing schema\n",
    "preprocess_column_info = [\n",
    "    ColumnInfo(name=config.ae.timestamp_column_name, dtype=datetime),\n",
    "    ColumnInfo(name=config.ae.userid_column_name, dtype=str),\n",
    "    ColumnInfo(name=\"accessdevicebrowser\", dtype=str),\n",
    "    ColumnInfo(name=\"accessdeviceos\", dtype=str),\n",
    "    ColumnInfo(name=\"authdevicename\", dtype=str),\n",
    "    ColumnInfo(name=\"result\", dtype=bool),\n",
    "    ColumnInfo(name=\"reason\", dtype=str),\n",
    "    # Derived columns\n",
    "    IncrementColumn(name=\"logcount\",\n",
    "                    dtype=int,\n",
    "                    input_name=config.ae.timestamp_column_name,\n",
    "                    groupby_column=config.ae.userid_column_name),\n",
    "    DistinctIncrementColumn(name=\"locincrement\",\n",
    "                            dtype=int,\n",
    "                            input_name=\"location\",\n",
    "                            groupby_column=config.ae.userid_column_name,\n",
    "                            timestamp_column=config.ae.timestamp_column_name)\n",
    "]\n",
    "\n",
    "preprocess_schema = DataFrameInputSchema(column_info=preprocess_column_info, preserve_columns=[\"_batch_id\"])\n"
   ]
  },
  {
   "cell_type": "markdown",
   "id": "bdfc59de-dea8-4e5f-98e3-98eba1e4621d",
   "metadata": {
    "tags": []
   },
   "source": [
    "## Pipeline Construction\n",
    "From this point on we begin constructing the stages that will make up the pipeline. To make testing easier, constructing the pipeline object, adding the stages, and running the pipeline, is provided as a single cell. The below cell can be rerun multiple times as needed for debugging.\n",
    "\n",
    "### Source Stage (`MultiFileSource`)\n",
    "\n",
    "This pipeline read input logs from one or more input files. This source stage will read all specified log files, combine them into a single `DataFrame`, and pass it into the pipeline. Once all of the logs have been read, the source completes. \n",
    "\n",
    "| Name | Type | Default | Description |\n",
    "| --- | --- | --- | :-- |\n",
    "| `filenames` | List of strings | | Any files to read into the pipeline. All files will be combined into a single `DataFrame` |\n",
    "\n",
    "### File Batcher Stage (`DFPFileBatcherStage`)\n",
    "\n",
    "To improve performance, multiple small input files can be batched together into a single DataFrame for processing. This stage is responsible for determining the timestamp of input files, grouping input files into batches by time, and sending the batches to be processed into a single DataFrame. Repeated batches of files will be loaded from cache resulting in increased performance.  For example, when performaing a 60 day training run, 59 days can be cached with a period of `\"D\"` and retraining once per day.\n",
    "\n",
    "| Name | Type | Default | Description |\n",
    "| --- | --- | --- | :-- |\n",
    "| `period` | `str` | `\"D\"` | The period to create batches. Refer to `pandas` windowing frequency documentation for available options.  |\n",
    "| `date_conversion_func` | Function of `typing.Callable[[fsspec.core.OpenFile], datetime]` | | A callback which is responsible for determining the date for a specified file. |\n",
    "\n",
    "### File to DataFrame Stage (`DFPFileToDataFrameStage`)\n",
    "\n",
    "After files have been batched into groups, this stage is responsible for reading the files and converting into a DataFrame. The specified input schema converts the raw DataFrame into one suitable for caching and processing. Any columns that are not needed should be excluded from the schema.\n",
    "\n",
    "| Name | Type | Default | Description |\n",
    "| --- | --- | --- | :-- |\n",
    "| `schema` | `DataFrameInputSchema` | | After the raw `DataFrame` is read from each file, this schema will be applied to ensure a consisten output from the source. |\n",
    "| `file_type` | `FileTypes` | `FileTypes.Auto` | Allows overriding the file type. When set to `Auto`, the file extension will be used. Options are `CSV`, `JSON`, `PARQUET`, `Auto`. |\n",
    "| `parser_kwargs` | `dict` | `{}` | This dictionary will be passed to the `DataFrame` parser class. Allows for customization of log parsing. |\n",
    "| `cache_dir` | `str` | `./.cache/dfp` | The location to write cached input files to. |\n",
    "\n",
    "### Split Users Stage (`DFPSplitUsersStage`)\n",
    "\n",
    "Once the input logs have been read into a `DataFrame`, this stage is responsible for breaking that single `DataFrame` with many users into multiple `DataFrame`s for each user. This is also where the pipeline chooses whether to train individual users or the generic user (or both).\n",
    "\n",
    "| Name | Type | Default | Description |\n",
    "| --- | --- | --- | :-- |\n",
    "| `include_generic` | `bool` | | Whether or not to combine all user logs into a single `DataFrame` with the username 'generic_user' |\n",
    "| `include_individual` | `bool` | | Whether or not to output individual `DataFrame` objects for each user |\n",
    "| `skip_users` | List of `str` | `[]` | Any users to remove from the `DataFrame`. Useful for debugging to remove automated accounts with many logs. Mutually exclusive with `only_users`. |\n",
    "| `only_users` | List of `str` | `[]` | Only allow these users in the final `DataFrame`. Useful for debugging to focus on specific users. Mutually exclusive with `skip_users`. |\n",
    "\n",
    "### Rolling Window Stage (`DFPRollingWindowStage`)\n",
    "\n",
    "The Rolling Window Stage performs several key pieces of functionality for DFP.\n",
    "1. This stage keeps a moving window of logs on a per user basis\n",
    "   1. These logs are saved to disk to reduce memory requirements between logs from the same user\n",
    "1. It only emits logs when the window history requirements are met\n",
    "   1. Until all of the window history requirements are met, no messages will be sent to the rest of the pipeline.\n",
    "   1. Configuration options for defining the window history requirements are detailed below.\n",
    "1. It repeats the necessary logs to properly calculate log dependent features.\n",
    "   1. To support all column feature types, incoming log messages can be combined with existing history and sent to downstream stages.\n",
    "   1. For example, to calculate a feature that increments a counter for the number of logs a particular user has generated in a single day, we must have the user's log history for the past 24 hours. To support this, this stage will combine new logs with existing history into a single `DataFrame`.\n",
    "   1. It is the responsibility of downstream stages to distinguish between new logs and existing history.\n",
    "\n",
    "| Name | Type | Default | Description |\n",
    "| --- | --- | --- | :-- |\n",
    "| `min_history` | `int` | `1` | The minimum number of logs a user must have before emitting any messages. Logs below this threshold will be saved to disk. |\n",
    "| `min_increment` | `int` or `str` | `0` | Once the min history requirement is met, this stage must receive `min_increment` *new* logs before emmitting another message. Logs received before this threshold is met will be saved to disk. Can be specified as an integer count or a string duration. |\n",
    "| `max_history` | `int` or `str` | `\"1d\"` | Once `min_history` and `min_increment` requirements have been met, this puts an upper bound on the maximum number of messages to forward into the pipeline and also the maximum amount of messages to retain in the history. Can be specified as an integer count or a string duration. |\n",
    "| `cache_dir` | `str` | `./.cache/dfp` | The location to write log history to disk. |\n",
    "\n",
    "### Preprocessing Stage (`DFPPreprocessingStage`)\n",
    "\n",
    "This stage performs the final, row dependent, feature calculations as specified by the input schema object. Once calculated, this stage can forward on all received logs, or optionally can only forward on new logs, removing any history information.\n",
    "\n",
    "| Name | Type | Default | Description |\n",
    "| --- | --- | --- | :-- |\n",
    "| `input_schema` | `DataFrameInputSchema` | | The final, row dependent, schema to apply to the incoming columns |\n",
    "\n",
    "### Inference Stage (`DFPInference`)\n",
    "\n",
    "This stage performs several tasks to aid in performing inference. This stage will:\n",
    "1. Download models as needed from MLFlow\n",
    "1. Cache previously downloaded models to improve performance\n",
    "   1. Models in the cache will be periodically refreshed from MLFlow at a configured rate\n",
    "1. Perform inference using the downloaded model\n",
    "\n",
    "| Name | Type | Default | Description |\n",
    "| --- | --- | --- | :-- |\n",
    "| `model_name_formatter` | `str` | `\"\"` | A format string to use when building the model name. The model name is constructed by calling `model_name_formatter.format(user_id=user_id)`. For example, with `model_name_formatter=\"my_model-{user_id}\"` and a user ID of `\"first:last\"` would result in the model name of `\"my_model-first:last\"`. This should match the value used in `DFPMLFlowModelWriterStage` |\n",
    "\n",
    "### Filter Detection Stage (`FilterDetectionsStage`)\n",
    "This stage filters the output from the inference stage for any anomalous messages. Logs which exceed the specified Z-Score will be passed onto the next stage. All remaining logs which are below the threshold will be dropped. For the purposes of the DFP pipeline, this stage is configured to use the `mean_abs_z` column of the DataFrame as the filter criteria.\n",
    "\n",
    "| Name | Type | Default | Description |\n",
    "| --- | --- | --- | :-- |\n",
    "| `threshold` | `float` | `0.5` | The threshold value above which logs are considered to be anomalous. The default is `0.5`, however the DFP pipeline uses a value of `2.0`. All normal logs will be filtered out and anomalous logs will be passed on. |\n",
    "| `copy` | `bool` | `True` | When the `copy` argument is `True` (default), rows that meet the filter criteria are copied into a new dataframe. When `False` sliced views are used instead. This is a performance optimization, and has no functional impact. |\n",
    "| `filter_source` | `FilterSource` | `FilterSource.Auto` | Indicates if the filter criteria exists in an output tensor (`FilterSource.TENSOR`) or a column in a DataFrame (`FilterSource.DATAFRAME`). |\n",
    "| `field_name` | `str` | `probs` | Name of the tensor (`filter_source=FilterSource.TENSOR`) or DataFrame column (`filter_source=FilterSource.DATAFRAME`) to use as the filter criteria. |\n",
    "\n",
    "\n",
    "### Post Processing Stage (`DFPPostprocessingStage`)\n",
    "This stage adds a new `event_time` column to the DataFrame indicating the time which Morpheus detected the anomalous messages, and replaces any `NAN` values with the a string value of `'NaN'`.\n",
    "\n",
    "### Serialize Stage (`SerializeStage`)\n",
    "This stage controls which columns in the DataFrame will be included in the output. For the purposes of the DFP pipeline, we will exclude columns that are used internally by the pipeline which are not of interest to the end-user.\n",
    "\n",
    "| Name | Type | Default | Description |\n",
    "| --- | --- | --- | :-- |\n",
    "| `include` | List of `str` | `[]` | List of regular expression patterns matching columns to include in the output. Specifying an empty list causes all columns to be included not explicitly excluded. |\n",
    "| `exclude` | List of `str` | `[r'^ID$', r'^_ts_']` | List of regular expression patterns matching columns to exclude from the output. |\n",
    "| `fixed_columns` | `bool` | `True` | When `True` it is assumed that the Dataframe in all messages contain the same columns as the first message received. |\n",
    "\n",
    "### Write to File Stage (`WriteToFileStage`)\n",
    "\n",
    "This final stage will write all received messages to a single output file in either CSV or JSON format.\n",
    "\n",
    "| Name | Type | Default | Description |\n",
    "| --- | --- | --- | :-- |\n",
    "| `filename` | `str` | | The file to write anomalous log messages to. |\n",
    "| `overwrite` | `bool` | `False` | If the file specified in `filename` already exists, it will be overwritten if this option is set to `True` |"
   ]
  },
  {
   "cell_type": "code",
   "execution_count": 8,
   "id": "825390ad-ce64-4949-b324-33039ffdf264",
   "metadata": {},
   "outputs": [
    {
     "name": "stdout",
     "output_type": "stream",
     "text": [
      "\u001b[2mUpdating list of available models...\u001b[0m\n",
      "\u001b[2mUpdating list of available models... Done.\u001b[0m\n",
      "====Pipeline Pre-build====\u001b[0m\n",
      "====Pre-Building Segment: linear_segment_0====\u001b[0m\n",
      "====Pre-Building Segment Complete!====\u001b[0m\n",
      "====Pipeline Pre-build Complete!====\u001b[0m\n",
      "====Registering Pipeline====\u001b[0m\n",
      "====Building Pipeline====\u001b[0m\n",
      "====Building Pipeline Complete!====\u001b[0m\n",
      "====Registering Pipeline Complete!====\u001b[0m\n",
      "====Starting Pipeline====\u001b[0m\n",
      "====Pipeline Started====\u001b[0m\n",
      "====Building Segment: linear_segment_0====\u001b[0m\n",
      "Added source: <from-multi-file-0; MultiFileSource(filenames=['../../../../data/dfp/duo-inference-data/DUO_2022-08-*.json'], watch=False, watch_interval=1.0)>\n",
      "  └─> fsspec.OpenFiles\u001b[0m\n",
      "Added stage: <dfp-file-batcher-1; DFPFileBatcherStage(date_conversion_func=functools.partial(<function date_extractor at 0x75a3c9469fc0>, filename_regex=re.compile('(?P<year>\\\\d{4})-(?P<month>\\\\d{1,2})-(?P<day>\\\\d{1,2})(?:T(?P<hour>\\\\d{1,2})(?::|_|\\\\.)(?P<minute>\\\\d{1,2})(?::|_|\\\\.)(?P<second>\\\\d{1,2})(?:\\\\.(?P<microsecond>\\\\d{0,6}))?)?(?P<zulu>Z)?')), period=D, sampling_rate_s=None, start_time=None, end_time=None, sampling=None)>\n",
      "  └─ fsspec.OpenFiles -> Tuple[fsspec.core.OpenFiles, int]\u001b[0m\n",
      "Added stage: <dfp-file-to-df-2; DFPFileToDataFrameStage(schema=DataFrameInputSchema(json_columns=['access_device', 'application', 'auth_device', 'user'], column_info=[DateTimeColumn(name='timestamp', dtype='datetime64[ns]', input_name='timestamp'), RenameColumn(name='username', dtype='str', input_name='user.name'), RenameColumn(name='accessdevicebrowser', dtype='str', input_name='access_device.browser'), RenameColumn(name='accessdeviceos', dtype='str', input_name='access_device.os'), StringCatColumn(name='location', dtype='str', input_columns=['access_device.location.city', 'access_device.location.state', 'access_device.location.country'], sep=', '), RenameColumn(name='authdevicename', dtype='str', input_name='auth_device.name'), BoolColumn(name='result', dtype='bool', input_name='result', value_map={'success': True, 'SUCCESS': True, 'denied': False, 'DENIED': False, 'FRAUD': False}), ColumnInfo(name='reason', dtype='str')], preserve_columns=None, row_filter=None), filter_null=True, file_type=FileTypes.JSON, parser_kwargs={'lines': False, 'orient': 'records'}, cache_dir=./.cache/dfp)>\n",
      "  └─ Tuple[fsspec.core.OpenFiles, int] -> pandas.DataFrame\u001b[0m\n",
      "Added stage: <dfp-split-users-3; DFPSplitUsersStage(include_generic=False, include_individual=True, skip_users=[], only_users=None)>\n",
      "  └─ pandas.DataFrame -> dfp.DFPMessageMeta\u001b[0m\n",
      "Added stage: <dfp-rolling-window-4; DFPRollingWindowStage(min_history=1, min_increment=0, max_history=1d, cache_dir=./.cache/dfp)>\n",
      "  └─ dfp.DFPMessageMeta -> morpheus.ControlMessage\u001b[0m\n",
      "Added stage: <dfp-preproc-5; DFPPreprocessingStage(input_schema=DataFrameInputSchema(json_columns=[], column_info=[ColumnInfo(name='timestamp', dtype='datetime64[ns]'), ColumnInfo(name='username', dtype='str'), ColumnInfo(name='accessdevicebrowser', dtype='str'), ColumnInfo(name='accessdeviceos', dtype='str'), ColumnInfo(name='authdevicename', dtype='str'), ColumnInfo(name='result', dtype='bool'), ColumnInfo(name='reason', dtype='str'), IncrementColumn(name='logcount', dtype='int', input_name='timestamp', groupby_column='username', period='D'), DistinctIncrementColumn(name='locincrement', dtype='int', input_name='location', groupby_column='username', period='D', timestamp_column='timestamp')], preserve_columns=re.compile('(_batch_id)'), row_filter=None))>\n",
      "  └─ morpheus.ControlMessage -> morpheus.ControlMessage\u001b[0m\n",
      "Added stage: <dfp-inference-6; DFPInferenceStage(model_name_formatter=DFP-duo-{user_id})>\n",
      "  └─ morpheus.ControlMessage -> morpheus.ControlMessage\u001b[0m\n",
      "Added stage: <filter-7; FilterDetectionsStage(threshold=2.0, copy=True, filter_source=FilterSource.DATAFRAME, field_name=mean_abs_z)>\n",
      "  └─ morpheus.ControlMessage -> morpheus.ControlMessage\u001b[0m\n",
      "Added stage: <dfp-postproc-8; DFPPostprocessingStage()>\n",
      "  └─ morpheus.ControlMessage -> morpheus.ControlMessage\u001b[0m\n",
      "Added stage: <serialize-9; SerializeStage(include=None, exclude=['batch_count', 'origin_hash', '_row_hash', '_batch_id'], fixed_columns=True)>\n",
      "  └─ morpheus.ControlMessage -> morpheus.MessageMeta\u001b[0m\n",
      "Added stage: <to-file-10; WriteToFileStage(filename=dfp_detections_duo.csv, overwrite=True, file_type=FileTypes.Auto, include_index_col=True, flush=False)>\n",
      "  └─ morpheus.MessageMeta -> morpheus.MessageMeta\u001b[0m\n",
      "====Building Segment Complete!====\u001b[0m\n",
      "\u001b[2mCreating dask cluster...\u001b[0m\n",
      "\u001b[2mCreating dask cluster... Done. Dashboard: http://192.168.0.196:37219/status\u001b[0m\n",
      "\u001b[2mS3 objects to DF complete. Rows: 97, Cache: miss, Duration: 750.2949237823486 ms, Rate: 129.28249535663727 rows/s\u001b[0m\n",
      "\u001b[2mPreallocating column event_time[TypeId.STRING]\u001b[0m\n",
      "\u001b[2mBatch split users complete. Input: 97 rows from 2022-08-30 00:26:18 to 2022-08-30 22:54:43. Output: 14 users, rows/user min: 2, max: 16, avg: 6.93. Duration: 6.55 ms\u001b[0m\n",
      "\u001b[2mRolling window complete for anthony in 148.73 ms. Input: 16 rows from 2022-08-30 00:32:47 to 2022-08-30 21:59:35. Output: 16 rows from 2022-08-30T00:32:47.000000000 to 2022-08-30T21:59:35.000000000\u001b[0m\n",
      "\u001b[2mS3 objects to DF complete. Rows: 569, Cache: miss, Duration: 169.9228286743164 ms, Rate: 3348.5789074908657 rows/s\u001b[0m\n",
      "\u001b[2mPreallocating column event_time[TypeId.STRING]\u001b[0m\n",
      "\u001b[2mStopping dask cluster...\u001b[0m\n",
      "\u001b[2mBatch split users complete. Input: 569 rows from 2022-08-31 00:01:31 to 2022-08-31 23:56:43. Output: 14 users, rows/user min: 1, max: 512, avg: 40.64. Duration: 7.22 ms\u001b[0m\n",
      "\u001b[2mRolling window complete for attacktarget in 36.14 ms. Input: 15 rows from 2022-08-30 02:00:05 to 2022-08-30 22:35:30. Output: 15 rows from 2022-08-30T02:00:05.000000000 to 2022-08-30T22:35:30.000000000\u001b[0m\n",
      "\u001b[2mStopping dask cluster... Done.\u001b[0m\n",
      "\u001b[2mRolling window complete for bailey in 184.02 ms. Input: 10 rows from 2022-08-30 00:47:16 to 2022-08-30 22:54:43. Output: 10 rows from 2022-08-30T00:47:16.000000000 to 2022-08-30T22:54:43.000000000\u001b[0m\n",
      "\u001b[2mPreprocessed 16 data for logs in 2022-08-30T00:32:47.000000000 to 2022-08-30T21:59:35.000000000 in 209.04898643493652 ms\u001b[0m\n",
      "\u001b[2mRolling window complete for benjamin in 29.66 ms. Input: 11 rows from 2022-08-30 01:15:59 to 2022-08-30 22:43:23. Output: 11 rows from 2022-08-30T01:15:59.000000000 to 2022-08-30T22:43:23.000000000\u001b[0m\n",
      "\u001b[2mRolling window complete for briana in 46.59 ms. Input: 4 rows from 2022-08-30 04:53:31 to 2022-08-30 19:55:42. Output: 4 rows from 2022-08-30T04:53:31.000000000 to 2022-08-30T19:55:42.000000000\u001b[0m\n",
      "\u001b[2mPreprocessed 15 data for logs in 2022-08-30T02:00:05.000000000 to 2022-08-30T22:35:30.000000000 in 59.767723083496094 ms\u001b[0m\n",
      "\u001b[2mRolling window complete for cassandra in 32.26 ms. Input: 5 rows from 2022-08-30 02:50:54 to 2022-08-30 22:03:43. Output: 5 rows from 2022-08-30T02:50:54.000000000 to 2022-08-30T22:03:43.000000000\u001b[0m\n",
      "\u001b[2mRolling window complete for christopher in 47.45 ms. Input: 4 rows from 2022-08-30 02:51:39 to 2022-08-30 20:45:12. Output: 4 rows from 2022-08-30T02:51:39.000000000 to 2022-08-30T20:45:12.000000000\u001b[0m\n",
      "\u001b[2mPreprocessed 10 data for logs in 2022-08-30T00:47:16.000000000 to 2022-08-30T22:54:43.000000000 in 73.74382019042969 ms\u001b[0m\n",
      "\u001b[2mRolling window complete for debbie in 27.26 ms. Input: 4 rows from 2022-08-30 02:16:03 to 2022-08-30 20:52:29. Output: 4 rows from 2022-08-30T02:16:03.000000000 to 2022-08-30T20:52:29.000000000\u001b[0m\n",
      "\u001b[2mRolling window complete for erik in 37.74 ms. Input: 2 rows from 2022-08-30 08:34:06 to 2022-08-30 14:11:00. Output: 2 rows from 2022-08-30T08:34:06.000000000 to 2022-08-30T14:11:00.000000000\u001b[0m\n",
      "\u001b[2mPreprocessed 11 data for logs in 2022-08-30T01:15:59.000000000 to 2022-08-30T22:43:23.000000000 in 67.28744506835938 ms\u001b[0m\n",
      "\u001b[2mRolling window complete for gregory in 29.57 ms. Input: 2 rows from 2022-08-30 06:38:13 to 2022-08-30 06:43:27. Output: 2 rows from 2022-08-30T06:38:13.000000000 to 2022-08-30T06:43:27.000000000\u001b[0m\n"
     ]
    },
    {
     "name": "stderr",
     "output_type": "stream",
     "text": [
      "W20240906 18:40:59.804988 189570 meta.cpp:259] Dataframe is not a cudf dataframe, converting to cudf dataframe\n",
      "W20240906 18:40:59.950697 189570 meta.cpp:259] Dataframe is not a cudf dataframe, converting to cudf dataframe\n",
      "W20240906 18:40:59.997855 189570 meta.cpp:259] Dataframe is not a cudf dataframe, converting to cudf dataframe\n",
      "W20240906 18:41:00.176525 189570 meta.cpp:259] Dataframe is not a cudf dataframe, converting to cudf dataframe\n",
      "W20240906 18:41:00.203281 189570 meta.cpp:259] Dataframe is not a cudf dataframe, converting to cudf dataframe\n",
      "W20240906 18:41:00.251700 189570 meta.cpp:259] Dataframe is not a cudf dataframe, converting to cudf dataframe\n",
      "W20240906 18:41:00.282298 189570 meta.cpp:259] Dataframe is not a cudf dataframe, converting to cudf dataframe\n",
      "W20240906 18:41:00.332085 189570 meta.cpp:259] Dataframe is not a cudf dataframe, converting to cudf dataframe\n",
      "W20240906 18:41:00.358146 189570 meta.cpp:259] Dataframe is not a cudf dataframe, converting to cudf dataframe\n",
      "W20240906 18:41:00.395494 189570 meta.cpp:259] Dataframe is not a cudf dataframe, converting to cudf dataframe\n",
      "W20240906 18:41:00.425218 189570 meta.cpp:259] Dataframe is not a cudf dataframe, converting to cudf dataframe\n",
      "Downloading artifacts:   0%|          | 0/6 [00:00<?, ?it/s]W20240906 18:41:00.465364 189570 meta.cpp:259] Dataframe is not a cudf dataframe, converting to cudf dataframe\n",
      "Downloading artifacts:  83%|████████▎ | 5/6 [00:00<00:00, 214.36it/s]W20240906 18:41:00.493129 189570 meta.cpp:259] Dataframe is not a cudf dataframe, converting to cudf dataframe\n",
      "W20240906 18:41:00.525063 189570 meta.cpp:259] Dataframe is not a cudf dataframe, converting to cudf dataframe\n",
      "W20240906 18:41:00.546491 189570 meta.cpp:259] Dataframe is not a cudf dataframe, converting to cudf dataframe\n",
      "W20240906 18:41:00.565915 189570 meta.cpp:259] Dataframe is not a cudf dataframe, converting to cudf dataframe\n",
      "W20240906 18:41:00.612783 189570 meta.cpp:259] Dataframe is not a cudf dataframe, converting to cudf dataframe\n",
      "W20240906 18:41:00.645211 189570 meta.cpp:259] Dataframe is not a cudf dataframe, converting to cudf dataframe\n",
      "W20240906 18:41:00.670750 189570 meta.cpp:259] Dataframe is not a cudf dataframe, converting to cudf dataframe\n",
      "W20240906 18:41:00.702608 189570 meta.cpp:259] Dataframe is not a cudf dataframe, converting to cudf dataframe\n",
      "W20240906 18:41:00.738583 189570 meta.cpp:259] Dataframe is not a cudf dataframe, converting to cudf dataframe\n",
      "W20240906 18:41:00.763168 189570 meta.cpp:259] Dataframe is not a cudf dataframe, converting to cudf dataframe\n",
      "W20240906 18:41:00.794888 189570 meta.cpp:259] Dataframe is not a cudf dataframe, converting to cudf dataframe\n",
      "W20240906 18:41:00.819963 189570 meta.cpp:259] Dataframe is not a cudf dataframe, converting to cudf dataframe\n",
      "W20240906 18:41:00.855536 189570 meta.cpp:259] Dataframe is not a cudf dataframe, converting to cudf dataframe\n",
      "W20240906 18:41:00.878659 189570 meta.cpp:259] Dataframe is not a cudf dataframe, converting to cudf dataframe\n",
      "W20240906 18:41:00.920308 189570 meta.cpp:259] Dataframe is not a cudf dataframe, converting to cudf dataframe\n",
      "W20240906 18:41:00.945870 189570 meta.cpp:259] Dataframe is not a cudf dataframe, converting to cudf dataframe\n",
      "Downloading artifacts: 100%|██████████| 6/6 [00:00<00:00, 11.63it/s]\n"
     ]
    },
    {
     "name": "stderr",
     "output_type": "stream",
     "text": [
      "                                                            \r"
     ]
    },
    {
     "name": "stdout",
     "output_type": "stream",
     "text": [
      "\u001b[2mRolling window complete for juan in 38.50 ms. Input: 13 rows from 2022-08-30 00:33:39 to 2022-08-30 21:02:48. Output: 13 rows from 2022-08-30T00:33:39.000000000 to 2022-08-30T21:02:48.000000000\u001b[0m\n"
     ]
    },
    {
     "name": "stderr",
     "output_type": "stream",
     "text": [
      "                                                                     \r"
     ]
    },
    {
     "name": "stdout",
     "output_type": "stream",
     "text": [
      "\u001b[2mRolling window complete for patrick in 27.92 ms. Input: 4 rows from 2022-08-30 01:07:11 to 2022-08-30 22:38:43. Output: 4 rows from 2022-08-30T01:07:11.000000000 to 2022-08-30T22:38:43.000000000\u001b[0m\n"
     ]
    },
    {
     "name": "stderr",
     "output_type": "stream",
     "text": [
      "                                                                     \r"
     ]
    },
    {
     "name": "stdout",
     "output_type": "stream",
     "text": [
      "\u001b[2mPreprocessed 4 data for logs in 2022-08-30T04:53:31.000000000 to 2022-08-30T19:55:42.000000000 in 67.58737564086914 ms\u001b[0m\n"
     ]
    },
    {
     "name": "stderr",
     "output_type": "stream",
     "text": [
      "                                                                     \r"
     ]
    },
    {
     "name": "stdout",
     "output_type": "stream",
     "text": [
      "\u001b[2mRolling window complete for paul in 33.95 ms. Input: 4 rows from 2022-08-30 00:26:18 to 2022-08-30 12:12:56. Output: 4 rows from 2022-08-30T00:26:18.000000000 to 2022-08-30T12:12:56.000000000\u001b[0m\n"
     ]
    },
    {
     "name": "stderr",
     "output_type": "stream",
     "text": [
      "                                                                    \r"
     ]
    },
    {
     "name": "stdout",
     "output_type": "stream",
     "text": [
      "\u001b[2mRolling window complete for shannon in 21.33 ms. Input: 3 rows from 2022-08-30 03:33:23 to 2022-08-30 21:17:26. Output: 3 rows from 2022-08-30T03:33:23.000000000 to 2022-08-30T21:17:26.000000000\u001b[0m\n"
     ]
    },
    {
     "name": "stderr",
     "output_type": "stream",
     "text": [
      "                                                                    \r"
     ]
    },
    {
     "name": "stdout",
     "output_type": "stream",
     "text": [
      "\u001b[2mPreprocessed 5 data for logs in 2022-08-30T02:50:54.000000000 to 2022-08-30T22:03:43.000000000 in 49.523115158081055 ms\u001b[0m\n"
     ]
    },
    {
     "name": "stderr",
     "output_type": "stream",
     "text": [
      "                                                                    \r"
     ]
    },
    {
     "name": "stdout",
     "output_type": "stream",
     "text": [
      "\u001b[2mRolling window complete for amber in 19.18 ms. Input: 4 rows from 2022-08-31 10:28:44 to 2022-08-31 21:22:10. Output: 4 rows from 2022-08-31T10:28:44.000000000 to 2022-08-31T21:22:10.000000000\u001b[0m\n"
     ]
    },
    {
     "name": "stderr",
     "output_type": "stream",
     "text": [
      "                                                                    \r"
     ]
    },
    {
     "name": "stdout",
     "output_type": "stream",
     "text": [
      "\u001b[2mRolling window complete for anthony in 33.19 ms. Input: 9 rows from 2022-08-31 01:07:27 to 2022-08-31 21:22:05. Output: 10 rows from 2022-08-30T21:59:35.000000000 to 2022-08-31T21:22:05.000000000\u001b[0m\n"
     ]
    },
    {
     "name": "stderr",
     "output_type": "stream",
     "text": [
      "                                                                    \r"
     ]
    },
    {
     "name": "stdout",
     "output_type": "stream",
     "text": [
      "\u001b[2mPreprocessed 4 data for logs in 2022-08-30T02:51:39.000000000 to 2022-08-30T20:45:12.000000000 in 48.40421676635742 ms\u001b[0m\n"
     ]
    },
    {
     "name": "stderr",
     "output_type": "stream",
     "text": [
      "                                                                    \r"
     ]
    },
    {
     "name": "stdout",
     "output_type": "stream",
     "text": [
      "\u001b[2mRolling window complete for attacktarget in 43.78 ms. Input: 512 rows from 2022-08-31 00:01:31 to 2022-08-31 23:56:43. Output: 512 rows from 2022-08-31T00:01:31.000000000 to 2022-08-31T23:56:43.000000000\u001b[0m\n"
     ]
    },
    {
     "name": "stderr",
     "output_type": "stream",
     "text": [
      "                                                                    \r"
     ]
    },
    {
     "name": "stdout",
     "output_type": "stream",
     "text": [
      "\u001b[2mPreprocessed 4 data for logs in 2022-08-30T02:16:03.000000000 to 2022-08-30T20:52:29.000000000 in 46.099185943603516 ms\u001b[0m\n"
     ]
    },
    {
     "name": "stderr",
     "output_type": "stream",
     "text": [
      "                                                                    \r"
     ]
    },
    {
     "name": "stdout",
     "output_type": "stream",
     "text": [
      "\u001b[2mRolling window complete for bailey in 26.47 ms. Input: 11 rows from 2022-08-31 00:18:16 to 2022-08-31 19:06:18. Output: 16 rows from 2022-08-30T19:26:40.000000000 to 2022-08-31T19:06:18.000000000\u001b[0m\n"
     ]
    },
    {
     "name": "stderr",
     "output_type": "stream",
     "text": [
      "                                                                    \r"
     ]
    },
    {
     "name": "stdout",
     "output_type": "stream",
     "text": [
      "\u001b[2mRolling window complete for benjamin in 30.33 ms. Input: 9 rows from 2022-08-31 04:42:57 to 2022-08-31 17:13:08. Output: 13 rows from 2022-08-30T17:14:31.000000000 to 2022-08-31T17:13:08.000000000\u001b[0m\n"
     ]
    },
    {
     "name": "stderr",
     "output_type": "stream",
     "text": [
      "                                                                    \r"
     ]
    },
    {
     "name": "stdout",
     "output_type": "stream",
     "text": [
      "\u001b[2mPreprocessed 2 data for logs in 2022-08-30T08:34:06.000000000 to 2022-08-30T14:11:00.000000000 in 54.3675422668457 ms\u001b[0m\n"
     ]
    },
    {
     "name": "stderr",
     "output_type": "stream",
     "text": [
      "                                                                    \r"
     ]
    },
    {
     "name": "stdout",
     "output_type": "stream",
     "text": [
      "\u001b[2mRolling window complete for briana in 25.80 ms. Input: 3 rows from 2022-08-31 08:54:35 to 2022-08-31 20:59:39. Output: 3 rows from 2022-08-31T08:54:35.000000000 to 2022-08-31T20:59:39.000000000\u001b[0m\n"
     ]
    },
    {
     "name": "stderr",
     "output_type": "stream",
     "text": [
      "                                                                    \r"
     ]
    },
    {
     "name": "stdout",
     "output_type": "stream",
     "text": [
      "\u001b[2mRolling window complete for cassandra in 32.63 ms. Input: 3 rows from 2022-08-31 05:47:45 to 2022-08-31 16:38:13. Output: 4 rows from 2022-08-30T22:03:43.000000000 to 2022-08-31T16:38:13.000000000\u001b[0m\n"
     ]
    },
    {
     "name": "stderr",
     "output_type": "stream",
     "text": [
      "                                                                    \r"
     ]
    },
    {
     "name": "stdout",
     "output_type": "stream",
     "text": [
      "\u001b[2mPreprocessed 2 data for logs in 2022-08-30T06:38:13.000000000 to 2022-08-30T06:43:27.000000000 in 42.28687286376953 ms\u001b[0m\n"
     ]
    },
    {
     "name": "stderr",
     "output_type": "stream",
     "text": [
      "                                                                    \r"
     ]
    },
    {
     "name": "stdout",
     "output_type": "stream",
     "text": [
      "\u001b[2mRolling window complete for debbie in 24.07 ms. Input: 3 rows from 2022-08-31 06:53:07 to 2022-08-31 13:04:02. Output: 4 rows from 2022-08-30T20:52:29.000000000 to 2022-08-31T13:04:02.000000000\u001b[0m\n"
     ]
    },
    {
     "name": "stderr",
     "output_type": "stream",
     "text": [
      "                                                                    \r"
     ]
    },
    {
     "name": "stdout",
     "output_type": "stream",
     "text": [
      "\u001b[2mPreprocessed 13 data for logs in 2022-08-30T00:33:39.000000000 to 2022-08-30T21:02:48.000000000 in 45.476436614990234 ms\u001b[0m\n"
     ]
    },
    {
     "name": "stderr",
     "output_type": "stream",
     "text": [
      "                                                                    \r"
     ]
    },
    {
     "name": "stdout",
     "output_type": "stream",
     "text": [
      "\u001b[2mRolling window complete for erik in 31.40 ms. Input: 4 rows from 2022-08-31 04:32:45 to 2022-08-31 18:15:47. Output: 4 rows from 2022-08-31T04:32:45.000000000 to 2022-08-31T18:15:47.000000000\u001b[0m\n"
     ]
    },
    {
     "name": "stderr",
     "output_type": "stream",
     "text": [
      "                                                                    \r"
     ]
    },
    {
     "name": "stdout",
     "output_type": "stream",
     "text": [
      "\u001b[2mRolling window complete for gregory in 22.94 ms. Input: 1 rows from 2022-08-31 01:06:11 to 2022-08-31 01:06:11. Output: 3 rows from 2022-08-30T06:38:13.000000000 to 2022-08-31T01:06:11.000000000\u001b[0m\n"
     ]
    },
    {
     "name": "stderr",
     "output_type": "stream",
     "text": [
      "                                                                    \r"
     ]
    },
    {
     "name": "stdout",
     "output_type": "stream",
     "text": [
      "\u001b[2mRolling window complete for juan in 34.13 ms. Input: 3 rows from 2022-08-31 07:19:09 to 2022-08-31 08:29:45. Output: 10 rows from 2022-08-30T08:34:47.000000000 to 2022-08-31T08:29:45.000000000\u001b[0m\n"
     ]
    },
    {
     "name": "stderr",
     "output_type": "stream",
     "text": [
      "                                                                    \r"
     ]
    },
    {
     "name": "stdout",
     "output_type": "stream",
     "text": [
      "\u001b[2mPreprocessed 4 data for logs in 2022-08-30T01:07:11.000000000 to 2022-08-30T22:38:43.000000000 in 55.22966384887695 ms\u001b[0m\n"
     ]
    },
    {
     "name": "stderr",
     "output_type": "stream",
     "text": [
      "                                                                    \r"
     ]
    },
    {
     "name": "stdout",
     "output_type": "stream",
     "text": [
      "\u001b[2mRolling window complete for patrick in 38.92 ms. Input: 2 rows from 2022-08-31 07:24:40 to 2022-08-31 13:09:00. Output: 4 rows from 2022-08-30T17:39:27.000000000 to 2022-08-31T13:09:00.000000000\u001b[0m\n"
     ]
    },
    {
     "name": "stderr",
     "output_type": "stream",
     "text": [
      "                                                                    \r"
     ]
    },
    {
     "name": "stdout",
     "output_type": "stream",
     "text": [
      "\u001b[2mPreprocessed 4 data for logs in 2022-08-30T00:26:18.000000000 to 2022-08-30T12:12:56.000000000 in 45.941829681396484 ms\u001b[0m\n"
     ]
    },
    {
     "name": "stderr",
     "output_type": "stream",
     "text": [
      "                                                                    \r"
     ]
    },
    {
     "name": "stdout",
     "output_type": "stream",
     "text": [
      "\u001b[2mRolling window complete for paul in 27.77 ms. Input: 3 rows from 2022-08-31 00:55:31 to 2022-08-31 07:30:12. Output: 6 rows from 2022-08-30T08:09:44.000000000 to 2022-08-31T07:30:12.000000000\u001b[0m\n"
     ]
    },
    {
     "name": "stderr",
     "output_type": "stream",
     "text": [
      "Downloading artifacts:  83%|████████▎ | 5/6 [00:00<00:00, 10.12it/s]"
     ]
    },
    {
     "name": "stdout",
     "output_type": "stream",
     "text": [
      "\u001b[2mRolling window complete for shannon in 36.90 ms. Input: 2 rows from 2022-08-31 05:23:34 to 2022-08-31 08:16:36. Output: 4 rows from 2022-08-30T11:42:57.000000000 to 2022-08-31T08:16:36.000000000\u001b[0m\n",
      "\u001b[2mPreprocessed 3 data for logs in 2022-08-30T03:33:23.000000000 to 2022-08-30T21:17:26.000000000 in 61.67769432067871 ms\u001b[0m\n",
      "\u001b[2mPreprocessed 4 data for logs in 2022-08-31T10:28:44.000000000 to 2022-08-31T21:22:10.000000000 in 33.77676010131836 ms\u001b[0m\n",
      "\u001b[2mPreprocessed 10 data for logs in 2022-08-30T21:59:35.000000000 to 2022-08-31T21:22:05.000000000 in 26.285648345947266 ms\u001b[0m\n",
      "\u001b[2mPreprocessed 512 data for logs in 2022-08-31T00:01:31.000000000 to 2022-08-31T23:56:43.000000000 in 38.59567642211914 ms\u001b[0m\n",
      "\u001b[2mPreprocessed 16 data for logs in 2022-08-30T19:26:40.000000000 to 2022-08-31T19:06:18.000000000 in 33.31494331359863 ms\u001b[0m\n",
      "\u001b[2mPreprocessed 13 data for logs in 2022-08-30T17:14:31.000000000 to 2022-08-31T17:13:08.000000000 in 56.02622032165527 ms\u001b[0m\n",
      "\u001b[2mPreprocessed 3 data for logs in 2022-08-31T08:54:35.000000000 to 2022-08-31T20:59:39.000000000 in 77.95500755310059 ms\u001b[0m\n",
      "\u001b[2mPreprocessed 4 data for logs in 2022-08-30T22:03:43.000000000 to 2022-08-31T16:38:13.000000000 in 21.9271183013916 ms\u001b[0m\n",
      "\u001b[2mPreprocessed 4 data for logs in 2022-08-30T20:52:29.000000000 to 2022-08-31T13:04:02.000000000 in 18.242835998535156 ms\u001b[0m\n",
      "\u001b[2mPreprocessed 4 data for logs in 2022-08-31T04:32:45.000000000 to 2022-08-31T18:15:47.000000000 in 18.693923950195312 ms\u001b[0m\n",
      "\u001b[2mPreprocessed 3 data for logs in 2022-08-30T06:38:13.000000000 to 2022-08-31T01:06:11.000000000 in 49.6370792388916 ms\u001b[0m\n",
      "\u001b[2mPreprocessed 10 data for logs in 2022-08-30T08:34:47.000000000 to 2022-08-31T08:29:45.000000000 in 26.236295700073242 ms\u001b[0m\n",
      "\u001b[2mPreprocessed 4 data for logs in 2022-08-30T17:39:27.000000000 to 2022-08-31T13:09:00.000000000 in 23.925065994262695 ms\u001b[0m\n",
      "\u001b[2mPreprocessed 6 data for logs in 2022-08-30T08:09:44.000000000 to 2022-08-31T07:30:12.000000000 in 24.24335479736328 ms\u001b[0m\n",
      "\u001b[2mPreprocessed 4 data for logs in 2022-08-30T11:42:57.000000000 to 2022-08-31T08:16:36.000000000 in 26.60822868347168 ms\u001b[0m\n",
      "\u001b[2mCompleted inference for user anthony. Model load: 843.8506126403809 ms, Model infer: 627.3839473724365 ms. Start: 2022-08-30 00:32:47, End: 2022-08-30 21:59:35\u001b[0m\n",
      "\u001b[2mCompleted inference for user attacktarget. Model load: 13.208150863647461 ms, Model infer: 151.74388885498047 ms. Start: 2022-08-30 02:00:05, End: 2022-08-30 22:35:30\u001b[0m\n",
      "\u001b[2mCompleted inference for user bailey. Model load: 11.985301971435547 ms, Model infer: 146.958589553833 ms. Start: 2022-08-30 00:47:16, End: 2022-08-30 22:54:43\u001b[0m\n",
      "\u001b[2mCompleted inference for user benjamin. Model load: 10.765552520751953 ms, Model infer: 145.82133293151855 ms. Start: 2022-08-30 01:15:59, End: 2022-08-30 22:43:23\u001b[0m\n",
      "\u001b[2mCompleted inference for user briana. Model load: 11.20758056640625 ms, Model infer: 144.31071281433105 ms. Start: 2022-08-30 04:53:31, End: 2022-08-30 19:55:42\u001b[0m\n",
      "\u001b[2mCompleted inference for user cassandra. Model load: 10.864734649658203 ms, Model infer: 144.74058151245117 ms. Start: 2022-08-30 02:50:54, End: 2022-08-30 22:03:43\u001b[0m\n",
      "\u001b[2mCompleted inference for user christopher. Model load: 12.282133102416992 ms, Model infer: 151.84426307678223 ms. Start: 2022-08-30 02:51:39, End: 2022-08-30 20:45:12\u001b[0m\n",
      "\u001b[2mCompleted inference for user debbie. Model load: 10.516166687011719 ms, Model infer: 146.34943008422852 ms. Start: 2022-08-30 02:16:03, End: 2022-08-30 20:52:29\u001b[0m\n",
      "\u001b[2mCompleted inference for user erik. Model load: 11.560916900634766 ms, Model infer: 148.92888069152832 ms. Start: 2022-08-30 08:34:06, End: 2022-08-30 14:11:00\u001b[0m\n",
      "\u001b[2mCompleted inference for user gregory. Model load: 11.525392532348633 ms, Model infer: 148.77700805664062 ms. Start: 2022-08-30 06:38:13, End: 2022-08-30 06:43:27\u001b[0m\n",
      "\u001b[2mCompleted inference for user juan. Model load: 10.952472686767578 ms, Model infer: 146.86131477355957 ms. Start: 2022-08-30 00:33:39, End: 2022-08-30 21:02:48\u001b[0m\n",
      "\u001b[2mCompleted inference for user patrick. Model load: 11.295557022094727 ms, Model infer: 147.3214626312256 ms. Start: 2022-08-30 01:07:11, End: 2022-08-30 22:38:43\u001b[0m\n",
      "\u001b[2mCompleted inference for user paul. Model load: 11.693000793457031 ms, Model infer: 145.12157440185547 ms. Start: 2022-08-30 00:26:18, End: 2022-08-30 12:12:56\u001b[0m\n",
      "\u001b[2mCompleted inference for user shannon. Model load: 11.728525161743164 ms, Model infer: 144.6676254272461 ms. Start: 2022-08-30 03:33:23, End: 2022-08-30 21:17:26\u001b[0m\n",
      "\u001b[2mCompleted inference for user amber. Model load: 11.751890182495117 ms, Model infer: 143.70489120483398 ms. Start: 2022-08-31 10:28:44, End: 2022-08-31 21:22:10\u001b[0m\n",
      "\u001b[2mCompleted inference for user anthony. Model load: 12.130975723266602 ms, Model infer: 143.39160919189453 ms. Start: 2022-08-30 21:59:35, End: 2022-08-31 21:22:05\u001b[0m\n",
      "\u001b[2mCompleted inference for user attacktarget. Model load: 10.96796989440918 ms, Model infer: 146.10791206359863 ms. Start: 2022-08-31 00:01:31, End: 2022-08-31 23:56:43\u001b[0m\n",
      "\u001b[2mCompleted inference for user bailey. Model load: 11.461734771728516 ms, Model infer: 145.2159881591797 ms. Start: 2022-08-30 19:26:40, End: 2022-08-31 19:06:18\u001b[0m\n",
      "\u001b[2mCompleted inference for user benjamin. Model load: 6.293296813964844 ms, Model infer: 144.18339729309082 ms. Start: 2022-08-30 17:14:31, End: 2022-08-31 17:13:08\u001b[0m\n",
      "\u001b[2mCompleted inference for user briana. Model load: 7.171154022216797 ms, Model infer: 146.42715454101562 ms. Start: 2022-08-31 08:54:35, End: 2022-08-31 20:59:39\u001b[0m\n",
      "\u001b[2mCompleted postprocessing for user None in 2.2134780883789062 ms. Event count: 500. Start: 2022-08-31T00:34:16.000000000, End: 2022-08-31T23:56:43.000000000\u001b[0m\n",
      "\u001b[2mCompleted inference for user cassandra. Model load: 6.379842758178711 ms, Model infer: 205.36136627197266 ms. Start: 2022-08-30 22:03:43, End: 2022-08-31 16:38:13\u001b[0m\n",
      "\u001b[2mCompleted inference for user debbie. Model load: 11.64865493774414 ms, Model infer: 145.41292190551758 ms. Start: 2022-08-30 20:52:29, End: 2022-08-31 13:04:02\u001b[0m\n",
      "\u001b[2mCompleted inference for user erik. Model load: 12.170791625976562 ms, Model infer: 142.76790618896484 ms. Start: 2022-08-31 04:32:45, End: 2022-08-31 18:15:47\u001b[0m\n",
      "\u001b[2mCompleted inference for user gregory. Model load: 11.285543441772461 ms, Model infer: 143.4779167175293 ms. Start: 2022-08-30 06:38:13, End: 2022-08-31 01:06:11\u001b[0m\n",
      "\u001b[2mCompleted inference for user juan. Model load: 10.579824447631836 ms, Model infer: 144.3808078765869 ms. Start: 2022-08-30 08:34:47, End: 2022-08-31 08:29:45\u001b[0m\n",
      "\u001b[2mCompleted inference for user patrick. Model load: 9.817838668823242 ms, Model infer: 143.88036727905273 ms. Start: 2022-08-30 17:39:27, End: 2022-08-31 13:09:00\u001b[0m\n",
      "\u001b[2mCompleted inference for user paul. Model load: 10.85352897644043 ms, Model infer: 144.78039741516113 ms. Start: 2022-08-30 08:09:44, End: 2022-08-31 07:30:12\u001b[0m\n",
      "\u001b[2mCompleted inference for user shannon. Model load: 11.56759262084961 ms, Model infer: 143.6631679534912 ms. Start: 2022-08-30 11:42:57, End: 2022-08-31 08:16:36\u001b[0m\n",
      "====Pipeline Complete====\u001b[0m\n"
     ]
    }
   ],
   "source": [
    "# Create a linear pipeline object\n",
    "pipeline = LinearPipeline(config)\n",
    "\n",
    "# Source stage\n",
    "pipeline.set_source(MultiFileSource(config, filenames=input_files))\n",
    "\n",
    "# Batch files into batches by time. Use the default ISO date extractor from the filename\n",
    "pipeline.add_stage(\n",
    "    DFPFileBatcherStage(config,\n",
    "                        period=\"D\",\n",
    "                        date_conversion_func=functools.partial(date_extractor, filename_regex=iso_date_regex)))\n",
    "\n",
    "# Output is a list of fsspec files. Convert to DataFrames. This caches downloaded data\n",
    "pipeline.add_stage(\n",
    "    DFPFileToDataFrameStage(config,\n",
    "                            schema=source_schema,\n",
    "                            file_type=FileTypes.JSON,\n",
    "                            parser_kwargs={\n",
    "                                \"lines\": False, \"orient\": \"records\"\n",
    "                            },\n",
    "                            cache_dir=cache_dir))\n",
    "\n",
    "\n",
    "# This will split users or just use one single user\n",
    "pipeline.add_stage(\n",
    "    DFPSplitUsersStage(config,\n",
    "                        include_generic=include_generic,\n",
    "                        include_individual=include_individual,\n",
    "                        skip_users=skip_users))\n",
    "\n",
    "# Next, have a stage that will create rolling windows\n",
    "pipeline.add_stage(\n",
    "    DFPRollingWindowStage(\n",
    "        config,\n",
    "        min_history=300 if is_training else 1,\n",
    "        min_increment=300 if is_training else 0,\n",
    "        # For inference, we only ever want 1 day max\n",
    "        max_history=\"60d\" if is_training else \"1d\",\n",
    "        cache_dir=cache_dir))\n",
    "\n",
    "# Output is UserMessageMeta -- Cached frame set\n",
    "pipeline.add_stage(DFPPreprocessingStage(config, input_schema=preprocess_schema))\n",
    "\n",
    "# Perform inference on the preprocessed data\n",
    "pipeline.add_stage(DFPInferenceStage(config, model_name_formatter=model_name_formatter))\n",
    "\n",
    "# Filter for only the anomalous logs\n",
    "pipeline.add_stage(\n",
    "            FilterDetectionsStage(config, threshold=2.0, filter_source=FilterSource.DATAFRAME, field_name='mean_abs_z'))\n",
    "pipeline.add_stage(DFPPostprocessingStage(config))\n",
    "\n",
    "# Exclude the columns we don't want in our output\n",
    "pipeline.add_stage(SerializeStage(config, exclude=['batch_count', 'origin_hash', '_row_hash', '_batch_id']))\n",
    "\n",
    "# Write all anomalies to a CSV file\n",
    "pipeline.add_stage(WriteToFileStage(config, filename=\"dfp_detections_duo.csv\", overwrite=True))\n",
    "\n",
    "# Run the pipeline\n",
    "await pipeline.run_async()\n"
   ]
  },
  {
   "cell_type": "code",
   "execution_count": null,
   "id": "75c0cf6b-8255-4d90-b67c-151518c7423b",
   "metadata": {},
   "outputs": [],
   "source": []
  }
 ],
 "metadata": {
  "kernelspec": {
   "display_name": "morpheus",
   "language": "python",
   "name": "python3"
  },
  "language_info": {
   "codemirror_mode": {
    "name": "ipython",
    "version": 3
   },
   "file_extension": ".py",
   "mimetype": "text/x-python",
   "name": "python",
   "nbconvert_exporter": "python",
   "pygments_lexer": "ipython3",
   "version": "3.10.14"
  }
 },
 "nbformat": 4,
 "nbformat_minor": 5
}
