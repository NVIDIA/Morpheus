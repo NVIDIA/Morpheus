{
 "cells": [
  {
   "cell_type": "markdown",
   "id": "2941e94f-db20-44a5-ab87-2cab499825f7",
   "metadata": {},
   "source": [
    "# Digital Finger Printing (DFP) with Morpheus - Azure Inference\n",
    "## Introduction\n",
    "\n",
    "In this notebook, we will be building and running a DFP pipeline that performs inference on Azure logs. The goal is to use the pretrained models generated in the Duo Training notebook to generate anomaly scores for each log. These anomaly scores can be used by security teams to detect abnormal behavior when it happens so the proper action can be taken.\n",
    "\n",
    "<div class=\"alert alert-block alert-info\">\n",
    "<b>Note:</b> For more information on DFP, the Morpheus pipeline, and setup steps to run this notebook, please refer to the coresponding DFP training materials.\n",
    "</div>"
   ]
  },
  {
   "cell_type": "code",
   "execution_count": 1,
   "id": "b6c1cb50-74f2-445d-b865-8c22c3b3798b",
   "metadata": {},
   "outputs": [],
   "source": [
    "%load_ext autoreload\n",
    "%autoreload 2\n",
    "\n",
    "# Ensure that the morpheus directory is in the python path. This may not need to be run depending on the environment setup\n",
    "import sys\n",
    "import os\n",
    "sys.path.insert(0, os.path.abspath(\"../../morpheus\"))"
   ]
  },
  {
   "cell_type": "code",
   "execution_count": 2,
   "id": "102ce011-3ca3-4f96-a72d-de28fad32003",
   "metadata": {},
   "outputs": [
    {
     "data": {
      "text/html": [
       "<style>table {align:left;display:block}</style>"
      ],
      "text/plain": [
       "<IPython.core.display.HTML object>"
      ]
     },
     "execution_count": 2,
     "metadata": {},
     "output_type": "execute_result"
    }
   ],
   "source": [
    "import functools\n",
    "import logging\n",
    "import os\n",
    "import typing\n",
    "import mlflow\n",
    "\n",
    "from datetime import datetime\n",
    "from functools import partial\n",
    "\n",
    "from dfp.stages.dfp_file_batcher_stage import DFPFileBatcherStage\n",
    "from dfp.stages.dfp_file_to_df import DFPFileToDataFrameStage\n",
    "from dfp.stages.dfp_inference_stage import DFPInferenceStage\n",
    "from dfp.stages.dfp_postprocessing_stage import DFPPostprocessingStage\n",
    "from dfp.stages.dfp_preprocessing_stage import DFPPreprocessingStage\n",
    "from dfp.stages.dfp_rolling_window_stage import DFPRollingWindowStage\n",
    "from dfp.stages.dfp_split_users_stage import DFPSplitUsersStage\n",
    "from dfp.stages.multi_file_source import MultiFileSource\n",
    "from dfp.utils.regex_utils import iso_date_regex\n",
    "\n",
    "from morpheus.common import FileTypes\n",
    "from morpheus.common import FilterSource\n",
    "from morpheus.cli.utils import get_log_levels\n",
    "from morpheus.cli.utils import get_package_relative_file\n",
    "from morpheus.cli.utils import load_labels_file\n",
    "from morpheus.cli.utils import parse_log_level\n",
    "from morpheus.config import Config\n",
    "from morpheus.config import ConfigAutoEncoder\n",
    "from morpheus.config import CppConfig\n",
    "from morpheus.pipeline import LinearPipeline\n",
    "from morpheus.stages.output.write_to_file_stage import WriteToFileStage\n",
    "from morpheus.utils.column_info import ColumnInfo\n",
    "from morpheus.utils.column_info import DataFrameInputSchema\n",
    "from morpheus.utils.column_info import DateTimeColumn\n",
    "from morpheus.utils.column_info import DistinctIncrementColumn\n",
    "from morpheus.utils.column_info import IncrementColumn\n",
    "from morpheus.utils.column_info import RenameColumn\n",
    "from morpheus.utils.column_info import StringCatColumn\n",
    "from morpheus.utils.file_utils import date_extractor\n",
    "from morpheus.stages.postprocess.filter_detections_stage import FilterDetectionsStage\n",
    "from morpheus.stages.postprocess.serialize_stage import SerializeStage\n",
    "from morpheus.utils.logger import configure_logging\n",
    "\n",
    "# Left align all tables\n",
    "from IPython.core.display import HTML\n",
    "table_css = 'table {align:left;display:block}'\n",
    "HTML('<style>{}</style>'.format(table_css))"
   ]
  },
  {
   "cell_type": "markdown",
   "id": "ca38c1b7-ce84-43e0-ac53-280562dc1642",
   "metadata": {},
   "source": [
    "## High Level Configuration\n",
    "\n",
    "The following options significantly alter the functionality of the pipeline. These options are separated from the individual stage options since they may effect more than one stage. Additionally, the matching python script to this notebook, `dfp_azure_pipeline.py`, configures these options via command line arguments.\n",
    "\n",
    "### Options\n",
    "\n",
    "| Name | Type | Description |\n",
    "| --- | --- | :-- |\n",
    "| `train_users` | One of `[\"none\"]` | For inference, this option should always be `\"none\"` |\n",
    "| `skip_users` | List of strings | Any user in this list will be dropped from the pipeline. Useful for debugging to remove automated accounts with many logs. |\n",
    "| `cache_dir` | string | The location to store cached files. To aid with development and reduce bandwidth, the Morpheus pipeline will cache data from several stages of the pipeline. This option configures the location for those caches. |\n",
    "| `input_files` | List of strings | List of files to process. Can specify multiple arguments for multiple files. Also accepts glob (\\*) wildcards and schema prefixes such as `s3://`. For example, to make a local cache of an s3 bucket, use `filecache::s3://mybucket/*`. Refer to `fsspec` documentation for list of possible options. |\n",
    "| `model_name_formatter` | string | A format string to use when building the model name. The model name is constructed by calling `model_name_formatter.format(user_id=user_id)`. For example, with `model_name_formatter=\"my_model-{user_id}\"` and a user ID of `\"first:last\"` would result in the model name of `\"my_model-first:last\"`. This should match the value used in `DFPMLFlowModelWriterStage`. Available keyword arguments: `user_id`, `user_md5`. |\n",
    "| `experiment_name_formatter` | string | A format string (without the `f`) that will be used when creating an experiment in ML Flow. Available keyword arguments: `user_id`, `user_md5`, `reg_model_name`. |\n"
   ]
  },
  {
   "cell_type": "code",
   "execution_count": 3,
   "id": "9ee00703-75c5-46fc-890c-86733da906c4",
   "metadata": {},
   "outputs": [],
   "source": [
    "# Global options\n",
    "train_users = \"none\"\n",
    "\n",
    "# Enter any users to skip here\n",
    "skip_users: typing.List[str] = []\n",
    "\n",
    "# Location where cache objects will be saved\n",
    "cache_dir = \"./.cache/dfp\"\n",
    "\n",
    "# Input files to read from\n",
    "input_files = [\n",
    "    \"../../../../data/dfp/azure-inference-data/AZUREAD_*.json\",\n",
    "]\n",
    "\n",
    "# The format to use for models\n",
    "model_name_formatter = \"DFP-azure-{user_id}\"\n",
    "\n",
    "# === Derived Options ===\n",
    "# To include the generic, we must be training all or generic\n",
    "include_generic = train_users == \"all\" or train_users == \"generic\"\n",
    "\n",
    "# To include individual, we must be either training or inferring\n",
    "include_individual = train_users != \"generic\"\n",
    "\n",
    "# None indicates we arent training anything\n",
    "is_training = train_users != \"none\"\n",
    "\n",
    "# Tracking URI\n",
    "tracking_uri = \"http://mlflow:5000\""
   ]
  },
  {
   "cell_type": "markdown",
   "id": "9b586016",
   "metadata": {},
   "source": [
    "### Set MLFlow Tracking URI\n",
    "Set MLFlow tracking URI to make inference calls."
   ]
  },
  {
   "cell_type": "code",
   "execution_count": 4,
   "id": "5ea82337",
   "metadata": {},
   "outputs": [],
   "source": [
    "mlflow.set_tracking_uri(tracking_uri)"
   ]
  },
  {
   "cell_type": "markdown",
   "id": "1cfc24c9-c85e-4977-a348-692c8f0aceaa",
   "metadata": {},
   "source": [
    "### Global Config Object\n",
    "Before creating the pipeline, we need to setup logging and set the parameters for the Morpheus config object. This config object is responsible for the following:\n",
    " - Indicating whether to use C++ or Python stages\n",
    "    - C++ stages are not supported for the DFP pipeline. This should always be `False`\n",
    " - Setting the number of threads to use in the pipeline. Defaults to the thread count of the OS.\n",
    " - Sets the feature column names that will be used in model training\n",
    "    - This option allows extra columns to be used in the pipeline that will not be part of the training algorithm.\n",
    "    - The final features that the model will be trained on will be an intersection of this list with the log columns.\n",
    " - The column name that indicates the user's unique identifier\n",
    "    - It is required for DFP to have a user ID column\n",
    " - The column name that indicates the timestamp for the log\n",
    "    - It is required for DFP to know when each log occurred"
   ]
  },
  {
   "cell_type": "code",
   "execution_count": 5,
   "id": "01abd537-9162-49dc-8e83-d9465592f1d5",
   "metadata": {},
   "outputs": [],
   "source": [
    "# Enable the Morpheus logger\n",
    "configure_logging(log_level=logging.DEBUG)\n",
    "\n",
    "config = Config()\n",
    "\n",
    "CppConfig.set_should_use_cpp(False)\n",
    "\n",
    "config.num_threads = len(os.sched_getaffinity(0))\n",
    "\n",
    "config.ae = ConfigAutoEncoder()\n",
    "\n",
    "config.ae.feature_columns = [\n",
    "    \"appDisplayName\", \"clientAppUsed\", \"deviceDetailbrowser\", \"deviceDetaildisplayName\", \"deviceDetailoperatingSystem\", \"statusfailureReason\", \"appincrement\", \"locincrement\", \"logcount\",\n",
    "]\n",
    "config.ae.userid_column_name = \"username\"\n",
    "config.ae.timestamp_column_name = \"timestamp\""
   ]
  },
  {
   "cell_type": "code",
   "execution_count": 6,
   "id": "a73a4d53-32b6-4ab8-a5d7-c0104b31c69b",
   "metadata": {},
   "outputs": [],
   "source": [
    "# Specify the column names to ensure all data is uniform\n",
    "source_column_info = [\n",
    "    DateTimeColumn(name=config.ae.timestamp_column_name, dtype=datetime, input_name=\"time\"),\n",
    "    RenameColumn(name=config.ae.userid_column_name, dtype=str, input_name=\"properties.userPrincipalName\"),\n",
    "    RenameColumn(name=\"appDisplayName\", dtype=str, input_name=\"properties.appDisplayName\"),\n",
    "    ColumnInfo(name=\"category\", dtype=str),\n",
    "    RenameColumn(name=\"clientAppUsed\", dtype=str, input_name=\"properties.clientAppUsed\"),\n",
    "    RenameColumn(name=\"deviceDetailbrowser\", dtype=str, input_name=\"properties.deviceDetail.browser\"),\n",
    "    RenameColumn(name=\"deviceDetaildisplayName\", dtype=str, input_name=\"properties.deviceDetail.displayName\"),\n",
    "    RenameColumn(name=\"deviceDetailoperatingSystem\",\n",
    "                    dtype=str,\n",
    "                    input_name=\"properties.deviceDetail.operatingSystem\"),\n",
    "    StringCatColumn(name=\"location\",\n",
    "                    dtype=str,\n",
    "                    input_columns=[\n",
    "                        \"properties.location.city\",\n",
    "                        \"properties.location.countryOrRegion\",\n",
    "                    ],\n",
    "                    sep=\", \"),\n",
    "    RenameColumn(name=\"statusfailureReason\", dtype=str, input_name=\"properties.status.failureReason\"),\n",
    "]\n",
    "\n",
    "source_schema = DataFrameInputSchema(json_columns=[\"properties\"], column_info=source_column_info)\n"
   ]
  },
  {
   "cell_type": "code",
   "execution_count": 7,
   "id": "f7a0cb0a-e65a-444a-a06c-a4525d543790",
   "metadata": {},
   "outputs": [],
   "source": [
    "# Preprocessing schema\n",
    "preprocess_column_info = [\n",
    "    ColumnInfo(name=config.ae.timestamp_column_name, dtype=datetime),\n",
    "    ColumnInfo(name=config.ae.userid_column_name, dtype=str),\n",
    "    ColumnInfo(name=\"appDisplayName\", dtype=str),\n",
    "    ColumnInfo(name=\"clientAppUsed\", dtype=str),\n",
    "    ColumnInfo(name=\"deviceDetailbrowser\", dtype=str),\n",
    "    ColumnInfo(name=\"deviceDetaildisplayName\", dtype=str),\n",
    "    ColumnInfo(name=\"deviceDetailoperatingSystem\", dtype=str),\n",
    "    ColumnInfo(name=\"statusfailureReason\", dtype=str),\n",
    "\n",
    "    # Derived columns\n",
    "    IncrementColumn(name=\"logcount\",\n",
    "                    dtype=int,\n",
    "                    input_name=config.ae.timestamp_column_name,\n",
    "                    groupby_column=config.ae.userid_column_name),\n",
    "    DistinctIncrementColumn(name=\"locincrement\",\n",
    "                            dtype=int,\n",
    "                            input_name=\"location\",\n",
    "                            groupby_column=config.ae.userid_column_name,\n",
    "                            timestamp_column=config.ae.timestamp_column_name),\n",
    "    DistinctIncrementColumn(name=\"appincrement\",\n",
    "                            dtype=int,\n",
    "                            input_name=\"appDisplayName\",\n",
    "                            groupby_column=config.ae.userid_column_name,\n",
    "                            timestamp_column=config.ae.timestamp_column_name)\n",
    "]\n",
    "\n",
    "preprocess_schema = DataFrameInputSchema(column_info=preprocess_column_info, preserve_columns=[\"_batch_id\"])\n"
   ]
  },
  {
   "cell_type": "markdown",
   "id": "bdfc59de-dea8-4e5f-98e3-98eba1e4621d",
   "metadata": {},
   "source": [
    "## Pipeline Construction\n",
    "From this point on we begin constructing the stages that will make up the pipeline. To make testing easier, constructing the pipeline object, adding the stages, and running the pipeline, is provided as a single cell. The below cell can be rerun multiple times as needed for debugging.\n",
    "\n",
    "### Source Stage (`MultiFileSource`)\n",
    "\n",
    "This pipeline read input logs from one or more input files. This source stage will construct a list of files to be processed and pass to downstream stages. It is capable of reading files from many different source types, both local and remote. This is possible by utilizing the `fsspec` library (similar to `pandas`). Refer to the [`fsspec`](https://filesystem-spec.readthedocs.io/) documentation for more information on the supported file types. Once all of the logs have been read, the source completes. \n",
    "\n",
    "| Name | Type | Default | Description |\n",
    "| --- | --- | --- | :-- |\n",
    "| `filenames` | List of strings | | Any files to read into the pipeline. All files will be combined into a single `DataFrame` |\n",
    "\n",
    "### File Batcher Stage (`DFPFileBatcherStage`)\n",
    "\n",
    "To improve performance, multiple small input files can be batched together into a single DataFrame for processing. This stage is responsible for determining the timestamp of input files, grouping input files into batches by time, and sending the batches to be processed into a single DataFrame. Repeated batches of files will be loaded from cache resulting in increased performance. For example, when performaing a 60 day training run, 59 days can be cached with a period of `\"D\"` and retraining once per day.\n",
    "\n",
    "| Name | Type | Default | Description |\n",
    "| --- | --- | --- | :-- |\n",
    "| `period` | `str` | `\"D\"` | The period to create batches. Refer to `pandas` windowing frequency documentation for available options.  |\n",
    "| `date_conversion_func` | Function of `typing.Callable[[fsspec.core.OpenFile], datetime]` | | A callback which is responsible for determining the date for a specified file. |\n",
    "\n",
    "### File to DataFrame Stage (`DFPFileToDataFrameStage`)\n",
    "\n",
    "After files have been batched into groups, this stage is responsible for reading the files and converting into a DataFrame. The specified input schema converts the raw DataFrame into one suitable for caching and processing. Any columns that are not needed should be excluded from the schema.\n",
    "\n",
    "| Name | Type | Default | Description |\n",
    "| --- | --- | --- | :-- |\n",
    "| `schema` | `DataFrameInputSchema` | | After the raw `DataFrame` is read from each file, this schema will be applied to ensure a consisten output from the source. |\n",
    "| `file_type` | `FileTypes` | `FileTypes.Auto` | Allows overriding the file type. When set to `Auto`, the file extension will be used. Options are `CSV`, `JSON`, `PARQUET`, `Auto`. |\n",
    "| `parser_kwargs` | `dict` | `{}` | This dictionary will be passed to the `DataFrame` parser class. Allows for customization of log parsing. |\n",
    "| `cache_dir` | `str` | `./.cache/dfp` | The location to write cached input files to. |\n",
    "\n",
    "### Split Users Stage (`DFPSplitUsersStage`)\n",
    "\n",
    "Once the input logs have been read into a `DataFrame`, this stage is responsible for breaking that single `DataFrame` with many users into multiple `DataFrame`s for each user. This is also where the pipeline chooses whether to train individual users or the generic user (or both).\n",
    "\n",
    "| Name | Type | Default | Description |\n",
    "| --- | --- | --- | :-- |\n",
    "| `include_generic` | `bool` | | Whether or not to combine all user logs into a single `DataFrame` with the username 'generic_user' |\n",
    "| `include_individual` | `bool` | | Whether or not to output individual `DataFrame` objects for each user |\n",
    "| `skip_users` | List of `str` | `[]` | Any users to remove from the `DataFrame`. Useful for debugging to remove automated accounts with many logs. Mutually exclusive with `only_users`. |\n",
    "| `only_users` | List of `str` | `[]` | Only allow these users in the final `DataFrame`. Useful for debugging to focus on specific users. Mutually exclusive with `skip_users`. |\n",
    "\n",
    "### Rolling Window Stage (`DFPRollingWindowStage`)\n",
    "\n",
    "The Rolling Window Stage performs several key pieces of functionality for DFP.\n",
    "1. This stage keeps a moving window of logs on a per user basis\n",
    "   1. These logs are saved to disk to reduce memory requirements between logs from the same user\n",
    "1. It only emits logs when the window history requirements are met\n",
    "   1. Until all of the window history requirements are met, no messages will be sent to the rest of the pipeline.\n",
    "   1. Configuration options for defining the window history requirements are detailed below.\n",
    "1. It repeats the necessary logs to properly calculate log dependent features.\n",
    "   1. To support all column feature types, incoming log messages can be combined with existing history and sent to downstream stages.\n",
    "   1. For example, to calculate a feature that increments a counter for the number of logs a particular user has generated in a single day, we must have the user's log history for the past 24 hours. To support this, this stage will combine new logs with existing history into a single `DataFrame`.\n",
    "   1. It is the responsibility of downstream stages to distinguish between new logs and existing history.\n",
    "\n",
    "| Name | Type | Default | Description |\n",
    "| --- | --- | --- | :-- |\n",
    "| `min_history` | `int` | `1` | The minimum number of logs a user must have before emitting any messages. Logs below this threshold will be saved to disk. |\n",
    "| `min_increment` | `int` or `str` | `0` | Once the min history requirement is met, this stage must receive `min_increment` *new* logs before emmitting another message. Logs received before this threshold is met will be saved to disk. Can be specified as an integer count or a string duration. |\n",
    "| `max_history` | `int` or `str` | `\"1d\"` | Once `min_history` and `min_increment` requirements have been met, this puts an upper bound on the maximum number of messages to forward into the pipeline and also the maximum amount of messages to retain in the history. Can be specified as an integer count or a string duration. |\n",
    "| `cache_dir` | `str` | `./.cache/dfp` | The location to write log history to disk. |\n",
    "\n",
    "### Preprocessing Stage (`DFPPreprocessingStage`)\n",
    "\n",
    "This stage performs the final, row dependent, feature calculations as specified by the input schema object. Once calculated, this stage can forward on all received logs, or optionally can only forward on new logs, removing any history information.\n",
    "\n",
    "| Name | Type | Default | Description |\n",
    "| --- | --- | --- | :-- |\n",
    "| `input_schema` | `DataFrameInputSchema` | | The final, row dependent, schema to apply to the incoming columns |\n",
    "\n",
    "### Inference Stage (`DFPInference`)\n",
    "\n",
    "This stage performs several tasks to aid in performing inference. This stage will:\n",
    "1. Download models as needed from MLFlow\n",
    "1. Cache previously downloaded models to improve performance\n",
    "   1. Models in the cache will be periodically refreshed from MLFlow at a configured rate\n",
    "1. Perform inference using the downloaded model\n",
    "\n",
    "| Name | Type | Default | Description |\n",
    "| --- | --- | --- | :-- |\n",
    "| `model_name_formatter` | `str` | `\"\"` | A format string to use when building the model name. The model name is constructed by calling `model_name_formatter.format(user_id=user_id)`. For example, with `model_name_formatter=\"my_model-{user_id}\"` and a user ID of `\"first:last\"` would result in the model name of `\"my_model-first:last\"`. This should match the value used in `DFPMLFlowModelWriterStage` |\n",
    "\n",
    "### Filter Detection Stage (`FilterDetectionsStage`)\n",
    "This stage filters the output from the inference stage for any anomalous messages. Logs which exceed the specified Z-Score will be passed onto the next stage. All remaining logs which are below the threshold will be dropped. For the purposes of the DFP pipeline, this stage is configured to use the `mean_abs_z` column of the DataFrame as the filter criteria.\n",
    "\n",
    "| Name | Type | Default | Description |\n",
    "| --- | --- | --- | :-- |\n",
    "| `threshold` | `float` | `0.5` | The threshold value above which logs are considered to be anomalous. The default is `0.5`, however the DFP pipeline uses a value of `2.0`. All normal logs will be filtered out and anomalous logs will be passed on. |\n",
    "| `copy` | `bool` | `True` | When the `copy` argument is `True` (default), rows that meet the filter criteria are copied into a new dataframe. When `False` sliced views are used instead. This is a performance optimization, and has no functional impact. |\n",
    "| `filter_source` | `FilterSource` | `FilterSource.Auto` | Indicates if the filter criteria exists in an output tensor (`FilterSource.TENSOR`) or a column in a DataFrame (`FilterSource.DATAFRAME`). |\n",
    "| `field_name` | `str` | `probs` | Name of the tensor (`filter_source=FilterSource.TENSOR`) or DataFrame column (`filter_source=FilterSource.DATAFRAME`) to use as the filter criteria. |\n",
    "\n",
    "### Post Processing Stage (`DFPPostprocessingStage`)\n",
    "This stage adds a new `event_time` column to the DataFrame indicating the time which Morpheus detected the anomalous messages, and replaces any `NAN` values with the a string value of `'NaN'`.\n",
    "\n",
    "### Serialize Stage (`SerializeStage`)\n",
    "This stage controls which columns in the DataFrame will be included in the output. For the purposes of the DFP pipeline, we will exclude columns that are used internally by the pipeline which are not of interest to the end-user.\n",
    "\n",
    "| Name | Type | Default | Description |\n",
    "| --- | --- | --- | :-- |\n",
    "| `include` | List of `str` | `[]` | List of regular expression patterns matching columns to include in the output. Specifying an empty list causes all columns to be included not explicitly excluded. |\n",
    "| `exclude` | List of `str` | `[r'^ID$', r'^_ts_']` | List of regular expression patterns matching columns to exclude from the output. |\n",
    "| `fixed_columns` | `bool` | `True` | When `True` it is assumed that the Dataframe in all messages contain the same columns as the first message received. |\n",
    "\n",
    "### Write to File Stage (`WriteToFileStage`)\n",
    "This final stage will write all received messages to a single output file in either CSV or JSON format.\n",
    "\n",
    "| Name | Type | Default | Description |\n",
    "| --- | --- | --- | :-- |\n",
    "| `filename` | `str` | | The file to write anomalous log messages to. |\n",
    "| `overwrite` | `bool` | `False` | If the file specified in `filename` already exists, it will be overwritten if this option is set to `True` |"
   ]
  },
  {
   "cell_type": "code",
   "execution_count": 8,
   "id": "825390ad-ce64-4949-b324-33039ffdf264",
   "metadata": {},
   "outputs": [
    {
     "name": "stdout",
     "output_type": "stream",
     "text": [
      "\u001b[2mUpdating list of available models...\u001b[0m\n",
      "\u001b[2mUpdating list of available models... Done.\u001b[0m\n",
      "====Pipeline Pre-build====\u001b[0m\n",
      "====Pre-Building Segment: linear_segment_0====\u001b[0m\n",
      "====Pre-Building Segment Complete!====\u001b[0m\n",
      "====Pipeline Pre-build Complete!====\u001b[0m\n",
      "====Registering Pipeline====\u001b[0m\n",
      "====Building Pipeline====\u001b[0m\n",
      "====Building Pipeline Complete!====\u001b[0m\n",
      "====Registering Pipeline Complete!====\u001b[0m\n",
      "====Starting Pipeline====\u001b[0m\n",
      "====Building Segment: linear_segment_0====\u001b[0m\n",
      "Added source: <from-multi-file-0; MultiFileSource(filenames=['../../../../data/dfp/azure-inference-data/AZUREAD_*.json'], watch=False, watch_interval=1.0)>\n",
      "  └─> fsspec.OpenFiles\u001b[0m\n",
      "Added stage: <dfp-file-batcher-1; DFPFileBatcherStage(date_conversion_func=functools.partial(<function date_extractor at 0x733b22475fc0>, filename_regex=re.compile('(?P<year>\\\\d{4})-(?P<month>\\\\d{1,2})-(?P<day>\\\\d{1,2})(?:T(?P<hour>\\\\d{1,2})(?::|_|\\\\.)(?P<minute>\\\\d{1,2})(?::|_|\\\\.)(?P<second>\\\\d{1,2})(?:\\\\.(?P<microsecond>\\\\d{0,6}))?)?(?P<zulu>Z)?')), period=D, sampling_rate_s=None, start_time=None, end_time=None, sampling=None)>\n",
      "  └─ fsspec.OpenFiles -> Tuple[fsspec.core.OpenFiles, int]\u001b[0m\n",
      "Added stage: <dfp-file-to-df-2; DFPFileToDataFrameStage(schema=DataFrameInputSchema(json_columns=['properties'], column_info=[DateTimeColumn(name='timestamp', dtype='datetime64[ns]', input_name='time'), RenameColumn(name='username', dtype='str', input_name='properties.userPrincipalName'), RenameColumn(name='appDisplayName', dtype='str', input_name='properties.appDisplayName'), ColumnInfo(name='category', dtype='str'), RenameColumn(name='clientAppUsed', dtype='str', input_name='properties.clientAppUsed'), RenameColumn(name='deviceDetailbrowser', dtype='str', input_name='properties.deviceDetail.browser'), RenameColumn(name='deviceDetaildisplayName', dtype='str', input_name='properties.deviceDetail.displayName'), RenameColumn(name='deviceDetailoperatingSystem', dtype='str', input_name='properties.deviceDetail.operatingSystem'), StringCatColumn(name='location', dtype='str', input_columns=['properties.location.city', 'properties.location.countryOrRegion'], sep=', '), RenameColumn(name='statusfailureReason', dtype='str', input_name='properties.status.failureReason')], preserve_columns=None, row_filter=None), filter_null=True, file_type=FileTypes.JSON, parser_kwargs={'lines': False, 'orient': 'records'}, cache_dir=./.cache/dfp)>\n",
      "  └─ Tuple[fsspec.core.OpenFiles, int] -> pandas.DataFrame\u001b[0m\n",
      "Added stage: <dfp-split-users-3; DFPSplitUsersStage(include_generic=False, include_individual=True, skip_users=[], only_users=None)>\n",
      "  └─ pandas.DataFrame -> dfp.DFPMessageMeta\u001b[0m\n",
      "Added stage: <dfp-rolling-window-4; DFPRollingWindowStage(min_history=1, min_increment=0, max_history=1d, cache_dir=./.cache/dfp)>\n",
      "  └─ dfp.DFPMessageMeta -> morpheus.ControlMessage\u001b[0m\n",
      "Added stage: <dfp-preproc-5; DFPPreprocessingStage(input_schema=DataFrameInputSchema(json_columns=[], column_info=[ColumnInfo(name='timestamp', dtype='datetime64[ns]'), ColumnInfo(name='username', dtype='str'), ColumnInfo(name='appDisplayName', dtype='str'), ColumnInfo(name='clientAppUsed', dtype='str'), ColumnInfo(name='deviceDetailbrowser', dtype='str'), ColumnInfo(name='deviceDetaildisplayName', dtype='str'), ColumnInfo(name='deviceDetailoperatingSystem', dtype='str'), ColumnInfo(name='statusfailureReason', dtype='str'), IncrementColumn(name='logcount', dtype='int', input_name='timestamp', groupby_column='username', period='D'), DistinctIncrementColumn(name='locincrement', dtype='int', input_name='location', groupby_column='username', period='D', timestamp_column='timestamp'), DistinctIncrementColumn(name='appincrement', dtype='int', input_name='appDisplayName', groupby_column='username', period='D', timestamp_column='timestamp')], preserve_columns=re.compile('(_batch_id)'), row_filter=None))>\n",
      "  └─ morpheus.ControlMessage -> morpheus.ControlMessage\u001b[0m\n",
      "Added stage: <dfp-inference-6; DFPInferenceStage(model_name_formatter=DFP-azure-{user_id})>\n",
      "  └─ morpheus.ControlMessage -> morpheus.ControlMessage\u001b[0m\n",
      "Added stage: <filter-7; FilterDetectionsStage(threshold=2.0, copy=True, filter_source=FilterSource.DATAFRAME, field_name=mean_abs_z)>\n",
      "  └─ morpheus.ControlMessage -> morpheus.ControlMessage\u001b[0m\n",
      "Added stage: <dfp-postproc-8; DFPPostprocessingStage()>\n",
      "  └─ morpheus.ControlMessage -> morpheus.ControlMessage\u001b[0m\n",
      "Added stage: <serialize-9; SerializeStage(include=None, exclude=['batch_count', 'origin_hash', '_row_hash', '_batch_id'], fixed_columns=True)>\n",
      "  └─ morpheus.ControlMessage -> morpheus.MessageMeta\u001b[0m\n",
      "Added stage: <to-file-10; WriteToFileStage(filename=dfp_detections_azure.csv, overwrite=True, file_type=FileTypes.Auto, include_index_col=True, flush=False)>\n",
      "  └─ morpheus.MessageMeta -> morpheus.MessageMeta\u001b[0m\n",
      "====Pipeline Started====\u001b[0m\n",
      "====Building Segment Complete!====\u001b[0m\n",
      "\u001b[2mS3 objects to DF complete. Rows: 119, Cache: hit, Duration: 1.4412403106689453 ms, Rate: 82567.77105045492 rows/s\u001b[0m\n",
      "\u001b[2mPreallocating column event_time[TypeId.STRING]\u001b[0m\n",
      "\u001b[2mBatch split users complete. Input: 119 rows from 2022-08-30 00:17:05.561523 to 2022-08-30 23:58:05.567378. Output: 16 users, rows/user min: 1, max: 18, avg: 7.44. Duration: 6.11 ms\u001b[0m\n",
      "\u001b[2mS3 objects to DF complete. Rows: 209, Cache: hit, Duration: 30.4872989654541 ms, Rate: 6855.313756617894 rows/s\u001b[0m\n",
      "\u001b[2mPreallocating column event_time[TypeId.STRING]\u001b[0m\n",
      "\u001b[2mBatch split users complete. Input: 209 rows from 2022-08-31 00:21:46.153050 to 2022-08-31 23:54:50.435683. Output: 17 users, rows/user min: 1, max: 106, avg: 12.29. Duration: 9.59 ms\u001b[0m\n",
      "\u001b[2mRolling window complete for acole@domain.com in 76.21 ms. Input: 13 rows from 2022-08-30 01:54:26.639083 to 2022-08-30 23:58:05.567378. Output: 13 rows from 2022-08-30T01:54:26.639083000 to 2022-08-30T23:58:05.567378000\u001b[0m\n",
      "\u001b[2mRolling window complete for attacktarget@domain.com in 22.74 ms. Input: 18 rows from 2022-08-30 01:23:39.156080 to 2022-08-30 23:05:47.146155. Output: 18 rows from 2022-08-30T01:23:39.156080000 to 2022-08-30T23:05:47.146155000\u001b[0m\n",
      "\u001b[2mRolling window complete for cfernandez@domain.com in 159.01 ms. Input: 5 rows from 2022-08-30 05:42:19.778470 to 2022-08-30 18:59:24.984779. Output: 5 rows from 2022-08-30T05:42:19.778470000 to 2022-08-30T18:59:24.984779000\u001b[0m\n",
      "\u001b[2mPreprocessed 13 data for logs in 2022-08-30T01:54:26.639083000 to 2022-08-30T23:58:05.567378000 in 180.96566200256348 ms\u001b[0m\n",
      "\u001b[2mRolling window complete for cperry@domain.com in 30.72 ms. Input: 13 rows from 2022-08-30 00:17:05.561523 to 2022-08-30 23:08:41.474570. Output: 13 rows from 2022-08-30T00:17:05.561523000 to 2022-08-30T23:08:41.474570000\u001b[0m\n",
      "\u001b[2mRolling window complete for djohnson@domain.com in 53.76 ms. Input: 4 rows from 2022-08-30 03:48:15.868637 to 2022-08-30 23:49:02.282976. Output: 4 rows from 2022-08-30T03:48:15.868637000 to 2022-08-30T23:49:02.282976000\u001b[0m\n",
      "\u001b[2mPreprocessed 18 data for logs in 2022-08-30T01:23:39.156080000 to 2022-08-30T23:05:47.146155000 in 86.74192428588867 ms\u001b[0m\n",
      "\u001b[2mRolling window complete for jgonzalez@domain.com in 37.19 ms. Input: 4 rows from 2022-08-30 08:20:52.146591 to 2022-08-30 19:07:44.917975. Output: 4 rows from 2022-08-30T08:20:52.146591000 to 2022-08-30T19:07:44.917975000\u001b[0m\n",
      "\u001b[2mRolling window complete for jmeyers@domain.com in 46.91 ms. Input: 3 rows from 2022-08-30 03:46:30.304629 to 2022-08-30 06:53:19.650392. Output: 3 rows from 2022-08-30T03:46:30.304629000 to 2022-08-30T06:53:19.650392000\u001b[0m\n",
      "\u001b[2mPreprocessed 5 data for logs in 2022-08-30T05:42:19.778470000 to 2022-08-30T18:59:24.984779000 in 90.28792381286621 ms\u001b[0m\n",
      "\u001b[2mRolling window complete for jtaylor@domain.com in 36.33 ms. Input: 11 rows from 2022-08-30 02:36:39.981855 to 2022-08-30 23:30:09.312791. Output: 11 rows from 2022-08-30T02:36:39.981855000 to 2022-08-30T23:30:09.312791000\u001b[0m\n",
      "\u001b[2mRolling window complete for jwatson@domain.com in 34.38 ms. Input: 5 rows from 2022-08-30 01:33:19.402330 to 2022-08-30 18:39:54.214210. Output: 5 rows from 2022-08-30T01:33:19.402330000 to 2022-08-30T18:39:54.214210000\u001b[0m\n"
     ]
    },
    {
     "name": "stderr",
     "output_type": "stream",
     "text": [
      "W20240906 18:38:54.984247 187179 meta.cpp:259] Dataframe is not a cudf dataframe, converting to cudf dataframe\n",
      "W20240906 18:38:55.050081 187179 meta.cpp:259] Dataframe is not a cudf dataframe, converting to cudf dataframe\n",
      "W20240906 18:38:55.073016 187179 meta.cpp:259] Dataframe is not a cudf dataframe, converting to cudf dataframe\n",
      "W20240906 18:38:55.241827 187179 meta.cpp:259] Dataframe is not a cudf dataframe, converting to cudf dataframe\n",
      "W20240906 18:38:55.269668 187179 meta.cpp:259] Dataframe is not a cudf dataframe, converting to cudf dataframe\n",
      "W20240906 18:38:55.324748 187179 meta.cpp:259] Dataframe is not a cudf dataframe, converting to cudf dataframe\n",
      "W20240906 18:38:55.360977 187179 meta.cpp:259] Dataframe is not a cudf dataframe, converting to cudf dataframe\n",
      "W20240906 18:38:55.411303 187179 meta.cpp:259] Dataframe is not a cudf dataframe, converting to cudf dataframe\n",
      "W20240906 18:38:55.444344 187179 meta.cpp:259] Dataframe is not a cudf dataframe, converting to cudf dataframe\n",
      "W20240906 18:38:55.482486 187179 meta.cpp:259] Dataframe is not a cudf dataframe, converting to cudf dataframe\n",
      "Downloading artifacts:  83%|████████▎ | 5/6 [00:00<00:00, 513.53it/s]  W20240906 18:38:55.534142 187179 meta.cpp:259] Dataframe is not a cudf dataframe, converting to cudf dataframe\n",
      "W20240906 18:38:55.566174 187179 meta.cpp:259] Dataframe is not a cudf dataframe, converting to cudf dataframe\n",
      "W20240906 18:38:55.614554 187179 meta.cpp:259] Dataframe is not a cudf dataframe, converting to cudf dataframe\n",
      "W20240906 18:38:55.644510 187179 meta.cpp:259] Dataframe is not a cudf dataframe, converting to cudf dataframe\n",
      "W20240906 18:38:55.673978 187179 meta.cpp:259] Dataframe is not a cudf dataframe, converting to cudf dataframe\n",
      "W20240906 18:38:55.733232 187179 meta.cpp:259] Dataframe is not a cudf dataframe, converting to cudf dataframe\n",
      "W20240906 18:38:55.776494 187179 meta.cpp:259] Dataframe is not a cudf dataframe, converting to cudf dataframe\n",
      "W20240906 18:38:55.848563 187179 meta.cpp:259] Dataframe is not a cudf dataframe, converting to cudf dataframe\n",
      "W20240906 18:38:55.937736 187179 meta.cpp:259] Dataframe is not a cudf dataframe, converting to cudf dataframe\n",
      "W20240906 18:38:55.990903 187179 meta.cpp:259] Dataframe is not a cudf dataframe, converting to cudf dataframe\n",
      "W20240906 18:38:56.037110 187179 meta.cpp:259] Dataframe is not a cudf dataframe, converting to cudf dataframe\n",
      "W20240906 18:38:56.112471 187179 meta.cpp:259] Dataframe is not a cudf dataframe, converting to cudf dataframe\n",
      "W20240906 18:38:56.172917 187179 meta.cpp:259] Dataframe is not a cudf dataframe, converting to cudf dataframe\n",
      "W20240906 18:38:56.210765 187179 meta.cpp:259] Dataframe is not a cudf dataframe, converting to cudf dataframe\n",
      "W20240906 18:38:56.283663 187179 meta.cpp:259] Dataframe is not a cudf dataframe, converting to cudf dataframe\n",
      "W20240906 18:38:56.321578 187179 meta.cpp:259] Dataframe is not a cudf dataframe, converting to cudf dataframe\n",
      "W20240906 18:38:56.377774 187179 meta.cpp:259] Dataframe is not a cudf dataframe, converting to cudf dataframe\n",
      "W20240906 18:38:56.417697 187179 meta.cpp:259] Dataframe is not a cudf dataframe, converting to cudf dataframe\n",
      "Downloading artifacts: 100%|██████████| 6/6 [00:00<00:00,  6.49it/s]W20240906 18:38:56.456689 187179 meta.cpp:259] Dataframe is not a cudf dataframe, converting to cudf dataframe\n",
      "Downloading artifacts: 100%|██████████| 6/6 [00:00<00:00,  6.27it/s]\n",
      "W20240906 18:38:56.530526 187179 meta.cpp:259] Dataframe is not a cudf dataframe, converting to cudf dataframe\n",
      "W20240906 18:38:56.574867 187179 meta.cpp:259] Dataframe is not a cudf dataframe, converting to cudf dataframe\n",
      "W20240906 18:38:56.649891 187179 meta.cpp:259] Dataframe is not a cudf dataframe, converting to cudf dataframe\n",
      "W20240906 18:38:56.729549 187179 meta.cpp:259] Dataframe is not a cudf dataframe, converting to cudf dataframe\n"
     ]
    },
    {
     "name": "stderr",
     "output_type": "stream",
     "text": [
      "                                                                     \r"
     ]
    },
    {
     "name": "stdout",
     "output_type": "stream",
     "text": [
      "\u001b[2mRolling window complete for khowell@domain.com in 52.05 ms. Input: 2 rows from 2022-08-30 05:54:21.257941 to 2022-08-30 08:11:17.157376. Output: 2 rows from 2022-08-30T05:54:21.257941000 to 2022-08-30T08:11:17.157376000\u001b[0m\n"
     ]
    },
    {
     "name": "stderr",
     "output_type": "stream",
     "text": [
      "                                                                     \r"
     ]
    },
    {
     "name": "stdout",
     "output_type": "stream",
     "text": [
      "\u001b[2mPreprocessed 13 data for logs in 2022-08-30T00:17:05.561523000 to 2022-08-30T23:08:41.474570000 in 100.37970542907715 ms\u001b[0m\n"
     ]
    },
    {
     "name": "stderr",
     "output_type": "stream",
     "text": [
      "                                                                     \r"
     ]
    },
    {
     "name": "stdout",
     "output_type": "stream",
     "text": [
      "\u001b[2mRolling window complete for ksheppard@domain.com in 35.82 ms. Input: 9 rows from 2022-08-30 07:42:51.522461 to 2022-08-30 23:03:40.411836. Output: 9 rows from 2022-08-30T07:42:51.522461000 to 2022-08-30T23:03:40.411836000\u001b[0m\n"
     ]
    },
    {
     "name": "stderr",
     "output_type": "stream",
     "text": [
      "                                                                    \r"
     ]
    },
    {
     "name": "stdout",
     "output_type": "stream",
     "text": [
      "\u001b[2mRolling window complete for mmartin@domain.com in 44.62 ms. Input: 9 rows from 2022-08-30 00:50:13.640088 to 2022-08-30 23:43:17.639540. Output: 9 rows from 2022-08-30T00:50:13.640088000 to 2022-08-30T23:43:17.639540000\u001b[0m\n"
     ]
    },
    {
     "name": "stderr",
     "output_type": "stream",
     "text": [
      "                                                                    \r"
     ]
    },
    {
     "name": "stdout",
     "output_type": "stream",
     "text": [
      "\u001b[2mPreprocessed 4 data for logs in 2022-08-30T03:48:15.868637000 to 2022-08-30T23:49:02.282976000 in 83.95075798034668 ms\u001b[0m\n"
     ]
    },
    {
     "name": "stderr",
     "output_type": "stream",
     "text": [
      "                                                                    \r"
     ]
    },
    {
     "name": "stdout",
     "output_type": "stream",
     "text": [
      "\u001b[2mRolling window complete for nblack@domain.com in 31.44 ms. Input: 1 rows from 2022-08-30 08:52:11.647522 to 2022-08-30 08:52:11.647522. Output: 1 rows from 2022-08-30T08:52:11.647522000 to 2022-08-30T08:52:11.647522000\u001b[0m\n"
     ]
    },
    {
     "name": "stderr",
     "output_type": "stream",
     "text": [
      "                                                                    \r"
     ]
    },
    {
     "name": "stdout",
     "output_type": "stream",
     "text": [
      "\u001b[2mRolling window complete for tprice@domain.com in 29.73 ms. Input: 18 rows from 2022-08-30 00:17:54.840684 to 2022-08-30 21:29:52.981331. Output: 18 rows from 2022-08-30T00:17:54.840684000 to 2022-08-30T21:29:52.981331000\u001b[0m\n"
     ]
    },
    {
     "name": "stderr",
     "output_type": "stream",
     "text": [
      "                                                                    \r"
     ]
    },
    {
     "name": "stdout",
     "output_type": "stream",
     "text": [
      "\u001b[2mRolling window complete for tproctor@domain.com in 54.06 ms. Input: 2 rows from 2022-08-30 04:41:31.606683 to 2022-08-30 19:11:59.114436. Output: 2 rows from 2022-08-30T04:41:31.606683000 to 2022-08-30T19:11:59.114436000\u001b[0m\n"
     ]
    },
    {
     "name": "stderr",
     "output_type": "stream",
     "text": [
      "                                                                    \r"
     ]
    },
    {
     "name": "stdout",
     "output_type": "stream",
     "text": [
      "\u001b[2mPreprocessed 4 data for logs in 2022-08-30T08:20:52.146591000 to 2022-08-30T19:07:44.917975000 in 81.10594749450684 ms\u001b[0m\n"
     ]
    },
    {
     "name": "stderr",
     "output_type": "stream",
     "text": [
      "                                                                    \r"
     ]
    },
    {
     "name": "stdout",
     "output_type": "stream",
     "text": [
      "\u001b[2mRolling window complete for vramirez@domain.com in 41.80 ms. Input: 2 rows from 2022-08-30 14:15:07.746372 to 2022-08-30 15:29:51.074456. Output: 2 rows from 2022-08-30T14:15:07.746372000 to 2022-08-30T15:29:51.074456000\u001b[0m\n"
     ]
    },
    {
     "name": "stderr",
     "output_type": "stream",
     "text": [
      "                                                                    \r"
     ]
    },
    {
     "name": "stdout",
     "output_type": "stream",
     "text": [
      "\u001b[2mRolling window complete for aanderson@domain.com in 66.36 ms. Input: 1 rows from 2022-08-31 05:52:54.160038 to 2022-08-31 05:52:54.160038. Output: 1 rows from 2022-08-31T05:52:54.160038000 to 2022-08-31T05:52:54.160038000\u001b[0m\n"
     ]
    },
    {
     "name": "stderr",
     "output_type": "stream",
     "text": [
      "                                                                    \r"
     ]
    },
    {
     "name": "stdout",
     "output_type": "stream",
     "text": [
      "\u001b[2mPreprocessed 3 data for logs in 2022-08-30T03:46:30.304629000 to 2022-08-30T06:53:19.650392000 in 122.406005859375 ms\u001b[0m\n"
     ]
    },
    {
     "name": "stderr",
     "output_type": "stream",
     "text": [
      "                                                                    \r"
     ]
    },
    {
     "name": "stdout",
     "output_type": "stream",
     "text": [
      "\u001b[2mRolling window complete for acole@domain.com in 57.87 ms. Input: 15 rows from 2022-08-31 03:24:21.299927 to 2022-08-31 23:36:39.523067. Output: 16 rows from 2022-08-30T23:58:05.567378000 to 2022-08-31T23:36:39.523067000\u001b[0m\n"
     ]
    },
    {
     "name": "stderr",
     "output_type": "stream",
     "text": [
      "                                                                    \r"
     ]
    },
    {
     "name": "stdout",
     "output_type": "stream",
     "text": [
      "\u001b[2mRolling window complete for attacktarget@domain.com in 85.41 ms. Input: 106 rows from 2022-08-31 00:21:46.153050 to 2022-08-31 23:54:50.435683. Output: 106 rows from 2022-08-31T00:21:46.153050000 to 2022-08-31T23:54:50.435683000\u001b[0m\n"
     ]
    },
    {
     "name": "stderr",
     "output_type": "stream",
     "text": [
      "                                                                    \r"
     ]
    },
    {
     "name": "stdout",
     "output_type": "stream",
     "text": [
      "\u001b[2mPreprocessed 11 data for logs in 2022-08-30T02:36:39.981855000 to 2022-08-30T23:30:09.312791000 in 109.97653007507324 ms\u001b[0m\n"
     ]
    },
    {
     "name": "stderr",
     "output_type": "stream",
     "text": [
      "                                                                    \r"
     ]
    },
    {
     "name": "stdout",
     "output_type": "stream",
     "text": [
      "\u001b[2mRolling window complete for cfernandez@domain.com in 49.20 ms. Input: 7 rows from 2022-08-31 02:34:42.807200 to 2022-08-31 21:38:46.557841. Output: 7 rows from 2022-08-31T02:34:42.807200000 to 2022-08-31T21:38:46.557841000\u001b[0m\n"
     ]
    },
    {
     "name": "stderr",
     "output_type": "stream",
     "text": [
      "                                                                    \r"
     ]
    },
    {
     "name": "stdout",
     "output_type": "stream",
     "text": [
      "\u001b[2mRolling window complete for cperry@domain.com in 69.77 ms. Input: 13 rows from 2022-08-31 04:41:40.465981 to 2022-08-31 22:54:52.727400. Output: 14 rows from 2022-08-30T23:08:41.474570000 to 2022-08-31T22:54:52.727400000\u001b[0m\n"
     ]
    },
    {
     "name": "stderr",
     "output_type": "stream",
     "text": [
      "                                                                    \r"
     ]
    },
    {
     "name": "stdout",
     "output_type": "stream",
     "text": [
      "\u001b[2mPreprocessed 5 data for logs in 2022-08-30T01:33:19.402330000 to 2022-08-30T18:39:54.214210000 in 131.99973106384277 ms\u001b[0m\n"
     ]
    },
    {
     "name": "stderr",
     "output_type": "stream",
     "text": [
      "                                                                    \r"
     ]
    },
    {
     "name": "stdout",
     "output_type": "stream",
     "text": [
      "\u001b[2mRolling window complete for djohnson@domain.com in 60.47 ms. Input: 5 rows from 2022-08-31 06:20:09.178836 to 2022-08-31 22:43:42.029787. Output: 6 rows from 2022-08-30T23:49:02.282976000 to 2022-08-31T22:43:42.029787000\u001b[0m\n"
     ]
    },
    {
     "name": "stderr",
     "output_type": "stream",
     "text": [
      "                                                                    \r"
     ]
    },
    {
     "name": "stdout",
     "output_type": "stream",
     "text": [
      "\u001b[2mRolling window complete for jgonzalez@domain.com in 44.23 ms. Input: 4 rows from 2022-08-31 04:30:10.985203 to 2022-08-31 23:19:25.545084. Output: 4 rows from 2022-08-31T04:30:10.985203000 to 2022-08-31T23:19:25.545084000\u001b[0m\n"
     ]
    },
    {
     "name": "stderr",
     "output_type": "stream",
     "text": [
      "                                                                    \r"
     ]
    },
    {
     "name": "stdout",
     "output_type": "stream",
     "text": [
      "\u001b[2mRolling window complete for jmeyers@domain.com in 64.53 ms. Input: 5 rows from 2022-08-31 01:13:31.298799 to 2022-08-31 20:13:01.877714. Output: 5 rows from 2022-08-31T01:13:31.298799000 to 2022-08-31T20:13:01.877714000\u001b[0m\n"
     ]
    },
    {
     "name": "stderr",
     "output_type": "stream",
     "text": [
      "                                                                    \r"
     ]
    },
    {
     "name": "stdout",
     "output_type": "stream",
     "text": [
      "\u001b[2mPreprocessed 2 data for logs in 2022-08-30T05:54:21.257941000 to 2022-08-30T08:11:17.157376000 in 146.6066837310791 ms\u001b[0m\n"
     ]
    },
    {
     "name": "stderr",
     "output_type": "stream",
     "text": [
      "                                                                    \r"
     ]
    },
    {
     "name": "stdout",
     "output_type": "stream",
     "text": [
      "\u001b[2mRolling window complete for jtaylor@domain.com in 45.70 ms. Input: 8 rows from 2022-08-31 00:40:18.664488 to 2022-08-31 19:15:54.087216. Output: 12 rows from 2022-08-30T20:57:14.784182000 to 2022-08-31T19:15:54.087216000\u001b[0m\n"
     ]
    },
    {
     "name": "stderr",
     "output_type": "stream",
     "text": [
      "                                                                    \r"
     ]
    },
    {
     "name": "stdout",
     "output_type": "stream",
     "text": [
      "\u001b[2mRolling window complete for jwatson@domain.com in 52.57 ms. Input: 7 rows from 2022-08-31 00:45:11.336629 to 2022-08-31 22:21:08.584673. Output: 7 rows from 2022-08-31T00:45:11.336629000 to 2022-08-31T22:21:08.584673000\u001b[0m\n"
     ]
    },
    {
     "name": "stderr",
     "output_type": "stream",
     "text": [
      "                                                                    \r"
     ]
    },
    {
     "name": "stdout",
     "output_type": "stream",
     "text": [
      "\u001b[2mRolling window complete for khowell@domain.com in 35.80 ms. Input: 8 rows from 2022-08-31 03:35:26.367587 to 2022-08-31 23:17:42.874154. Output: 8 rows from 2022-08-31T03:35:26.367587000 to 2022-08-31T23:17:42.874154000\u001b[0m\n"
     ]
    },
    {
     "name": "stderr",
     "output_type": "stream",
     "text": [
      "                                                                    \r"
     ]
    },
    {
     "name": "stdout",
     "output_type": "stream",
     "text": [
      "\u001b[2mPreprocessed 9 data for logs in 2022-08-30T07:42:51.522461000 to 2022-08-30T23:03:40.411836000 in 102.64825820922852 ms\u001b[0m\n"
     ]
    },
    {
     "name": "stderr",
     "output_type": "stream",
     "text": [
      "Downloading artifacts: 100%|██████████| 6/6 [00:00<00:00,  6.49it/s]"
     ]
    },
    {
     "name": "stdout",
     "output_type": "stream",
     "text": [
      "\u001b[2mRolling window complete for ksheppard@domain.com in 41.36 ms. Input: 4 rows from 2022-08-31 13:44:00.222145 to 2022-08-31 21:34:47.485540. Output: 5 rows from 2022-08-30T23:03:40.411836000 to 2022-08-31T21:34:47.485540000\u001b[0m\n",
      "\u001b[2mRolling window complete for mmartin@domain.com in 73.88 ms. Input: 5 rows from 2022-08-31 02:15:16.347789 to 2022-08-31 14:42:54.953795. Output: 8 rows from 2022-08-30T20:23:39.816191000 to 2022-08-31T14:42:54.953795000\u001b[0m\n",
      "\u001b[2mPreprocessed 9 data for logs in 2022-08-30T00:50:13.640088000 to 2022-08-30T23:43:17.639540000 in 113.00516128540039 ms\u001b[0m\n",
      "\u001b[2mRolling window complete for rrojas@domain.com in 39.04 ms. Input: 1 rows from 2022-08-31 20:24:29.786977 to 2022-08-31 20:24:29.786977. Output: 1 rows from 2022-08-31T20:24:29.786977000 to 2022-08-31T20:24:29.786977000\u001b[0m\n",
      "\u001b[2mRolling window complete for tprice@domain.com in 79.74 ms. Input: 14 rows from 2022-08-31 01:19:23.476142 to 2022-08-31 23:34:38.002221. Output: 14 rows from 2022-08-31T01:19:23.476142000 to 2022-08-31T23:34:38.002221000\u001b[0m\n",
      "\u001b[2mPreprocessed 1 data for logs in 2022-08-30T08:52:11.647522000 to 2022-08-30T08:52:11.647522000 in 169.12841796875 ms\u001b[0m\n",
      "\u001b[2mRolling window complete for tproctor@domain.com in 80.80 ms. Input: 3 rows from 2022-08-31 04:08:07.249641 to 2022-08-31 23:53:39.607409. Output: 3 rows from 2022-08-31T04:08:07.249641000 to 2022-08-31T23:53:39.607409000\u001b[0m\n",
      "\u001b[2mRolling window complete for vramirez@domain.com in 41.82 ms. Input: 3 rows from 2022-08-31 19:38:39.256240 to 2022-08-31 20:40:37.586442. Output: 3 rows from 2022-08-31T19:38:39.256240000 to 2022-08-31T20:40:37.586442000\u001b[0m\n",
      "\u001b[2mPreprocessed 18 data for logs in 2022-08-30T00:17:54.840684000 to 2022-08-30T21:29:52.981331000 in 92.9574966430664 ms\u001b[0m\n",
      "\u001b[2mPreprocessed 2 data for logs in 2022-08-30T04:41:31.606683000 to 2022-08-30T19:11:59.114436000 in 51.37920379638672 ms\u001b[0m\n",
      "\u001b[2mPreprocessed 2 data for logs in 2022-08-30T14:15:07.746372000 to 2022-08-30T15:29:51.074456000 in 102.13255882263184 ms\u001b[0m\n",
      "\u001b[2mPreprocessed 1 data for logs in 2022-08-31T05:52:54.160038000 to 2022-08-31T05:52:54.160038000 in 44.202566146850586 ms\u001b[0m\n",
      "\u001b[2mPreprocessed 16 data for logs in 2022-08-30T23:58:05.567378000 to 2022-08-31T23:36:39.523067000 in 22.022485733032227 ms\u001b[0m\n",
      "\u001b[2mPreprocessed 106 data for logs in 2022-08-31T00:21:46.153050000 to 2022-08-31T23:54:50.435683000 in 24.67179298400879 ms\u001b[0m\n",
      "\u001b[2mPreprocessed 7 data for logs in 2022-08-31T02:34:42.807200000 to 2022-08-31T21:38:46.557841000 in 23.41747283935547 ms\u001b[0m\n",
      "\u001b[2mPreprocessed 14 data for logs in 2022-08-30T23:08:41.474570000 to 2022-08-31T22:54:52.727400000 in 22.236347198486328 ms\u001b[0m\n",
      "\u001b[2mPreprocessed 6 data for logs in 2022-08-30T23:49:02.282976000 to 2022-08-31T22:43:42.029787000 in 23.621797561645508 ms\u001b[0m\n",
      "\u001b[2mPreprocessed 4 data for logs in 2022-08-31T04:30:10.985203000 to 2022-08-31T23:19:25.545084000 in 26.09992027282715 ms\u001b[0m\n",
      "\u001b[2mPreprocessed 5 data for logs in 2022-08-31T01:13:31.298799000 to 2022-08-31T20:13:01.877714000 in 26.538372039794922 ms\u001b[0m\n",
      "\u001b[2mPreprocessed 12 data for logs in 2022-08-30T20:57:14.784182000 to 2022-08-31T19:15:54.087216000 in 22.324562072753906 ms\u001b[0m\n",
      "\u001b[2mPreprocessed 7 data for logs in 2022-08-31T00:45:11.336629000 to 2022-08-31T22:21:08.584673000 in 52.07991600036621 ms\u001b[0m\n",
      "\u001b[2mPreprocessed 8 data for logs in 2022-08-31T03:35:26.367587000 to 2022-08-31T23:17:42.874154000 in 34.36422348022461 ms\u001b[0m\n",
      "\u001b[2mPreprocessed 5 data for logs in 2022-08-30T23:03:40.411836000 to 2022-08-31T21:34:47.485540000 in 32.01413154602051 ms\u001b[0m\n",
      "\u001b[2mPreprocessed 8 data for logs in 2022-08-30T20:23:39.816191000 to 2022-08-31T14:42:54.953795000 in 33.109426498413086 ms\u001b[0m\n",
      "\u001b[2mPreprocessed 1 data for logs in 2022-08-31T20:24:29.786977000 to 2022-08-31T20:24:29.786977000 in 43.409109115600586 ms\u001b[0m\n",
      "\u001b[2mPreprocessed 14 data for logs in 2022-08-31T01:19:23.476142000 to 2022-08-31T23:34:38.002221000 in 31.792163848876953 ms\u001b[0m\n",
      "\u001b[2mPreprocessed 3 data for logs in 2022-08-31T04:08:07.249641000 to 2022-08-31T23:53:39.607409000 in 32.60493278503418 ms\u001b[0m\n",
      "\u001b[2mPreprocessed 3 data for logs in 2022-08-31T19:38:39.256240000 to 2022-08-31T20:40:37.586442000 in 32.3948860168457 ms\u001b[0m\n",
      "\u001b[2mCompleted inference for user acole@domain.com. Model load: 1335.991621017456 ms, Model infer: 1051.748514175415 ms. Start: 2022-08-30 01:54:26.639083, End: 2022-08-30 23:58:05.567378\u001b[0m\n",
      "\u001b[2mCompleted inference for user attacktarget@domain.com. Model load: 12.600421905517578 ms, Model infer: 191.84255599975586 ms. Start: 2022-08-30 01:23:39.156080, End: 2022-08-30 23:05:47.146155\u001b[0m\n",
      "\u001b[2mCompleted inference for user cfernandez@domain.com. Model load: 10.24937629699707 ms, Model infer: 186.5372657775879 ms. Start: 2022-08-30 05:42:19.778470, End: 2022-08-30 18:59:24.984779\u001b[0m\n",
      "\u001b[2mCompleted inference for user cperry@domain.com. Model load: 8.383035659790039 ms, Model infer: 184.01288986206055 ms. Start: 2022-08-30 00:17:05.561523, End: 2022-08-30 23:08:41.474570\u001b[0m\n",
      "\u001b[2mCompleted inference for user djohnson@domain.com. Model load: 13.266563415527344 ms, Model infer: 186.07568740844727 ms. Start: 2022-08-30 03:48:15.868637, End: 2022-08-30 23:49:02.282976\u001b[0m\n",
      "\u001b[2mCompleted inference for user jgonzalez@domain.com. Model load: 12.961626052856445 ms, Model infer: 181.08606338500977 ms. Start: 2022-08-30 08:20:52.146591, End: 2022-08-30 19:07:44.917975\u001b[0m\n",
      "\u001b[2mCompleted inference for user jmeyers@domain.com. Model load: 12.470483779907227 ms, Model infer: 184.34524536132812 ms. Start: 2022-08-30 03:46:30.304629, End: 2022-08-30 06:53:19.650392\u001b[0m\n",
      "\u001b[2mCompleted inference for user jtaylor@domain.com. Model load: 12.240171432495117 ms, Model infer: 182.7225685119629 ms. Start: 2022-08-30 02:36:39.981855, End: 2022-08-30 23:30:09.312791\u001b[0m\n",
      "\u001b[2mCompleted inference for user jwatson@domain.com. Model load: 12.427806854248047 ms, Model infer: 183.45022201538086 ms. Start: 2022-08-30 01:33:19.402330, End: 2022-08-30 18:39:54.214210\u001b[0m\n",
      "\u001b[2mCompleted inference for user khowell@domain.com. Model load: 12.047767639160156 ms, Model infer: 185.15419960021973 ms. Start: 2022-08-30 05:54:21.257941, End: 2022-08-30 08:11:17.157376\u001b[0m\n",
      "\u001b[2mCompleted inference for user ksheppard@domain.com. Model load: 12.04538345336914 ms, Model infer: 183.63571166992188 ms. Start: 2022-08-30 07:42:51.522461, End: 2022-08-30 23:03:40.411836\u001b[0m\n",
      "\u001b[2mCompleted inference for user mmartin@domain.com. Model load: 12.275934219360352 ms, Model infer: 184.89313125610352 ms. Start: 2022-08-30 00:50:13.640088, End: 2022-08-30 23:43:17.639540\u001b[0m\n",
      "\u001b[2mCompleted inference for user nblack@domain.com. Model load: 12.911796569824219 ms, Model infer: 205.02543449401855 ms. Start: 2022-08-30 08:52:11.647522, End: 2022-08-30 08:52:11.647522\u001b[0m\n",
      "\u001b[2mCompleted inference for user tprice@domain.com. Model load: 12.39919662475586 ms, Model infer: 180.77397346496582 ms. Start: 2022-08-30 00:17:54.840684, End: 2022-08-30 21:29:52.981331\u001b[0m\n",
      "\u001b[2mCompleted inference for user tproctor@domain.com. Model load: 12.869119644165039 ms, Model infer: 179.8262596130371 ms. Start: 2022-08-30 04:41:31.606683, End: 2022-08-30 19:11:59.114436\u001b[0m\n",
      "\u001b[2mCompleted inference for user vramirez@domain.com. Model load: 12.14909553527832 ms, Model infer: 183.55631828308105 ms. Start: 2022-08-30 14:15:07.746372, End: 2022-08-30 15:29:51.074456\u001b[0m\n",
      "\u001b[2mCompleted inference for user aanderson@domain.com. Model load: 11.910676956176758 ms, Model infer: 177.57225036621094 ms. Start: 2022-08-31 05:52:54.160038, End: 2022-08-31 05:52:54.160038\u001b[0m\n",
      "\u001b[2mCompleted inference for user acole@domain.com. Model load: 11.715173721313477 ms, Model infer: 184.0684413909912 ms. Start: 2022-08-30 23:58:05.567378, End: 2022-08-31 23:36:39.523067\u001b[0m\n",
      "\u001b[2mCompleted inference for user attacktarget@domain.com. Model load: 10.66899299621582 ms, Model infer: 186.5091323852539 ms. Start: 2022-08-31 00:21:46.153050, End: 2022-08-31 23:54:50.435683\u001b[0m\n",
      "\u001b[2mCompleted postprocessing for user None in 1.6224384307861328 ms. Event count: 93. Start: 2022-08-31T03:51:46.250270000, End: 2022-08-31T23:54:50.435683000\u001b[0m\n",
      "\u001b[2mCompleted inference for user cfernandez@domain.com. Model load: 11.191606521606445 ms, Model infer: 236.36150360107422 ms. Start: 2022-08-31 02:34:42.807200, End: 2022-08-31 21:38:46.557841\u001b[0m\n",
      "\u001b[2mCompleted inference for user cperry@domain.com. Model load: 12.408018112182617 ms, Model infer: 183.08472633361816 ms. Start: 2022-08-30 23:08:41.474570, End: 2022-08-31 22:54:52.727400\u001b[0m\n",
      "\u001b[2mCompleted inference for user djohnson@domain.com. Model load: 12.216806411743164 ms, Model infer: 182.8782558441162 ms. Start: 2022-08-30 23:49:02.282976, End: 2022-08-31 22:43:42.029787\u001b[0m\n",
      "\u001b[2mCompleted inference for user jgonzalez@domain.com. Model load: 11.995553970336914 ms, Model infer: 181.29920959472656 ms. Start: 2022-08-31 04:30:10.985203, End: 2022-08-31 23:19:25.545084\u001b[0m\n",
      "\u001b[2mCompleted inference for user jmeyers@domain.com. Model load: 10.857582092285156 ms, Model infer: 184.0982437133789 ms. Start: 2022-08-31 01:13:31.298799, End: 2022-08-31 20:13:01.877714\u001b[0m\n",
      "\u001b[2mCompleted inference for user jtaylor@domain.com. Model load: 10.672807693481445 ms, Model infer: 184.45968627929688 ms. Start: 2022-08-30 20:57:14.784182, End: 2022-08-31 19:15:54.087216\u001b[0m\n",
      "\u001b[2mCompleted inference for user jwatson@domain.com. Model load: 12.009382247924805 ms, Model infer: 186.5842342376709 ms. Start: 2022-08-31 00:45:11.336629, End: 2022-08-31 22:21:08.584673\u001b[0m\n",
      "\u001b[2mCompleted inference for user khowell@domain.com. Model load: 11.81483268737793 ms, Model infer: 186.10596656799316 ms. Start: 2022-08-31 03:35:26.367587, End: 2022-08-31 23:17:42.874154\u001b[0m\n",
      "\u001b[2mCompleted inference for user ksheppard@domain.com. Model load: 11.069059371948242 ms, Model infer: 187.80779838562012 ms. Start: 2022-08-30 23:03:40.411836, End: 2022-08-31 21:34:47.485540\u001b[0m\n",
      "\u001b[2mCompleted inference for user mmartin@domain.com. Model load: 10.129928588867188 ms, Model infer: 183.46881866455078 ms. Start: 2022-08-30 20:23:39.816191, End: 2022-08-31 14:42:54.953795\u001b[0m\n",
      "\u001b[2mCompleted inference for user rrojas@domain.com. Model load: 11.035919189453125 ms, Model infer: 179.2163848876953 ms. Start: 2022-08-31 20:24:29.786977, End: 2022-08-31 20:24:29.786977\u001b[0m\n",
      "\u001b[2mCompleted inference for user tprice@domain.com. Model load: 10.176658630371094 ms, Model infer: 183.10117721557617 ms. Start: 2022-08-31 01:19:23.476142, End: 2022-08-31 23:34:38.002221\u001b[0m\n",
      "\u001b[2mCompleted inference for user tproctor@domain.com. Model load: 11.275053024291992 ms, Model infer: 182.53850936889648 ms. Start: 2022-08-31 04:08:07.249641, End: 2022-08-31 23:53:39.607409\u001b[0m\n",
      "\u001b[2mCompleted inference for user vramirez@domain.com. Model load: 10.632038116455078 ms, Model infer: 181.90455436706543 ms. Start: 2022-08-31 19:38:39.256240, End: 2022-08-31 20:40:37.586442\u001b[0m\n",
      "====Pipeline Complete====\u001b[0m\n"
     ]
    }
   ],
   "source": [
    "# Create a linear pipeline object\n",
    "pipeline = LinearPipeline(config)\n",
    "\n",
    "# Source stage\n",
    "pipeline.set_source(MultiFileSource(config, filenames=input_files))\n",
    "\n",
    "# Batch files into batches by time. Use the default ISO date extractor from the filename\n",
    "pipeline.add_stage(\n",
    "    DFPFileBatcherStage(config,\n",
    "                        period=\"D\",\n",
    "                        date_conversion_func=functools.partial(date_extractor, filename_regex=iso_date_regex)))\n",
    "\n",
    "# Output is a list of fsspec files. Convert to DataFrames. This caches downloaded data\n",
    "pipeline.add_stage(\n",
    "    DFPFileToDataFrameStage(config,\n",
    "                            schema=source_schema,\n",
    "                            file_type=FileTypes.JSON,\n",
    "                            parser_kwargs={\n",
    "                                \"lines\": False, \"orient\": \"records\"\n",
    "                            },\n",
    "                            cache_dir=cache_dir))\n",
    "\n",
    "\n",
    "# This will split users or just use one single user\n",
    "pipeline.add_stage(\n",
    "    DFPSplitUsersStage(config,\n",
    "                        include_generic=include_generic,\n",
    "                        include_individual=include_individual,\n",
    "                        skip_users=skip_users))\n",
    "\n",
    "# Next, have a stage that will create rolling windows\n",
    "pipeline.add_stage(\n",
    "    DFPRollingWindowStage(\n",
    "        config,\n",
    "        min_history=300 if is_training else 1,\n",
    "        min_increment=300 if is_training else 0,\n",
    "        # For inference, we only ever want 1 day max\n",
    "        max_history=\"60d\" if is_training else \"1d\",\n",
    "        cache_dir=cache_dir))\n",
    "\n",
    "# Output is UserMessageMeta -- Cached frame set\n",
    "pipeline.add_stage(DFPPreprocessingStage(config, input_schema=preprocess_schema))\n",
    "\n",
    "# Perform inference on the preprocessed data\n",
    "pipeline.add_stage(DFPInferenceStage(config, model_name_formatter=model_name_formatter))\n",
    "\n",
    "# Filter for only the anomalous logs\n",
    "pipeline.add_stage(\n",
    "            FilterDetectionsStage(config, threshold=2.0, filter_source=FilterSource.DATAFRAME, field_name='mean_abs_z'))\n",
    "pipeline.add_stage(DFPPostprocessingStage(config))\n",
    "\n",
    "# Exclude the columns we don't want in our output\n",
    "pipeline.add_stage(SerializeStage(config, exclude=['batch_count', 'origin_hash', '_row_hash', '_batch_id']))\n",
    "\n",
    "# Write all anomalies to a CSV file\n",
    "pipeline.add_stage(WriteToFileStage(config, filename=\"dfp_detections_azure.csv\", overwrite=True))\n",
    "\n",
    "# Run the pipeline\n",
    "await pipeline.run_async()\n"
   ]
  },
  {
   "cell_type": "code",
   "execution_count": null,
   "id": "39971052-6211-4bfe-82d8-88f5845562bc",
   "metadata": {},
   "outputs": [],
   "source": []
  }
 ],
 "metadata": {
  "kernelspec": {
   "display_name": "morpheus",
   "language": "python",
   "name": "python3"
  },
  "language_info": {
   "codemirror_mode": {
    "name": "ipython",
    "version": 3
   },
   "file_extension": ".py",
   "mimetype": "text/x-python",
   "name": "python",
   "nbconvert_exporter": "python",
   "pygments_lexer": "ipython3",
   "version": "3.10.14"
  }
 },
 "nbformat": 4,
 "nbformat_minor": 5
}
